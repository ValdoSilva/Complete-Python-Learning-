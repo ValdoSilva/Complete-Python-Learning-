{
 "cells": [
  {
   "cell_type": "code",
   "execution_count": 1,
   "id": "b03d386a",
   "metadata": {},
   "outputs": [
    {
     "name": "stdout",
     "output_type": "stream",
     "text": [
      "Hello\n"
     ]
    }
   ],
   "source": [
    "print(\"Hello\")"
   ]
  },
  {
   "cell_type": "code",
   "execution_count": 2,
   "id": "f897f232",
   "metadata": {},
   "outputs": [
    {
     "name": "stdout",
     "output_type": "stream",
     "text": [
      "enter\n"
     ]
    }
   ],
   "source": [
    "print('enter')"
   ]
  },
  {
   "cell_type": "markdown",
   "id": "816f7893",
   "metadata": {},
   "source": [
    "Normal text as explanation"
   ]
  },
  {
   "cell_type": "code",
   "execution_count": 2,
   "id": "e062182b",
   "metadata": {},
   "outputs": [
    {
     "name": "stdout",
     "output_type": "stream",
     "text": [
      "2\n"
     ]
    }
   ],
   "source": [
    "my_dog = 2\n",
    "print(my_dog)"
   ]
  },
  {
   "cell_type": "code",
   "execution_count": 3,
   "id": "4377fdb3",
   "metadata": {},
   "outputs": [],
   "source": [
    "a = 2\n"
   ]
  },
  {
   "cell_type": "code",
   "execution_count": 4,
   "id": "ac28cd56",
   "metadata": {},
   "outputs": [
    {
     "data": {
      "text/plain": [
       "2"
      ]
     },
     "execution_count": 4,
     "metadata": {},
     "output_type": "execute_result"
    }
   ],
   "source": [
    "a"
   ]
  },
  {
   "cell_type": "code",
   "execution_count": 5,
   "id": "ed856c28",
   "metadata": {},
   "outputs": [
    {
     "data": {
      "text/plain": [
       "int"
      ]
     },
     "execution_count": 5,
     "metadata": {},
     "output_type": "execute_result"
    }
   ],
   "source": [
    "type(a)"
   ]
  },
  {
   "cell_type": "code",
   "execution_count": 6,
   "id": "55966dd6",
   "metadata": {},
   "outputs": [],
   "source": [
    "a = 3.10"
   ]
  },
  {
   "cell_type": "code",
   "execution_count": 7,
   "id": "c6d0400c",
   "metadata": {},
   "outputs": [
    {
     "data": {
      "text/plain": [
       "3.1"
      ]
     },
     "execution_count": 7,
     "metadata": {},
     "output_type": "execute_result"
    }
   ],
   "source": [
    "a "
   ]
  },
  {
   "cell_type": "code",
   "execution_count": 8,
   "id": "513fe59a",
   "metadata": {},
   "outputs": [
    {
     "data": {
      "text/plain": [
       "float"
      ]
     },
     "execution_count": 8,
     "metadata": {},
     "output_type": "execute_result"
    }
   ],
   "source": [
    "type(a)"
   ]
  },
  {
   "cell_type": "code",
   "execution_count": 10,
   "id": "d07bbfb1",
   "metadata": {},
   "outputs": [],
   "source": [
    "my_income = 100\n",
    "tax_rate = 0.1\n",
    "my_taxes = my_income * tax_rate\n"
   ]
  },
  {
   "cell_type": "code",
   "execution_count": 13,
   "id": "1de6d61d",
   "metadata": {},
   "outputs": [
    {
     "name": "stdout",
     "output_type": "stream",
     "text": [
      "10\n"
     ]
    }
   ],
   "source": [
    "print(int(my_taxes))"
   ]
  },
  {
   "cell_type": "markdown",
   "id": "7894a158",
   "metadata": {},
   "source": [
    "Change string into list and then slice them to get character that you want and then change the result back to string "
   ]
  },
  {
   "cell_type": "code",
   "execution_count": 20,
   "id": "48947424",
   "metadata": {},
   "outputs": [
    {
     "name": "stdout",
     "output_type": "stream",
     "text": [
      "s\n"
     ]
    }
   ],
   "source": [
    "my_char = \"Elisabeth\"\n",
    "print(my_char[3:4])"
   ]
  },
  {
   "cell_type": "code",
   "execution_count": 27,
   "id": "e1444d4d",
   "metadata": {},
   "outputs": [
    {
     "data": {
      "text/plain": [
       "str"
      ]
     },
     "execution_count": 27,
     "metadata": {},
     "output_type": "execute_result"
    }
   ],
   "source": [
    "for str in my_char"
   ]
  },
  {
   "cell_type": "code",
   "execution_count": 22,
   "id": "b6735643",
   "metadata": {},
   "outputs": [
    {
     "name": "stdout",
     "output_type": "stream",
     "text": [
      "Elisabeth\n"
     ]
    }
   ],
   "source": [
    "print(my_char)"
   ]
  },
  {
   "cell_type": "code",
   "execution_count": 28,
   "id": "78c32e43",
   "metadata": {},
   "outputs": [
    {
     "data": {
      "text/plain": [
       "\"this isn't going to work \""
      ]
     },
     "execution_count": 28,
     "metadata": {},
     "output_type": "execute_result"
    }
   ],
   "source": [
    "\"this isn't going to work \""
   ]
  },
  {
   "cell_type": "code",
   "execution_count": 29,
   "id": "3ba5de15",
   "metadata": {},
   "outputs": [
    {
     "data": {
      "text/plain": [
       "'I am gonna finish this course'"
      ]
     },
     "execution_count": 29,
     "metadata": {},
     "output_type": "execute_result"
    }
   ],
   "source": [
    "\"I am gonna finish this course\""
   ]
  },
  {
   "cell_type": "code",
   "execution_count": 30,
   "id": "9dd9502f",
   "metadata": {},
   "outputs": [
    {
     "name": "stdout",
     "output_type": "stream",
     "text": [
      "valdo\n"
     ]
    }
   ],
   "source": [
    "print(\"valdo\")"
   ]
  },
  {
   "cell_type": "code",
   "execution_count": 31,
   "id": "f4678e90",
   "metadata": {},
   "outputs": [
    {
     "name": "stdout",
     "output_type": "stream",
     "text": [
      "Hello \n",
      "WOrld\n"
     ]
    }
   ],
   "source": [
    "print(\"Hello \\nWOrld\")"
   ]
  },
  {
   "cell_type": "code",
   "execution_count": 32,
   "id": "992dae9e",
   "metadata": {},
   "outputs": [
    {
     "data": {
      "text/plain": [
       "29"
      ]
     },
     "execution_count": 32,
     "metadata": {},
     "output_type": "execute_result"
    }
   ],
   "source": [
    "len(\"I am gonna finish this course\")"
   ]
  },
  {
   "cell_type": "markdown",
   "id": "dc2422c6",
   "metadata": {},
   "source": [
    "Indexing"
   ]
  },
  {
   "cell_type": "code",
   "execution_count": 33,
   "id": "e4f94b23",
   "metadata": {},
   "outputs": [
    {
     "data": {
      "text/plain": [
       "'g'"
      ]
     },
     "execution_count": 33,
     "metadata": {},
     "output_type": "execute_result"
    }
   ],
   "source": [
    "my_indexing = \"I am gonna finish this course\"\n",
    "my_indexing[5]"
   ]
  },
  {
   "cell_type": "code",
   "execution_count": 34,
   "id": "645840e0",
   "metadata": {},
   "outputs": [
    {
     "data": {
      "text/plain": [
       "'i'"
      ]
     },
     "execution_count": 34,
     "metadata": {},
     "output_type": "execute_result"
    }
   ],
   "source": [
    "my_indexing[12]"
   ]
  },
  {
   "cell_type": "markdown",
   "id": "a7853fcd",
   "metadata": {},
   "source": [
    "Reverse indexing "
   ]
  },
  {
   "cell_type": "code",
   "execution_count": 35,
   "id": "ca526b06",
   "metadata": {},
   "outputs": [
    {
     "data": {
      "text/plain": [
       "'e'"
      ]
     },
     "execution_count": 35,
     "metadata": {},
     "output_type": "execute_result"
    }
   ],
   "source": [
    "my_indexing[-1]"
   ]
  },
  {
   "cell_type": "code",
   "execution_count": 36,
   "id": "f7df43d7",
   "metadata": {},
   "outputs": [
    {
     "data": {
      "text/plain": [
       "'i'"
      ]
     },
     "execution_count": 36,
     "metadata": {},
     "output_type": "execute_result"
    }
   ],
   "source": [
    "my_indexing[-9]"
   ]
  },
  {
   "cell_type": "markdown",
   "id": "01f69b99",
   "metadata": {},
   "source": [
    "Slicing = define sub-section of the string"
   ]
  },
  {
   "cell_type": "code",
   "execution_count": 37,
   "id": "3a31ad0c",
   "metadata": {},
   "outputs": [
    {
     "data": {
      "text/plain": [
       "'I am gonna finish this course'"
      ]
     },
     "execution_count": 37,
     "metadata": {},
     "output_type": "execute_result"
    }
   ],
   "source": [
    "my_indexing"
   ]
  },
  {
   "cell_type": "code",
   "execution_count": 39,
   "id": "c2e55423",
   "metadata": {},
   "outputs": [
    {
     "data": {
      "text/plain": [
       "'nis'"
      ]
     },
     "execution_count": 39,
     "metadata": {},
     "output_type": "execute_result"
    }
   ],
   "source": [
    "my_indexing[13:16]"
   ]
  },
  {
   "cell_type": "markdown",
   "id": "69c5a20d",
   "metadata": {},
   "source": [
    "reverse slicing"
   ]
  },
  {
   "cell_type": "code",
   "execution_count": 46,
   "id": "5a3bd4e7",
   "metadata": {},
   "outputs": [
    {
     "data": {
      "text/plain": [
       "'nis'"
      ]
     },
     "execution_count": 46,
     "metadata": {},
     "output_type": "execute_result"
    }
   ],
   "source": [
    "my_indexing[-16:-13]"
   ]
  },
  {
   "cell_type": "markdown",
   "id": "450dad99",
   "metadata": {},
   "source": [
    "position 4 to all "
   ]
  },
  {
   "cell_type": "code",
   "execution_count": 52,
   "id": "d82922b8",
   "metadata": {},
   "outputs": [
    {
     "data": {
      "text/plain": [
       "'onna finish this course'"
      ]
     },
     "execution_count": 52,
     "metadata": {},
     "output_type": "execute_result"
    }
   ],
   "source": [
    "my_indexing[6:] #grab from 6th to all "
   ]
  },
  {
   "cell_type": "code",
   "execution_count": 53,
   "id": "ef7fae29",
   "metadata": {},
   "outputs": [
    {
     "data": {
      "text/plain": [
       "'I am'"
      ]
     },
     "execution_count": 53,
     "metadata": {},
     "output_type": "execute_result"
    }
   ],
   "source": [
    "my_indexing[:4] #grab all up to fourth potition but not included"
   ]
  },
  {
   "cell_type": "code",
   "execution_count": 55,
   "id": "650dc49b",
   "metadata": {},
   "outputs": [
    {
     "data": {
      "text/plain": [
       "'I am gonna finish this course'"
      ]
     },
     "execution_count": 55,
     "metadata": {},
     "output_type": "execute_result"
    }
   ],
   "source": [
    "my_indexing[:] #grab all "
   ]
  },
  {
   "cell_type": "code",
   "execution_count": 59,
   "id": "707f2f97",
   "metadata": {},
   "outputs": [
    {
     "data": {
      "text/plain": [
       "'esruoc siht hsinif annog ma I'"
      ]
     },
     "execution_count": 59,
     "metadata": {},
     "output_type": "execute_result"
    }
   ],
   "source": [
    "my_indexing[::-1] #backward "
   ]
  },
  {
   "cell_type": "code",
   "execution_count": 60,
   "id": "93b55942",
   "metadata": {},
   "outputs": [
    {
     "data": {
      "text/plain": [
       "'Ia on iihti ore'"
      ]
     },
     "execution_count": 60,
     "metadata": {},
     "output_type": "execute_result"
    }
   ],
   "source": [
    "my_indexing[::2]"
   ]
  },
  {
   "cell_type": "code",
   "execution_count": 61,
   "id": "81c3ac30",
   "metadata": {},
   "outputs": [],
   "source": [
    "my_indexing=\"valdo\""
   ]
  },
  {
   "cell_type": "code",
   "execution_count": 63,
   "id": "e7054f86",
   "metadata": {},
   "outputs": [
    {
     "data": {
      "text/plain": [
       "'ad'"
      ]
     },
     "execution_count": 63,
     "metadata": {},
     "output_type": "execute_result"
    }
   ],
   "source": [
    "my_indexing[1:4:2] # 1: grab 1st position to all = \"a\"\n",
    "# :4 grab all up to fourt position but not included = \"ald\"\n",
    "#:2 two jump slice = \"ad\""
   ]
  },
  {
   "cell_type": "markdown",
   "id": "72be375f",
   "metadata": {},
   "source": [
    "String properties and string method"
   ]
  },
  {
   "cell_type": "code",
   "execution_count": 68,
   "id": "9f944ea3",
   "metadata": {},
   "outputs": [],
   "source": [
    "# Concatination \n",
    "name = \"Elizabeth\" #change Z to s \"Elisabeth\" using slicing and indexing\n",
    "first_slice = name[:3]\n",
    "second_slice = name[4:]"
   ]
  },
  {
   "cell_type": "code",
   "execution_count": 71,
   "id": "7bc5f575",
   "metadata": {},
   "outputs": [
    {
     "name": "stdout",
     "output_type": "stream",
     "text": [
      "Elisabeth\n"
     ]
    }
   ],
   "source": [
    "full_name = first_slice + \"s\" + second_slice\n",
    "print(full_name)"
   ]
  },
  {
   "cell_type": "code",
   "execution_count": 1,
   "id": "4b78ad31",
   "metadata": {},
   "outputs": [
    {
     "data": {
      "text/plain": [
       "'HELLO WORLD'"
      ]
     },
     "execution_count": 1,
     "metadata": {},
     "output_type": "execute_result"
    }
   ],
   "source": [
    "x = \"Hello World\"\n",
    "x.upper()"
   ]
  },
  {
   "cell_type": "code",
   "execution_count": 3,
   "id": "f2311db6",
   "metadata": {},
   "outputs": [
    {
     "data": {
      "text/plain": [
       "['Hello', 'World']"
      ]
     },
     "execution_count": 3,
     "metadata": {},
     "output_type": "execute_result"
    }
   ],
   "source": [
    "x.split() "
   ]
  },
  {
   "cell_type": "code",
   "execution_count": 5,
   "id": "4a2add15",
   "metadata": {},
   "outputs": [
    {
     "data": {
      "text/plain": [
       "['He', '', 'o Wor', 'd']"
      ]
     },
     "execution_count": 5,
     "metadata": {},
     "output_type": "execute_result"
    }
   ],
   "source": [
    "x.split(\"l\") # split specific word"
   ]
  },
  {
   "cell_type": "markdown",
   "id": "f0ba8c7a",
   "metadata": {},
   "source": [
    "String formatting for printing "
   ]
  },
  {
   "cell_type": "code",
   "execution_count": 21,
   "id": "77fcf116",
   "metadata": {},
   "outputs": [
    {
     "name": "stdout",
     "output_type": "stream",
     "text": [
      "valdo is nickname my\n"
     ]
    }
   ],
   "source": [
    "# There are many ways of printing string and one them is .format{}\n",
    "\n",
    "my_name= \"valdo\"\n",
    "print(my_name + \" {} {} {}\".format(\"is\", \"my\",\"nickname\")) "
   ]
  },
  {
   "cell_type": "code",
   "execution_count": 22,
   "id": "8ac97172",
   "metadata": {},
   "outputs": [
    {
     "name": "stdout",
     "output_type": "stream",
     "text": [
      "valdo my nickname is\n"
     ]
    }
   ],
   "source": [
    "print(my_name + \" {1} {2} {0}\".format(\"is\", \"my\",\"nickname\")) # assigned each index position into {}"
   ]
  },
  {
   "cell_type": "code",
   "execution_count": 23,
   "id": "951401d4",
   "metadata": {},
   "outputs": [
    {
     "name": "stdout",
     "output_type": "stream",
     "text": [
      "The quick brown fox\n"
     ]
    }
   ],
   "source": [
    "print(\"The {} {} {}\".format(\"quick\", \"brown\", \"fox\")) # other ways to write "
   ]
  },
  {
   "cell_type": "code",
   "execution_count": 24,
   "id": "8f62c70d",
   "metadata": {},
   "outputs": [
    {
     "name": "stdout",
     "output_type": "stream",
     "text": [
      "The fox brown quick\n"
     ]
    }
   ],
   "source": [
    "print(\"The {2} {1} {0}\".format(\"quick\", \"brown\", \"fox\")) #another option "
   ]
  },
  {
   "cell_type": "code",
   "execution_count": 25,
   "id": "54958f8d",
   "metadata": {},
   "outputs": [
    {
     "name": "stdout",
     "output_type": "stream",
     "text": [
      "The fox quick brown\n"
     ]
    }
   ],
   "source": [
    "print(\"The {f} {q} {b}\".format(q=\"quick\", b=\"brown\", f=\"fox\")) #another option"
   ]
  },
  {
   "cell_type": "markdown",
   "id": "66056cac",
   "metadata": {},
   "source": [
    "Float Formatting \"{value:width.precision f}\""
   ]
  },
  {
   "cell_type": "code",
   "execution_count": 26,
   "id": "1bea81be",
   "metadata": {},
   "outputs": [],
   "source": [
    "my_integer = 37/89"
   ]
  },
  {
   "cell_type": "code",
   "execution_count": 27,
   "id": "df9a56a6",
   "metadata": {},
   "outputs": [
    {
     "name": "stdout",
     "output_type": "stream",
     "text": [
      "0.4157303370786517\n"
     ]
    }
   ],
   "source": [
    "print(my_integer)"
   ]
  },
  {
   "cell_type": "code",
   "execution_count": 38,
   "id": "6394a1a9",
   "metadata": {},
   "outputs": [
    {
     "name": "stdout",
     "output_type": "stream",
     "text": [
      "The result is: 0.416\n"
     ]
    }
   ],
   "source": [
    "print(\"The result is: {result:2.3f}\".format(result = my_integer)) \n",
    "# value is from .format\n",
    "# width is the space between string and the result\n",
    "# precision f is floating point value"
   ]
  },
  {
   "cell_type": "code",
   "execution_count": 47,
   "id": "a0c8e1ec",
   "metadata": {},
   "outputs": [
    {
     "name": "stdout",
     "output_type": "stream",
     "text": [
      "The result is: 105.4329843\n"
     ]
    }
   ],
   "source": [
    "number = 105.4329843\n",
    "print(\"The result is: {result:1.7f}\".format(result = number)) "
   ]
  },
  {
   "cell_type": "code",
   "execution_count": null,
   "id": "1b12b7f1",
   "metadata": {},
   "outputs": [],
   "source": []
  },
  {
   "cell_type": "code",
   "execution_count": null,
   "id": "94581871",
   "metadata": {},
   "outputs": [],
   "source": []
  },
  {
   "cell_type": "markdown",
   "id": "6144f5d5",
   "metadata": {},
   "source": [
    "Formating string litteral "
   ]
  },
  {
   "cell_type": "code",
   "execution_count": 49,
   "id": "0861f8c7",
   "metadata": {},
   "outputs": [],
   "source": [
    "name = \"Valdo\""
   ]
  },
  {
   "cell_type": "code",
   "execution_count": 54,
   "id": "df67d2c0",
   "metadata": {},
   "outputs": [
    {
     "name": "stdout",
     "output_type": "stream",
     "text": [
      "My name is Valdo\n",
      "His name is Valdo\n"
     ]
    }
   ],
   "source": [
    "print(\"My name is {}\".format(name))# using .format\n",
    "print(f\"His name is {name}\") # using formatting literal"
   ]
  },
  {
   "cell_type": "code",
   "execution_count": 55,
   "id": "798835f3",
   "metadata": {},
   "outputs": [],
   "source": [
    "age = 34"
   ]
  },
  {
   "cell_type": "code",
   "execution_count": 56,
   "id": "db1653d8",
   "metadata": {},
   "outputs": [
    {
     "name": "stdout",
     "output_type": "stream",
     "text": [
      "My name is Valdo and I am 34 years old. \n"
     ]
    }
   ],
   "source": [
    "print(f\"My name is {name} and I am {age} years old. \")"
   ]
  },
  {
   "cell_type": "code",
   "execution_count": 71,
   "id": "7630b911",
   "metadata": {},
   "outputs": [
    {
     "name": "stdout",
     "output_type": "stream",
     "text": [
      "Lisa      \n",
      "Lisa______\n",
      "___Lisa___\n",
      "______Lisa\n",
      "Li\n"
     ]
    }
   ],
   "source": [
    "name = \"Lisa\"\n",
    "print(\"{:10}\".format(name))\n",
    "print(\"{:_<10}\".format(name))\n",
    "print(\"{:_^10}\".format(name))\n",
    "print(\"{:_>10}\".format(name))\n",
    "print(\"{:.2}\".format(name))"
   ]
  },
  {
   "cell_type": "code",
   "execution_count": null,
   "id": "215cd2a3",
   "metadata": {},
   "outputs": [],
   "source": []
  },
  {
   "cell_type": "code",
   "execution_count": null,
   "id": "f451c325",
   "metadata": {},
   "outputs": [],
   "source": []
  },
  {
   "cell_type": "code",
   "execution_count": null,
   "id": "4d96eea7",
   "metadata": {},
   "outputs": [],
   "source": []
  },
  {
   "cell_type": "code",
   "execution_count": null,
   "id": "0a9cae12",
   "metadata": {},
   "outputs": [],
   "source": []
  },
  {
   "cell_type": "markdown",
   "id": "098c0173",
   "metadata": {},
   "source": [
    "List in python \n",
    "Ordered sequence using bracket [ ] and commas to separate objects in the list\n",
    "\n",
    "Can be sliced and indexed"
   ]
  },
  {
   "cell_type": "code",
   "execution_count": 74,
   "id": "ee2fb29a",
   "metadata": {},
   "outputs": [],
   "source": [
    "my_list = ['valdo', 5 , \"lisa\", 34.10] #python list can hold any data types"
   ]
  },
  {
   "cell_type": "code",
   "execution_count": 73,
   "id": "6b29a28c",
   "metadata": {},
   "outputs": [
    {
     "name": "stdout",
     "output_type": "stream",
     "text": [
      "['valdo', 5, 'lisa', 34.1]\n"
     ]
    }
   ],
   "source": [
    "print(my_list)"
   ]
  },
  {
   "cell_type": "code",
   "execution_count": 75,
   "id": "2b5fe24e",
   "metadata": {},
   "outputs": [
    {
     "data": {
      "text/plain": [
       "4"
      ]
     },
     "execution_count": 75,
     "metadata": {},
     "output_type": "execute_result"
    }
   ],
   "source": [
    "len(my_list)"
   ]
  },
  {
   "cell_type": "markdown",
   "id": "6b537fe3",
   "metadata": {},
   "source": [
    "slice and indexing on list much more similar to string slice and indexing"
   ]
  },
  {
   "cell_type": "code",
   "execution_count": 76,
   "id": "4a78e821",
   "metadata": {},
   "outputs": [
    {
     "name": "stdout",
     "output_type": "stream",
     "text": [
      "['valdo', 5, 'lisa', 34.1]\n"
     ]
    }
   ],
   "source": [
    "print(my_list)"
   ]
  },
  {
   "cell_type": "code",
   "execution_count": 77,
   "id": "91dc1c4d",
   "metadata": {},
   "outputs": [
    {
     "data": {
      "text/plain": [
       "5"
      ]
     },
     "execution_count": 77,
     "metadata": {},
     "output_type": "execute_result"
    }
   ],
   "source": [
    "my_list[1]"
   ]
  },
  {
   "cell_type": "code",
   "execution_count": 78,
   "id": "e71e6ae8",
   "metadata": {},
   "outputs": [
    {
     "data": {
      "text/plain": [
       "'valdo'"
      ]
     },
     "execution_count": 78,
     "metadata": {},
     "output_type": "execute_result"
    }
   ],
   "source": [
    "my_list[0]"
   ]
  },
  {
   "cell_type": "code",
   "execution_count": 80,
   "id": "45118e9e",
   "metadata": {},
   "outputs": [
    {
     "name": "stdout",
     "output_type": "stream",
     "text": [
      "valdo and lisa been living together for 5 years.\n"
     ]
    }
   ],
   "source": [
    "print(my_list[0] + \" and \" + my_list[2] + \" been {1} together for {0} years.\".format(my_list[1], \"living\"))"
   ]
  },
  {
   "cell_type": "code",
   "execution_count": 81,
   "id": "eaec9f79",
   "metadata": {},
   "outputs": [
    {
     "data": {
      "text/plain": [
       "['valdo', 5, 'lisa', 34.1]"
      ]
     },
     "execution_count": 81,
     "metadata": {},
     "output_type": "execute_result"
    }
   ],
   "source": [
    "my_list"
   ]
  },
  {
   "cell_type": "code",
   "execution_count": 82,
   "id": "f83469e6",
   "metadata": {},
   "outputs": [
    {
     "data": {
      "text/plain": [
       "['lisa', 34.1]"
      ]
     },
     "execution_count": 82,
     "metadata": {},
     "output_type": "execute_result"
    }
   ],
   "source": [
    "my_list[2:]"
   ]
  },
  {
   "cell_type": "code",
   "execution_count": 83,
   "id": "6ab0b62d",
   "metadata": {},
   "outputs": [],
   "source": [
    "my_list[0]=\"VALDO\""
   ]
  },
  {
   "cell_type": "code",
   "execution_count": 84,
   "id": "8fecd452",
   "metadata": {},
   "outputs": [
    {
     "data": {
      "text/plain": [
       "['VALDO', 5, 'lisa', 34.1]"
      ]
     },
     "execution_count": 84,
     "metadata": {},
     "output_type": "execute_result"
    }
   ],
   "source": [
    "my_list"
   ]
  },
  {
   "cell_type": "code",
   "execution_count": null,
   "id": "96c28ad3",
   "metadata": {},
   "outputs": [],
   "source": []
  },
  {
   "cell_type": "markdown",
   "id": "591fed61",
   "metadata": {},
   "source": [
    "Add element on the list"
   ]
  },
  {
   "cell_type": "code",
   "execution_count": 86,
   "id": "1f89bff7",
   "metadata": {},
   "outputs": [
    {
     "data": {
      "text/plain": [
       "['VALDO', 5, 'lisa', 34.1]"
      ]
     },
     "execution_count": 86,
     "metadata": {},
     "output_type": "execute_result"
    }
   ],
   "source": [
    "my_list"
   ]
  },
  {
   "cell_type": "code",
   "execution_count": 94,
   "id": "40f0e017",
   "metadata": {},
   "outputs": [],
   "source": [
    "my_list.append(\"Cambridge\") #add another element at the very end of the list"
   ]
  },
  {
   "cell_type": "code",
   "execution_count": 95,
   "id": "b9613b06",
   "metadata": {},
   "outputs": [
    {
     "data": {
      "text/plain": [
       "['VALDO', 5, 'lisa', 34.1, 'Cambridge']"
      ]
     },
     "execution_count": 95,
     "metadata": {},
     "output_type": "execute_result"
    }
   ],
   "source": [
    "my_list"
   ]
  },
  {
   "cell_type": "code",
   "execution_count": 96,
   "id": "7ee627bf",
   "metadata": {},
   "outputs": [],
   "source": [
    "my_list.append(29)"
   ]
  },
  {
   "cell_type": "code",
   "execution_count": 90,
   "id": "41fb8c33",
   "metadata": {},
   "outputs": [
    {
     "data": {
      "text/plain": [
       "['VALDO', 5, 'lisa', 34.1, 'Cambridge', 29]"
      ]
     },
     "execution_count": 90,
     "metadata": {},
     "output_type": "execute_result"
    }
   ],
   "source": [
    "my_list"
   ]
  },
  {
   "cell_type": "code",
   "execution_count": null,
   "id": "8eb23315",
   "metadata": {},
   "outputs": [],
   "source": []
  },
  {
   "cell_type": "code",
   "execution_count": null,
   "id": "a0bcdc2e",
   "metadata": {},
   "outputs": [],
   "source": []
  },
  {
   "cell_type": "markdown",
   "id": "911728b8",
   "metadata": {},
   "source": [
    "remove element from the list "
   ]
  },
  {
   "cell_type": "code",
   "execution_count": 97,
   "id": "4852265f",
   "metadata": {},
   "outputs": [
    {
     "data": {
      "text/plain": [
       "29"
      ]
     },
     "execution_count": 97,
     "metadata": {},
     "output_type": "execute_result"
    }
   ],
   "source": [
    "my_list.pop() #remove last element in this case integer 29"
   ]
  },
  {
   "cell_type": "code",
   "execution_count": 98,
   "id": "327282a9",
   "metadata": {},
   "outputs": [
    {
     "data": {
      "text/plain": [
       "['VALDO', 5, 'lisa', 34.1, 'Cambridge']"
      ]
     },
     "execution_count": 98,
     "metadata": {},
     "output_type": "execute_result"
    }
   ],
   "source": [
    "my_list"
   ]
  },
  {
   "cell_type": "code",
   "execution_count": 101,
   "id": "65110312",
   "metadata": {},
   "outputs": [
    {
     "data": {
      "text/plain": [
       "34.1"
      ]
     },
     "execution_count": 101,
     "metadata": {},
     "output_type": "execute_result"
    }
   ],
   "source": [
    "my_list.pop(3) #remove element using index in this case the third index position"
   ]
  },
  {
   "cell_type": "code",
   "execution_count": 102,
   "id": "e1320c96",
   "metadata": {},
   "outputs": [
    {
     "data": {
      "text/plain": [
       "['VALDO', 5, 'lisa', 'Cambridge']"
      ]
     },
     "execution_count": 102,
     "metadata": {},
     "output_type": "execute_result"
    }
   ],
   "source": [
    "my_list"
   ]
  },
  {
   "cell_type": "code",
   "execution_count": 103,
   "id": "5db03c13",
   "metadata": {},
   "outputs": [],
   "source": [
    "new_list = my_list.pop()"
   ]
  },
  {
   "cell_type": "code",
   "execution_count": 104,
   "id": "fc9bc196",
   "metadata": {},
   "outputs": [
    {
     "data": {
      "text/plain": [
       "'Cambridge'"
      ]
     },
     "execution_count": 104,
     "metadata": {},
     "output_type": "execute_result"
    }
   ],
   "source": [
    "new_list"
   ]
  },
  {
   "cell_type": "code",
   "execution_count": 105,
   "id": "b5a5c013",
   "metadata": {},
   "outputs": [
    {
     "data": {
      "text/plain": [
       "['VALDO', 5, 'lisa']"
      ]
     },
     "execution_count": 105,
     "metadata": {},
     "output_type": "execute_result"
    }
   ],
   "source": [
    "my_list"
   ]
  },
  {
   "cell_type": "code",
   "execution_count": 106,
   "id": "e1ea0244",
   "metadata": {},
   "outputs": [
    {
     "data": {
      "text/plain": [
       "'Cambridge'"
      ]
     },
     "execution_count": 106,
     "metadata": {},
     "output_type": "execute_result"
    }
   ],
   "source": [
    "new_list"
   ]
  },
  {
   "cell_type": "code",
   "execution_count": 107,
   "id": "ec8efc86",
   "metadata": {},
   "outputs": [
    {
     "data": {
      "text/plain": [
       "'Cambridge'"
      ]
     },
     "execution_count": 107,
     "metadata": {},
     "output_type": "execute_result"
    }
   ],
   "source": [
    "new_list"
   ]
  },
  {
   "cell_type": "code",
   "execution_count": 108,
   "id": "d6cacabc",
   "metadata": {},
   "outputs": [
    {
     "data": {
      "text/plain": [
       "['VALDO', 5, 'lisa']"
      ]
     },
     "execution_count": 108,
     "metadata": {},
     "output_type": "execute_result"
    }
   ],
   "source": [
    "my_list"
   ]
  },
  {
   "cell_type": "code",
   "execution_count": null,
   "id": "3d6f372b",
   "metadata": {},
   "outputs": [],
   "source": []
  },
  {
   "cell_type": "code",
   "execution_count": null,
   "id": "7528155a",
   "metadata": {},
   "outputs": [],
   "source": []
  },
  {
   "cell_type": "markdown",
   "id": "c1e53678",
   "metadata": {},
   "source": [
    "short list "
   ]
  },
  {
   "cell_type": "code",
   "execution_count": 109,
   "id": "ebddd7c5",
   "metadata": {},
   "outputs": [],
   "source": [
    "num_list = [2,5,1,0,12,9,23]"
   ]
  },
  {
   "cell_type": "code",
   "execution_count": 125,
   "id": "30154d5b",
   "metadata": {},
   "outputs": [],
   "source": [
    "sort_list = [\"d\",\"y\",\"b\",\"t\"]"
   ]
  },
  {
   "cell_type": "code",
   "execution_count": 122,
   "id": "68c2e751",
   "metadata": {},
   "outputs": [],
   "source": [
    "num_list.sort()\n",
    "new_sorted_list = num_list"
   ]
  },
  {
   "cell_type": "code",
   "execution_count": 123,
   "id": "85e9626e",
   "metadata": {},
   "outputs": [
    {
     "data": {
      "text/plain": [
       "[0, 1, 2, 5, 9, 12, 23]"
      ]
     },
     "execution_count": 123,
     "metadata": {},
     "output_type": "execute_result"
    }
   ],
   "source": [
    "new_sorted_list"
   ]
  },
  {
   "cell_type": "code",
   "execution_count": 126,
   "id": "d16d13e6",
   "metadata": {},
   "outputs": [],
   "source": [
    "sort_list.sort()"
   ]
  },
  {
   "cell_type": "code",
   "execution_count": 127,
   "id": "18ca400a",
   "metadata": {},
   "outputs": [
    {
     "data": {
      "text/plain": [
       "['b', 'd', 't', 'y']"
      ]
     },
     "execution_count": 127,
     "metadata": {},
     "output_type": "execute_result"
    }
   ],
   "source": [
    "sort_list"
   ]
  },
  {
   "cell_type": "code",
   "execution_count": null,
   "id": "cb4a5968",
   "metadata": {},
   "outputs": [],
   "source": []
  }
 ],
 "metadata": {
  "kernelspec": {
   "display_name": "Python 3",
   "language": "python",
   "name": "python3"
  },
  "language_info": {
   "codemirror_mode": {
    "name": "ipython",
    "version": 3
   },
   "file_extension": ".py",
   "mimetype": "text/x-python",
   "name": "python",
   "nbconvert_exporter": "python",
   "pygments_lexer": "ipython3",
   "version": "3.8.8"
  }
 },
 "nbformat": 4,
 "nbformat_minor": 5
}
