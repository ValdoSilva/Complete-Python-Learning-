{
 "cells": [
  {
   "cell_type": "code",
   "execution_count": 1,
   "id": "b03d386a",
   "metadata": {},
   "outputs": [
    {
     "name": "stdout",
     "output_type": "stream",
     "text": [
      "Hello\n"
     ]
    }
   ],
   "source": [
    "print(\"Hello\")"
   ]
  },
  {
   "cell_type": "code",
   "execution_count": 2,
   "id": "f897f232",
   "metadata": {},
   "outputs": [
    {
     "name": "stdout",
     "output_type": "stream",
     "text": [
      "enter\n"
     ]
    }
   ],
   "source": [
    "print('enter')"
   ]
  },
  {
   "cell_type": "markdown",
   "id": "816f7893",
   "metadata": {},
   "source": [
    "Normal text as explanation"
   ]
  },
  {
   "cell_type": "code",
   "execution_count": 2,
   "id": "e062182b",
   "metadata": {},
   "outputs": [
    {
     "name": "stdout",
     "output_type": "stream",
     "text": [
      "2\n"
     ]
    }
   ],
   "source": [
    "my_dog = 2\n",
    "print(my_dog)"
   ]
  },
  {
   "cell_type": "code",
   "execution_count": 3,
   "id": "4377fdb3",
   "metadata": {},
   "outputs": [],
   "source": [
    "a = 2\n"
   ]
  },
  {
   "cell_type": "code",
   "execution_count": 4,
   "id": "ac28cd56",
   "metadata": {},
   "outputs": [
    {
     "data": {
      "text/plain": [
       "2"
      ]
     },
     "execution_count": 4,
     "metadata": {},
     "output_type": "execute_result"
    }
   ],
   "source": [
    "a"
   ]
  },
  {
   "cell_type": "code",
   "execution_count": 5,
   "id": "ed856c28",
   "metadata": {},
   "outputs": [
    {
     "data": {
      "text/plain": [
       "int"
      ]
     },
     "execution_count": 5,
     "metadata": {},
     "output_type": "execute_result"
    }
   ],
   "source": [
    "type(a)"
   ]
  },
  {
   "cell_type": "code",
   "execution_count": 6,
   "id": "55966dd6",
   "metadata": {},
   "outputs": [],
   "source": [
    "a = 3.10"
   ]
  },
  {
   "cell_type": "code",
   "execution_count": 7,
   "id": "c6d0400c",
   "metadata": {},
   "outputs": [
    {
     "data": {
      "text/plain": [
       "3.1"
      ]
     },
     "execution_count": 7,
     "metadata": {},
     "output_type": "execute_result"
    }
   ],
   "source": [
    "a "
   ]
  },
  {
   "cell_type": "code",
   "execution_count": 8,
   "id": "513fe59a",
   "metadata": {},
   "outputs": [
    {
     "data": {
      "text/plain": [
       "float"
      ]
     },
     "execution_count": 8,
     "metadata": {},
     "output_type": "execute_result"
    }
   ],
   "source": [
    "type(a)"
   ]
  },
  {
   "cell_type": "code",
   "execution_count": 10,
   "id": "d07bbfb1",
   "metadata": {},
   "outputs": [],
   "source": [
    "my_income = 100\n",
    "tax_rate = 0.1\n",
    "my_taxes = my_income * tax_rate\n"
   ]
  },
  {
   "cell_type": "code",
   "execution_count": 13,
   "id": "1de6d61d",
   "metadata": {},
   "outputs": [
    {
     "name": "stdout",
     "output_type": "stream",
     "text": [
      "10\n"
     ]
    }
   ],
   "source": [
    "print(int(my_taxes))"
   ]
  },
  {
   "cell_type": "markdown",
   "id": "7894a158",
   "metadata": {},
   "source": [
    "Change string into list and then slice them to get character that you want and then change the result back to string "
   ]
  },
  {
   "cell_type": "code",
   "execution_count": 20,
   "id": "48947424",
   "metadata": {},
   "outputs": [
    {
     "name": "stdout",
     "output_type": "stream",
     "text": [
      "s\n"
     ]
    }
   ],
   "source": [
    "my_char = \"Elisabeth\"\n",
    "print(my_char[3:4])"
   ]
  },
  {
   "cell_type": "code",
   "execution_count": 27,
   "id": "e1444d4d",
   "metadata": {},
   "outputs": [
    {
     "data": {
      "text/plain": [
       "str"
      ]
     },
     "execution_count": 27,
     "metadata": {},
     "output_type": "execute_result"
    }
   ],
   "source": [
    "for str in my_char"
   ]
  },
  {
   "cell_type": "code",
   "execution_count": 22,
   "id": "b6735643",
   "metadata": {},
   "outputs": [
    {
     "name": "stdout",
     "output_type": "stream",
     "text": [
      "Elisabeth\n"
     ]
    }
   ],
   "source": [
    "print(my_char)"
   ]
  },
  {
   "cell_type": "code",
   "execution_count": 28,
   "id": "78c32e43",
   "metadata": {},
   "outputs": [
    {
     "data": {
      "text/plain": [
       "\"this isn't going to work \""
      ]
     },
     "execution_count": 28,
     "metadata": {},
     "output_type": "execute_result"
    }
   ],
   "source": [
    "\"this isn't going to work \""
   ]
  },
  {
   "cell_type": "code",
   "execution_count": 29,
   "id": "3ba5de15",
   "metadata": {},
   "outputs": [
    {
     "data": {
      "text/plain": [
       "'I am gonna finish this course'"
      ]
     },
     "execution_count": 29,
     "metadata": {},
     "output_type": "execute_result"
    }
   ],
   "source": [
    "\"I am gonna finish this course\""
   ]
  },
  {
   "cell_type": "code",
   "execution_count": 30,
   "id": "9dd9502f",
   "metadata": {},
   "outputs": [
    {
     "name": "stdout",
     "output_type": "stream",
     "text": [
      "valdo\n"
     ]
    }
   ],
   "source": [
    "print(\"valdo\")"
   ]
  },
  {
   "cell_type": "code",
   "execution_count": 31,
   "id": "f4678e90",
   "metadata": {},
   "outputs": [
    {
     "name": "stdout",
     "output_type": "stream",
     "text": [
      "Hello \n",
      "WOrld\n"
     ]
    }
   ],
   "source": [
    "print(\"Hello \\nWOrld\")"
   ]
  },
  {
   "cell_type": "code",
   "execution_count": 32,
   "id": "992dae9e",
   "metadata": {},
   "outputs": [
    {
     "data": {
      "text/plain": [
       "29"
      ]
     },
     "execution_count": 32,
     "metadata": {},
     "output_type": "execute_result"
    }
   ],
   "source": [
    "len(\"I am gonna finish this course\")"
   ]
  },
  {
   "cell_type": "markdown",
   "id": "dc2422c6",
   "metadata": {},
   "source": [
    "Indexing"
   ]
  },
  {
   "cell_type": "code",
   "execution_count": 33,
   "id": "e4f94b23",
   "metadata": {},
   "outputs": [
    {
     "data": {
      "text/plain": [
       "'g'"
      ]
     },
     "execution_count": 33,
     "metadata": {},
     "output_type": "execute_result"
    }
   ],
   "source": [
    "my_indexing = \"I am gonna finish this course\"\n",
    "my_indexing[5]"
   ]
  },
  {
   "cell_type": "code",
   "execution_count": 34,
   "id": "645840e0",
   "metadata": {},
   "outputs": [
    {
     "data": {
      "text/plain": [
       "'i'"
      ]
     },
     "execution_count": 34,
     "metadata": {},
     "output_type": "execute_result"
    }
   ],
   "source": [
    "my_indexing[12]"
   ]
  },
  {
   "cell_type": "markdown",
   "id": "a7853fcd",
   "metadata": {},
   "source": [
    "Reverse indexing "
   ]
  },
  {
   "cell_type": "code",
   "execution_count": 35,
   "id": "ca526b06",
   "metadata": {},
   "outputs": [
    {
     "data": {
      "text/plain": [
       "'e'"
      ]
     },
     "execution_count": 35,
     "metadata": {},
     "output_type": "execute_result"
    }
   ],
   "source": [
    "my_indexing[-1]"
   ]
  },
  {
   "cell_type": "code",
   "execution_count": 36,
   "id": "f7df43d7",
   "metadata": {},
   "outputs": [
    {
     "data": {
      "text/plain": [
       "'i'"
      ]
     },
     "execution_count": 36,
     "metadata": {},
     "output_type": "execute_result"
    }
   ],
   "source": [
    "my_indexing[-9]"
   ]
  },
  {
   "cell_type": "markdown",
   "id": "01f69b99",
   "metadata": {},
   "source": [
    "Slicing = define sub-section of the string"
   ]
  },
  {
   "cell_type": "code",
   "execution_count": 37,
   "id": "3a31ad0c",
   "metadata": {},
   "outputs": [
    {
     "data": {
      "text/plain": [
       "'I am gonna finish this course'"
      ]
     },
     "execution_count": 37,
     "metadata": {},
     "output_type": "execute_result"
    }
   ],
   "source": [
    "my_indexing"
   ]
  },
  {
   "cell_type": "code",
   "execution_count": 39,
   "id": "c2e55423",
   "metadata": {},
   "outputs": [
    {
     "data": {
      "text/plain": [
       "'nis'"
      ]
     },
     "execution_count": 39,
     "metadata": {},
     "output_type": "execute_result"
    }
   ],
   "source": [
    "my_indexing[13:16]"
   ]
  },
  {
   "cell_type": "markdown",
   "id": "69c5a20d",
   "metadata": {},
   "source": [
    "reverse slicing"
   ]
  },
  {
   "cell_type": "code",
   "execution_count": 46,
   "id": "5a3bd4e7",
   "metadata": {},
   "outputs": [
    {
     "data": {
      "text/plain": [
       "'nis'"
      ]
     },
     "execution_count": 46,
     "metadata": {},
     "output_type": "execute_result"
    }
   ],
   "source": [
    "my_indexing[-16:-13]"
   ]
  },
  {
   "cell_type": "markdown",
   "id": "450dad99",
   "metadata": {},
   "source": [
    "position 4 to all "
   ]
  },
  {
   "cell_type": "code",
   "execution_count": 52,
   "id": "d82922b8",
   "metadata": {},
   "outputs": [
    {
     "data": {
      "text/plain": [
       "'onna finish this course'"
      ]
     },
     "execution_count": 52,
     "metadata": {},
     "output_type": "execute_result"
    }
   ],
   "source": [
    "my_indexing[6:] #grab from 6th to all "
   ]
  },
  {
   "cell_type": "code",
   "execution_count": 53,
   "id": "ef7fae29",
   "metadata": {},
   "outputs": [
    {
     "data": {
      "text/plain": [
       "'I am'"
      ]
     },
     "execution_count": 53,
     "metadata": {},
     "output_type": "execute_result"
    }
   ],
   "source": [
    "my_indexing[:4] #grab all up to fourth potition but not included"
   ]
  },
  {
   "cell_type": "code",
   "execution_count": 55,
   "id": "650dc49b",
   "metadata": {},
   "outputs": [
    {
     "data": {
      "text/plain": [
       "'I am gonna finish this course'"
      ]
     },
     "execution_count": 55,
     "metadata": {},
     "output_type": "execute_result"
    }
   ],
   "source": [
    "my_indexing[:] #grab all "
   ]
  },
  {
   "cell_type": "code",
   "execution_count": 59,
   "id": "707f2f97",
   "metadata": {},
   "outputs": [
    {
     "data": {
      "text/plain": [
       "'esruoc siht hsinif annog ma I'"
      ]
     },
     "execution_count": 59,
     "metadata": {},
     "output_type": "execute_result"
    }
   ],
   "source": [
    "my_indexing[::-1] #backward "
   ]
  },
  {
   "cell_type": "code",
   "execution_count": 60,
   "id": "93b55942",
   "metadata": {},
   "outputs": [
    {
     "data": {
      "text/plain": [
       "'Ia on iihti ore'"
      ]
     },
     "execution_count": 60,
     "metadata": {},
     "output_type": "execute_result"
    }
   ],
   "source": [
    "my_indexing[::2]"
   ]
  },
  {
   "cell_type": "code",
   "execution_count": 61,
   "id": "81c3ac30",
   "metadata": {},
   "outputs": [],
   "source": [
    "my_indexing=\"valdo\""
   ]
  },
  {
   "cell_type": "code",
   "execution_count": 63,
   "id": "e7054f86",
   "metadata": {},
   "outputs": [
    {
     "data": {
      "text/plain": [
       "'ad'"
      ]
     },
     "execution_count": 63,
     "metadata": {},
     "output_type": "execute_result"
    }
   ],
   "source": [
    "my_indexing[1:4:2] # 1: grab 1st position to all = \"a\"\n",
    "# :4 grab all up to fourt position but not included = \"ald\"\n",
    "#:2 two jump slice = \"ad\""
   ]
  },
  {
   "cell_type": "markdown",
   "id": "72be375f",
   "metadata": {},
   "source": [
    "String properties and string method"
   ]
  },
  {
   "cell_type": "code",
   "execution_count": 68,
   "id": "9f944ea3",
   "metadata": {},
   "outputs": [],
   "source": [
    "# Concatination \n",
    "name = \"Elizabeth\" #change Z to s \"Elisabeth\" using slicing and indexing\n",
    "first_slice = name[:3]\n",
    "second_slice = name[4:]"
   ]
  },
  {
   "cell_type": "code",
   "execution_count": 71,
   "id": "7bc5f575",
   "metadata": {},
   "outputs": [
    {
     "name": "stdout",
     "output_type": "stream",
     "text": [
      "Elisabeth\n"
     ]
    }
   ],
   "source": [
    "full_name = first_slice + \"s\" + second_slice\n",
    "print(full_name)"
   ]
  },
  {
   "cell_type": "code",
   "execution_count": 1,
   "id": "4b78ad31",
   "metadata": {},
   "outputs": [
    {
     "data": {
      "text/plain": [
       "'HELLO WORLD'"
      ]
     },
     "execution_count": 1,
     "metadata": {},
     "output_type": "execute_result"
    }
   ],
   "source": [
    "x = \"Hello World\"\n",
    "x.upper()"
   ]
  },
  {
   "cell_type": "code",
   "execution_count": 3,
   "id": "93faf0cf",
   "metadata": {},
   "outputs": [
    {
     "data": {
      "text/plain": [
       "['Hello', 'World']"
      ]
     },
     "execution_count": 3,
     "metadata": {},
     "output_type": "execute_result"
    }
   ],
   "source": [
    "x.split() "
   ]
  },
  {
   "cell_type": "code",
   "execution_count": 5,
   "id": "addff983",
   "metadata": {},
   "outputs": [
    {
     "data": {
      "text/plain": [
       "['He', '', 'o Wor', 'd']"
      ]
     },
     "execution_count": 5,
     "metadata": {},
     "output_type": "execute_result"
    }
   ],
   "source": [
    "x.split(\"l\") # split specific word"
   ]
  },
  {
   "cell_type": "markdown",
   "id": "6e1dda7c",
   "metadata": {},
   "source": [
    "String formatting for printing "
   ]
  },
  {
   "cell_type": "code",
   "execution_count": 21,
   "id": "6f63e61d",
   "metadata": {},
   "outputs": [
    {
     "name": "stdout",
     "output_type": "stream",
     "text": [
      "valdo is nickname my\n"
     ]
    }
   ],
   "source": [
    "# There are many ways of printing string and one them is .format{}\n",
    "\n",
    "my_name= \"valdo\"\n",
    "print(my_name + \" {} {} {}\".format(\"is\", \"my\",\"nickname\")) "
   ]
  },
  {
   "cell_type": "code",
   "execution_count": 22,
   "id": "fef9ad3a",
   "metadata": {},
   "outputs": [
    {
     "name": "stdout",
     "output_type": "stream",
     "text": [
      "valdo my nickname is\n"
     ]
    }
   ],
   "source": [
    "print(my_name + \" {1} {2} {0}\".format(\"is\", \"my\",\"nickname\")) # assigned each index position into {}"
   ]
  },
  {
   "cell_type": "code",
   "execution_count": 23,
   "id": "aecdeb9e",
   "metadata": {},
   "outputs": [
    {
     "name": "stdout",
     "output_type": "stream",
     "text": [
      "The quick brown fox\n"
     ]
    }
   ],
   "source": [
    "print(\"The {} {} {}\".format(\"quick\", \"brown\", \"fox\")) # other ways to write "
   ]
  },
  {
   "cell_type": "code",
   "execution_count": 24,
   "id": "6bebc788",
   "metadata": {},
   "outputs": [
    {
     "name": "stdout",
     "output_type": "stream",
     "text": [
      "The fox brown quick\n"
     ]
    }
   ],
   "source": [
    "print(\"The {2} {1} {0}\".format(\"quick\", \"brown\", \"fox\")) #another option "
   ]
  },
  {
   "cell_type": "code",
   "execution_count": 25,
   "id": "69ea53dd",
   "metadata": {},
   "outputs": [
    {
     "name": "stdout",
     "output_type": "stream",
     "text": [
      "The fox quick brown\n"
     ]
    }
   ],
   "source": [
    "print(\"The {f} {q} {b}\".format(q=\"quick\", b=\"brown\", f=\"fox\")) #another option"
   ]
  },
  {
   "cell_type": "markdown",
   "id": "1085911a",
   "metadata": {},
   "source": [
    "Float Formatting \"{value:width.precision f}\""
   ]
  },
  {
   "cell_type": "code",
   "execution_count": 26,
   "id": "b7e10a07",
   "metadata": {},
   "outputs": [],
   "source": [
    "my_integer = 37/89"
   ]
  },
  {
   "cell_type": "code",
   "execution_count": 27,
   "id": "65841e14",
   "metadata": {},
   "outputs": [
    {
     "name": "stdout",
     "output_type": "stream",
     "text": [
      "0.4157303370786517\n"
     ]
    }
   ],
   "source": [
    "print(my_integer)"
   ]
  },
  {
   "cell_type": "code",
   "execution_count": 38,
   "id": "bf510855",
   "metadata": {},
   "outputs": [
    {
     "name": "stdout",
     "output_type": "stream",
     "text": [
      "The result is: 0.416\n"
     ]
    }
   ],
   "source": [
    "print(\"The result is: {result:2.3f}\".format(result = my_integer)) \n",
    "# value is from .format\n",
    "# width is the space between string and the result\n",
    "# precision f is floating point value"
   ]
  },
  {
   "cell_type": "code",
   "execution_count": 47,
   "id": "cfc83f87",
   "metadata": {},
   "outputs": [
    {
     "name": "stdout",
     "output_type": "stream",
     "text": [
      "The result is: 105.4329843\n"
     ]
    }
   ],
   "source": [
    "number = 105.4329843\n",
    "print(\"The result is: {result:1.7f}\".format(result = number)) "
   ]
  },
  {
   "cell_type": "code",
   "execution_count": null,
   "id": "f1a7f32e",
   "metadata": {},
   "outputs": [],
   "source": []
  },
  {
   "cell_type": "code",
   "execution_count": null,
   "id": "bd2f2a2e",
   "metadata": {},
   "outputs": [],
   "source": []
  },
  {
   "cell_type": "markdown",
   "id": "bbeee25a",
   "metadata": {},
   "source": [
    "Formating string litteral "
   ]
  },
  {
   "cell_type": "code",
   "execution_count": 49,
   "id": "2461d56a",
   "metadata": {},
   "outputs": [],
   "source": [
    "name = \"Valdo\""
   ]
  },
  {
   "cell_type": "code",
   "execution_count": 54,
   "id": "991b922a",
   "metadata": {},
   "outputs": [
    {
     "name": "stdout",
     "output_type": "stream",
     "text": [
      "My name is Valdo\n",
      "His name is Valdo\n"
     ]
    }
   ],
   "source": [
    "print(\"My name is {}\".format(name))# using .format\n",
    "print(f\"His name is {name}\") # using formatting literal"
   ]
  },
  {
   "cell_type": "code",
   "execution_count": 55,
   "id": "ae6b3f33",
   "metadata": {},
   "outputs": [],
   "source": [
    "age = 34"
   ]
  },
  {
   "cell_type": "code",
   "execution_count": 56,
   "id": "c1851763",
   "metadata": {},
   "outputs": [
    {
     "name": "stdout",
     "output_type": "stream",
     "text": [
      "My name is Valdo and I am 34 years old. \n"
     ]
    }
   ],
   "source": [
    "print(f\"My name is {name} and I am {age} years old. \")"
   ]
  },
  {
   "cell_type": "code",
   "execution_count": 71,
   "id": "81ae52a3",
   "metadata": {},
   "outputs": [
    {
     "name": "stdout",
     "output_type": "stream",
     "text": [
      "Lisa      \n",
      "Lisa______\n",
      "___Lisa___\n",
      "______Lisa\n",
      "Li\n"
     ]
    }
   ],
   "source": [
    "name = \"Lisa\"\n",
    "print(\"{:10}\".format(name))\n",
    "print(\"{:_<10}\".format(name))\n",
    "print(\"{:_^10}\".format(name))\n",
    "print(\"{:_>10}\".format(name))\n",
    "print(\"{:.2}\".format(name))"
   ]
  },
  {
   "cell_type": "code",
   "execution_count": null,
   "id": "0558e62c",
   "metadata": {},
   "outputs": [],
   "source": []
  },
  {
   "cell_type": "code",
   "execution_count": null,
   "id": "7fc09216",
   "metadata": {},
   "outputs": [],
   "source": []
  },
  {
   "cell_type": "code",
   "execution_count": null,
   "id": "5c8e02c3",
   "metadata": {},
   "outputs": [],
   "source": []
  },
  {
   "cell_type": "code",
   "execution_count": null,
   "id": "ce29e8be",
   "metadata": {},
   "outputs": [],
   "source": []
  },
  {
   "cell_type": "markdown",
   "id": "702a1a40",
   "metadata": {},
   "source": [
    "List in python \n",
    "Ordered sequence using bracket [ ] and commas to separate objects in the list\n",
    "\n",
    "Can be sliced and indexed"
   ]
  },
  {
   "cell_type": "code",
   "execution_count": 74,
   "id": "6ef6682a",
   "metadata": {},
   "outputs": [],
   "source": [
    "my_list = ['valdo', 5 , \"lisa\", 34.10] #python list can hold any data types"
   ]
  },
  {
   "cell_type": "code",
   "execution_count": 73,
   "id": "fa2c1ab7",
   "metadata": {},
   "outputs": [
    {
     "name": "stdout",
     "output_type": "stream",
     "text": [
      "['valdo', 5, 'lisa', 34.1]\n"
     ]
    }
   ],
   "source": [
    "print(my_list)"
   ]
  },
  {
   "cell_type": "code",
   "execution_count": 75,
   "id": "7a50d63d",
   "metadata": {},
   "outputs": [
    {
     "data": {
      "text/plain": [
       "4"
      ]
     },
     "execution_count": 75,
     "metadata": {},
     "output_type": "execute_result"
    }
   ],
   "source": [
    "len(my_list)"
   ]
  },
  {
   "cell_type": "markdown",
   "id": "edbf4bb5",
   "metadata": {},
   "source": [
    "slice and indexing on list much more similar to string slice and indexing"
   ]
  },
  {
   "cell_type": "code",
   "execution_count": 76,
   "id": "682b5998",
   "metadata": {},
   "outputs": [
    {
     "name": "stdout",
     "output_type": "stream",
     "text": [
      "['valdo', 5, 'lisa', 34.1]\n"
     ]
    }
   ],
   "source": [
    "print(my_list)"
   ]
  },
  {
   "cell_type": "code",
   "execution_count": 77,
   "id": "6f42376d",
   "metadata": {},
   "outputs": [
    {
     "data": {
      "text/plain": [
       "5"
      ]
     },
     "execution_count": 77,
     "metadata": {},
     "output_type": "execute_result"
    }
   ],
   "source": [
    "my_list[1]"
   ]
  },
  {
   "cell_type": "code",
   "execution_count": 78,
   "id": "73fde4bf",
   "metadata": {},
   "outputs": [
    {
     "data": {
      "text/plain": [
       "'valdo'"
      ]
     },
     "execution_count": 78,
     "metadata": {},
     "output_type": "execute_result"
    }
   ],
   "source": [
    "my_list[0]"
   ]
  },
  {
   "cell_type": "code",
   "execution_count": 80,
   "id": "4024cdac",
   "metadata": {},
   "outputs": [
    {
     "name": "stdout",
     "output_type": "stream",
     "text": [
      "valdo and lisa been living together for 5 years.\n"
     ]
    }
   ],
   "source": [
    "print(my_list[0] + \" and \" + my_list[2] + \" been {1} together for {0} years.\".format(my_list[1], \"living\"))"
   ]
  },
  {
   "cell_type": "code",
   "execution_count": 81,
   "id": "585be457",
   "metadata": {},
   "outputs": [
    {
     "data": {
      "text/plain": [
       "['valdo', 5, 'lisa', 34.1]"
      ]
     },
     "execution_count": 81,
     "metadata": {},
     "output_type": "execute_result"
    }
   ],
   "source": [
    "my_list"
   ]
  },
  {
   "cell_type": "code",
   "execution_count": 82,
   "id": "084b2e19",
   "metadata": {},
   "outputs": [
    {
     "data": {
      "text/plain": [
       "['lisa', 34.1]"
      ]
     },
     "execution_count": 82,
     "metadata": {},
     "output_type": "execute_result"
    }
   ],
   "source": [
    "my_list[2:]"
   ]
  },
  {
   "cell_type": "code",
   "execution_count": 83,
   "id": "88085586",
   "metadata": {},
   "outputs": [],
   "source": [
    "my_list[0]=\"VALDO\""
   ]
  },
  {
   "cell_type": "code",
   "execution_count": 84,
   "id": "af004008",
   "metadata": {},
   "outputs": [
    {
     "data": {
      "text/plain": [
       "['VALDO', 5, 'lisa', 34.1]"
      ]
     },
     "execution_count": 84,
     "metadata": {},
     "output_type": "execute_result"
    }
   ],
   "source": [
    "my_list"
   ]
  },
  {
   "cell_type": "code",
   "execution_count": null,
   "id": "f9a7756b",
   "metadata": {},
   "outputs": [],
   "source": []
  },
  {
   "cell_type": "markdown",
   "id": "b8fb78e9",
   "metadata": {},
   "source": [
    "Add element on the list"
   ]
  },
  {
   "cell_type": "code",
   "execution_count": 86,
   "id": "7f69cdb4",
   "metadata": {},
   "outputs": [
    {
     "data": {
      "text/plain": [
       "['VALDO', 5, 'lisa', 34.1]"
      ]
     },
     "execution_count": 86,
     "metadata": {},
     "output_type": "execute_result"
    }
   ],
   "source": [
    "my_list"
   ]
  },
  {
   "cell_type": "code",
   "execution_count": 94,
   "id": "ebf78187",
   "metadata": {},
   "outputs": [],
   "source": [
    "my_list.append(\"Cambridge\") #add another element at the very end of the list"
   ]
  },
  {
   "cell_type": "code",
   "execution_count": 95,
   "id": "71e54bd0",
   "metadata": {},
   "outputs": [
    {
     "data": {
      "text/plain": [
       "['VALDO', 5, 'lisa', 34.1, 'Cambridge']"
      ]
     },
     "execution_count": 95,
     "metadata": {},
     "output_type": "execute_result"
    }
   ],
   "source": [
    "my_list"
   ]
  },
  {
   "cell_type": "code",
   "execution_count": 96,
   "id": "88ad4f55",
   "metadata": {},
   "outputs": [],
   "source": [
    "my_list.append(29)"
   ]
  },
  {
   "cell_type": "code",
   "execution_count": 90,
   "id": "d4a11260",
   "metadata": {},
   "outputs": [
    {
     "data": {
      "text/plain": [
       "['VALDO', 5, 'lisa', 34.1, 'Cambridge', 29]"
      ]
     },
     "execution_count": 90,
     "metadata": {},
     "output_type": "execute_result"
    }
   ],
   "source": [
    "my_list"
   ]
  },
  {
   "cell_type": "code",
   "execution_count": null,
   "id": "5b930143",
   "metadata": {},
   "outputs": [],
   "source": []
  },
  {
   "cell_type": "code",
   "execution_count": null,
   "id": "5691bd4e",
   "metadata": {},
   "outputs": [],
   "source": []
  },
  {
   "cell_type": "markdown",
   "id": "99456e54",
   "metadata": {},
   "source": [
    "remove element from the list "
   ]
  },
  {
   "cell_type": "code",
   "execution_count": 97,
   "id": "eb2931fc",
   "metadata": {},
   "outputs": [
    {
     "data": {
      "text/plain": [
       "29"
      ]
     },
     "execution_count": 97,
     "metadata": {},
     "output_type": "execute_result"
    }
   ],
   "source": [
    "my_list.pop() #remove last element in this case integer 29"
   ]
  },
  {
   "cell_type": "code",
   "execution_count": 98,
   "id": "d95d01dd",
   "metadata": {},
   "outputs": [
    {
     "data": {
      "text/plain": [
       "['VALDO', 5, 'lisa', 34.1, 'Cambridge']"
      ]
     },
     "execution_count": 98,
     "metadata": {},
     "output_type": "execute_result"
    }
   ],
   "source": [
    "my_list"
   ]
  },
  {
   "cell_type": "code",
   "execution_count": 101,
   "id": "270127bf",
   "metadata": {},
   "outputs": [
    {
     "data": {
      "text/plain": [
       "34.1"
      ]
     },
     "execution_count": 101,
     "metadata": {},
     "output_type": "execute_result"
    }
   ],
   "source": [
    "my_list.pop(3) #remove element using index in this case the third index position"
   ]
  },
  {
   "cell_type": "code",
   "execution_count": 102,
   "id": "82a53c08",
   "metadata": {},
   "outputs": [
    {
     "data": {
      "text/plain": [
       "['VALDO', 5, 'lisa', 'Cambridge']"
      ]
     },
     "execution_count": 102,
     "metadata": {},
     "output_type": "execute_result"
    }
   ],
   "source": [
    "my_list"
   ]
  },
  {
   "cell_type": "code",
   "execution_count": 103,
   "id": "26bc2c5d",
   "metadata": {},
   "outputs": [],
   "source": [
    "new_list = my_list.pop()"
   ]
  },
  {
   "cell_type": "code",
   "execution_count": 104,
   "id": "71c05409",
   "metadata": {},
   "outputs": [
    {
     "data": {
      "text/plain": [
       "'Cambridge'"
      ]
     },
     "execution_count": 104,
     "metadata": {},
     "output_type": "execute_result"
    }
   ],
   "source": [
    "new_list"
   ]
  },
  {
   "cell_type": "code",
   "execution_count": 105,
   "id": "173de2f2",
   "metadata": {},
   "outputs": [
    {
     "data": {
      "text/plain": [
       "['VALDO', 5, 'lisa']"
      ]
     },
     "execution_count": 105,
     "metadata": {},
     "output_type": "execute_result"
    }
   ],
   "source": [
    "my_list"
   ]
  },
  {
   "cell_type": "code",
   "execution_count": 106,
   "id": "421cd181",
   "metadata": {},
   "outputs": [
    {
     "data": {
      "text/plain": [
       "'Cambridge'"
      ]
     },
     "execution_count": 106,
     "metadata": {},
     "output_type": "execute_result"
    }
   ],
   "source": [
    "new_list"
   ]
  },
  {
   "cell_type": "code",
   "execution_count": 107,
   "id": "ddb46d56",
   "metadata": {},
   "outputs": [
    {
     "data": {
      "text/plain": [
       "'Cambridge'"
      ]
     },
     "execution_count": 107,
     "metadata": {},
     "output_type": "execute_result"
    }
   ],
   "source": [
    "new_list"
   ]
  },
  {
   "cell_type": "code",
   "execution_count": 108,
   "id": "7a8c6044",
   "metadata": {},
   "outputs": [
    {
     "data": {
      "text/plain": [
       "['VALDO', 5, 'lisa']"
      ]
     },
     "execution_count": 108,
     "metadata": {},
     "output_type": "execute_result"
    }
   ],
   "source": [
    "my_list"
   ]
  },
  {
   "cell_type": "code",
   "execution_count": null,
   "id": "784b6f35",
   "metadata": {},
   "outputs": [],
   "source": []
  },
  {
   "cell_type": "code",
   "execution_count": null,
   "id": "76b3f7ee",
   "metadata": {},
   "outputs": [],
   "source": []
  },
  {
   "cell_type": "markdown",
   "id": "821cc58e",
   "metadata": {},
   "source": [
    "short list "
   ]
  },
  {
   "cell_type": "code",
   "execution_count": 109,
   "id": "9be1e1ae",
   "metadata": {},
   "outputs": [],
   "source": [
    "num_list = [2,5,1,0,12,9,23]"
   ]
  },
  {
   "cell_type": "code",
   "execution_count": 125,
   "id": "f08d32cb",
   "metadata": {},
   "outputs": [],
   "source": [
    "sort_list = [\"d\",\"y\",\"b\",\"t\"]"
   ]
  },
  {
   "cell_type": "code",
   "execution_count": 122,
   "id": "a1ecf0c2",
   "metadata": {},
   "outputs": [],
   "source": [
    "num_list.sort()\n",
    "new_sorted_list = num_list"
   ]
  },
  {
   "cell_type": "code",
   "execution_count": 123,
   "id": "fef89571",
   "metadata": {},
   "outputs": [
    {
     "data": {
      "text/plain": [
       "[0, 1, 2, 5, 9, 12, 23]"
      ]
     },
     "execution_count": 123,
     "metadata": {},
     "output_type": "execute_result"
    }
   ],
   "source": [
    "new_sorted_list"
   ]
  },
  {
   "cell_type": "code",
   "execution_count": 126,
   "id": "8817b99c",
   "metadata": {},
   "outputs": [],
   "source": [
    "sort_list.sort()"
   ]
  },
  {
   "cell_type": "code",
   "execution_count": 127,
   "id": "87f1829b",
   "metadata": {},
   "outputs": [
    {
     "data": {
      "text/plain": [
       "['b', 'd', 't', 'y']"
      ]
     },
     "execution_count": 127,
     "metadata": {},
     "output_type": "execute_result"
    }
   ],
   "source": [
    "sort_list"
   ]
  },
  {
   "cell_type": "code",
   "execution_count": null,
   "id": "5bba48d0",
   "metadata": {},
   "outputs": [],
   "source": []
  },
  {
   "cell_type": "code",
   "execution_count": null,
   "id": "cff532c7",
   "metadata": {},
   "outputs": [],
   "source": []
  },
  {
   "cell_type": "markdown",
   "id": "f829ee8b",
   "metadata": {},
   "source": [
    "reverse list "
   ]
  },
  {
   "cell_type": "code",
   "execution_count": 128,
   "id": "5bc78002",
   "metadata": {},
   "outputs": [
    {
     "data": {
      "text/plain": [
       "[0, 1, 2, 5, 9, 12, 23]"
      ]
     },
     "execution_count": 128,
     "metadata": {},
     "output_type": "execute_result"
    }
   ],
   "source": [
    "new_sorted_list"
   ]
  },
  {
   "cell_type": "code",
   "execution_count": 139,
   "id": "45147fd6",
   "metadata": {},
   "outputs": [],
   "source": [
    "new_sorted_list.reverse()"
   ]
  },
  {
   "cell_type": "code",
   "execution_count": 140,
   "id": "505744d1",
   "metadata": {},
   "outputs": [
    {
     "data": {
      "text/plain": [
       "[23, 12, 9, 5, 2, 1, 0]"
      ]
     },
     "execution_count": 140,
     "metadata": {},
     "output_type": "execute_result"
    }
   ],
   "source": [
    "new_sorted_list"
   ]
  },
  {
   "cell_type": "code",
   "execution_count": null,
   "id": "35f58a00",
   "metadata": {},
   "outputs": [],
   "source": []
  },
  {
   "cell_type": "code",
   "execution_count": null,
   "id": "4922100e",
   "metadata": {},
   "outputs": [],
   "source": []
  },
  {
   "cell_type": "markdown",
   "id": "8f680a9e",
   "metadata": {},
   "source": [
    "Nested list or list inside a list"
   ]
  },
  {
   "cell_type": "code",
   "execution_count": 143,
   "id": "1cb739d4",
   "metadata": {},
   "outputs": [],
   "source": [
    "nested_list = [1,1,[1,2]] # how to grab element 2 from this nested list "
   ]
  },
  {
   "cell_type": "code",
   "execution_count": 144,
   "id": "a243f3f5",
   "metadata": {},
   "outputs": [
    {
     "data": {
      "text/plain": [
       "2"
      ]
     },
     "execution_count": 144,
     "metadata": {},
     "output_type": "execute_result"
    }
   ],
   "source": [
    "nested_list[2][1] # 2 is in second index from the first list and 1st index from the second list "
   ]
  },
  {
   "cell_type": "code",
   "execution_count": null,
   "id": "4fec5be1",
   "metadata": {},
   "outputs": [],
   "source": []
  },
  {
   "cell_type": "code",
   "execution_count": null,
   "id": "7beaa937",
   "metadata": {},
   "outputs": [],
   "source": []
  },
  {
   "cell_type": "code",
   "execution_count": null,
   "id": "bc609eac",
   "metadata": {},
   "outputs": [],
   "source": []
  },
  {
   "cell_type": "markdown",
   "id": "4b661b86",
   "metadata": {},
   "source": [
    "Create .txt file"
   ]
  },
  {
   "cell_type": "code",
   "execution_count": 93,
   "id": "3f0c3428",
   "metadata": {},
   "outputs": [
    {
     "name": "stderr",
     "output_type": "stream",
     "text": [
      "UsageError: unrecognized arguments: #this is to create .txt file in the same directory\n"
     ]
    }
   ],
   "source": [
    "%%writefile myfile.txt #this is to create .txt file in the same directory\n",
    "This is first file \n",
    "this is the second file \n",
    "this is the third file"
   ]
  },
  {
   "cell_type": "code",
   "execution_count": 3,
   "id": "b277a84f",
   "metadata": {},
   "outputs": [
    {
     "data": {
      "text/plain": [
       "'/Users/valdosilva/Desktop/Python Learning Exercises'"
      ]
     },
     "execution_count": 3,
     "metadata": {},
     "output_type": "execute_result"
    }
   ],
   "source": [
    "pwd"
   ]
  },
  {
   "cell_type": "markdown",
   "id": "e850f637",
   "metadata": {},
   "source": [
    "Read file from the same directory"
   ]
  },
  {
   "cell_type": "code",
   "execution_count": 8,
   "id": "a06a0756",
   "metadata": {},
   "outputs": [],
   "source": [
    "myfile = open(\"myfile.txt\") #open .txt file "
   ]
  },
  {
   "cell_type": "code",
   "execution_count": 11,
   "id": "e70af74c",
   "metadata": {},
   "outputs": [
    {
     "data": {
      "text/plain": [
       "''"
      ]
     },
     "execution_count": 11,
     "metadata": {},
     "output_type": "execute_result"
    }
   ],
   "source": [
    "myfile.read() #read txt file"
   ]
  },
  {
   "cell_type": "code",
   "execution_count": 14,
   "id": "e8d74e1a",
   "metadata": {},
   "outputs": [
    {
     "data": {
      "text/plain": [
       "0"
      ]
     },
     "execution_count": 14,
     "metadata": {},
     "output_type": "execute_result"
    }
   ],
   "source": [
    "myfile.seek(0) #reset the cursor reader back to 0 to read again"
   ]
  },
  {
   "cell_type": "code",
   "execution_count": 15,
   "id": "107d2de7",
   "metadata": {},
   "outputs": [],
   "source": [
    "content = myfile.read()"
   ]
  },
  {
   "cell_type": "code",
   "execution_count": 16,
   "id": "7dd5fd6b",
   "metadata": {},
   "outputs": [
    {
     "data": {
      "text/plain": [
       "'This is first file \\nthis is the second file \\nthis is the third file\\n'"
      ]
     },
     "execution_count": 16,
     "metadata": {},
     "output_type": "execute_result"
    }
   ],
   "source": [
    "content"
   ]
  },
  {
   "cell_type": "code",
   "execution_count": 17,
   "id": "95f11634",
   "metadata": {},
   "outputs": [
    {
     "data": {
      "text/plain": [
       "0"
      ]
     },
     "execution_count": 17,
     "metadata": {},
     "output_type": "execute_result"
    }
   ],
   "source": [
    "myfile.seek(0)"
   ]
  },
  {
   "cell_type": "code",
   "execution_count": 18,
   "id": "a3e9f8f5",
   "metadata": {},
   "outputs": [
    {
     "data": {
      "text/plain": [
       "['This is first file \\n',\n",
       " 'this is the second file \\n',\n",
       " 'this is the third file\\n']"
      ]
     },
     "execution_count": 18,
     "metadata": {},
     "output_type": "execute_result"
    }
   ],
   "source": [
    "myfile.readlines() #make it as list to be able to index or slicing. "
   ]
  },
  {
   "cell_type": "code",
   "execution_count": 25,
   "id": "9806152c",
   "metadata": {},
   "outputs": [],
   "source": [
    "myfile.close()"
   ]
  },
  {
   "cell_type": "code",
   "execution_count": 20,
   "id": "3b659820",
   "metadata": {},
   "outputs": [
    {
     "name": "stdout",
     "output_type": "stream",
     "text": [
      "Complete Python Bootcamp.ipynb  myfile.txt\r\n",
      "README.md\r\n"
     ]
    }
   ],
   "source": []
  },
  {
   "cell_type": "markdown",
   "id": "5aa3dded",
   "metadata": {},
   "source": [
    "open file path on different directory in jupiter notebook Ex: accessing valdo.txt file created on desktop"
   ]
  },
  {
   "cell_type": "code",
   "execution_count": 21,
   "id": "3620f9a2",
   "metadata": {},
   "outputs": [],
   "source": [
    "find_path = open(\"/Users/valdosilva/Desktop/git practice/valdo.txt\") # how to find .txt file on different directory "
   ]
  },
  {
   "cell_type": "code",
   "execution_count": 22,
   "id": "951e79c6",
   "metadata": {},
   "outputs": [
    {
     "data": {
      "text/plain": [
       "['this is another txt file that I want to access as well']"
      ]
     },
     "execution_count": 22,
     "metadata": {},
     "output_type": "execute_result"
    }
   ],
   "source": [
    "find_path.readlines()"
   ]
  },
  {
   "cell_type": "code",
   "execution_count": 24,
   "id": "bf96ad37",
   "metadata": {},
   "outputs": [],
   "source": [
    "find_path.close()"
   ]
  },
  {
   "cell_type": "code",
   "execution_count": null,
   "id": "7573a99f",
   "metadata": {},
   "outputs": [],
   "source": []
  },
  {
   "cell_type": "code",
   "execution_count": null,
   "id": "bf562211",
   "metadata": {},
   "outputs": [],
   "source": []
  },
  {
   "cell_type": "markdown",
   "id": "7345c68d",
   "metadata": {},
   "source": [
    "new way of open file is using with command"
   ]
  },
  {
   "cell_type": "code",
   "execution_count": 43,
   "id": "82eca46f",
   "metadata": {},
   "outputs": [],
   "source": [
    "content = open(\"myfile.txt\") #old way of open and read file "
   ]
  },
  {
   "cell_type": "code",
   "execution_count": 36,
   "id": "4b0256a1",
   "metadata": {},
   "outputs": [
    {
     "data": {
      "text/plain": [
       "['This is first file \\n',\n",
       " 'this is the second file \\n',\n",
       " 'this is the third file\\n']"
      ]
     },
     "execution_count": 36,
     "metadata": {},
     "output_type": "execute_result"
    }
   ],
   "source": [
    "content.readlines() #old ways of read"
   ]
  },
  {
   "cell_type": "code",
   "execution_count": null,
   "id": "7fa340e2",
   "metadata": {},
   "outputs": [],
   "source": []
  },
  {
   "cell_type": "code",
   "execution_count": 86,
   "id": "91de9344",
   "metadata": {},
   "outputs": [],
   "source": [
    "with open(\"myfile.txt\", mode='w') as new_content:       #overwrite the file with new one.\n",
    "    content = new_content.write(\"Valdo is on fire\")"
   ]
  },
  {
   "cell_type": "code",
   "execution_count": 87,
   "id": "96f76c37",
   "metadata": {},
   "outputs": [
    {
     "data": {
      "text/plain": [
       "16"
      ]
     },
     "execution_count": 87,
     "metadata": {},
     "output_type": "execute_result"
    }
   ],
   "source": [
    "content"
   ]
  },
  {
   "cell_type": "code",
   "execution_count": 106,
   "id": "2ed8e7af",
   "metadata": {},
   "outputs": [
    {
     "name": "stdout",
     "output_type": "stream",
     "text": [
      "['first \\n', 'second \\n', 'third \\n', '\\n', 'fourth\\n', 'fifth']\n"
     ]
    }
   ],
   "source": [
    "with open(\"myfile.txt\", mode='r') as new_content: #read new file. \n",
    "    print(new_content.readlines())"
   ]
  },
  {
   "cell_type": "code",
   "execution_count": null,
   "id": "78557f38",
   "metadata": {},
   "outputs": [],
   "source": []
  },
  {
   "cell_type": "code",
   "execution_count": 105,
   "id": "18725892",
   "metadata": {},
   "outputs": [],
   "source": [
    "with open(\"myfile.txt\", mode='a') as new_content: #adding new text\n",
    "    new_content.write(\"\\nfifth\")"
   ]
  },
  {
   "cell_type": "code",
   "execution_count": null,
   "id": "253480bf",
   "metadata": {},
   "outputs": [],
   "source": []
  },
  {
   "cell_type": "code",
   "execution_count": null,
   "id": "c5b357c6",
   "metadata": {},
   "outputs": [],
   "source": []
  },
  {
   "cell_type": "markdown",
   "id": "b5eb9b4a",
   "metadata": {},
   "source": [
    "it can be used to create a new .txt file if file name lisa.txt is not existed within the directory."
   ]
  },
  {
   "cell_type": "code",
   "execution_count": 107,
   "id": "c48c1dc2",
   "metadata": {},
   "outputs": [],
   "source": [
    "with open(\"lisa.txt\",mode=\"w\") as new_file:\n",
    "    new_file.write(\"Lisa is a sort of \\nElisabeth Leatemia\")"
   ]
  },
  {
   "cell_type": "code",
   "execution_count": 109,
   "id": "690dd346",
   "metadata": {},
   "outputs": [
    {
     "name": "stdout",
     "output_type": "stream",
     "text": [
      "Lisa is a sort of \n",
      "Elisabeth Leatemia\n"
     ]
    }
   ],
   "source": [
    "with open(\"lisa.txt\",mode=\"r\") as new_file:\n",
    "    print(new_file.read())"
   ]
  },
  {
   "cell_type": "code",
   "execution_count": 110,
   "id": "aa85d0ea",
   "metadata": {},
   "outputs": [
    {
     "data": {
      "text/plain": [
       "'/Users/valdosilva/Desktop/Python Learning Exercises'"
      ]
     },
     "execution_count": 110,
     "metadata": {},
     "output_type": "execute_result"
    }
   ],
   "source": [
    "pwd"
   ]
  },
  {
   "cell_type": "code",
   "execution_count": 111,
   "id": "3dec818a",
   "metadata": {},
   "outputs": [
    {
     "name": "stdout",
     "output_type": "stream",
     "text": [
      "Complete Python Bootcamp.ipynb  lisa.txt\r\n",
      "README.md                       myfile.txt\r\n"
     ]
    }
   ],
   "source": [
    "ls #see the file in the directory. "
   ]
  },
  {
   "cell_type": "code",
   "execution_count": null,
   "id": "529d972a",
   "metadata": {},
   "outputs": [],
   "source": []
  },
  {
   "cell_type": "markdown",
   "id": "01a7adad",
   "metadata": {},
   "source": [
    "Testing my knowledge."
   ]
  },
  {
   "cell_type": "code",
   "execution_count": 113,
   "id": "5b3ac9f0",
   "metadata": {},
   "outputs": [
    {
     "name": "stdout",
     "output_type": "stream",
     "text": [
      "Complete Python Bootcamp.ipynb     lisa.txt\r\n",
      "\u001b[34mComplete-Python-3-Bootcamp-master\u001b[m\u001b[m/ myfile.txt\r\n",
      "README.md\r\n"
     ]
    }
   ],
   "source": [
    "ls"
   ]
  },
  {
   "cell_type": "code",
   "execution_count": 115,
   "id": "97c901f3",
   "metadata": {},
   "outputs": [
    {
     "data": {
      "text/plain": [
       "2"
      ]
     },
     "execution_count": 115,
     "metadata": {},
     "output_type": "execute_result"
    }
   ],
   "source": [
    "4//2"
   ]
  },
  {
   "cell_type": "code",
   "execution_count": null,
   "id": "be0b90fd",
   "metadata": {},
   "outputs": [],
   "source": []
  },
  {
   "cell_type": "code",
   "execution_count": null,
   "id": "9c6128f8",
   "metadata": {},
   "outputs": [],
   "source": []
  },
  {
   "cell_type": "code",
   "execution_count": null,
   "id": "3b26f1d0",
   "metadata": {},
   "outputs": [],
   "source": []
  },
  {
   "cell_type": "markdown",
   "id": "fdab743c",
   "metadata": {},
   "source": [
    "Python Comparisson operators"
   ]
  },
  {
   "cell_type": "code",
   "execution_count": null,
   "id": "c5e0c0c8",
   "metadata": {},
   "outputs": [],
   "source": []
  },
  {
   "cell_type": "code",
   "execution_count": 116,
   "id": "9aebbbdf",
   "metadata": {},
   "outputs": [
    {
     "data": {
      "text/plain": [
       "True"
      ]
     },
     "execution_count": 116,
     "metadata": {},
     "output_type": "execute_result"
    }
   ],
   "source": [
    "2==2"
   ]
  },
  {
   "cell_type": "code",
   "execution_count": 117,
   "id": "94f17dd1",
   "metadata": {},
   "outputs": [
    {
     "data": {
      "text/plain": [
       "False"
      ]
     },
     "execution_count": 117,
     "metadata": {},
     "output_type": "execute_result"
    }
   ],
   "source": [
    "2==1"
   ]
  },
  {
   "cell_type": "code",
   "execution_count": 118,
   "id": "3bc1fd0e",
   "metadata": {},
   "outputs": [
    {
     "data": {
      "text/plain": [
       "False"
      ]
     },
     "execution_count": 118,
     "metadata": {},
     "output_type": "execute_result"
    }
   ],
   "source": [
    "'valdo'=='Valdo'"
   ]
  },
  {
   "cell_type": "code",
   "execution_count": 119,
   "id": "7df10c68",
   "metadata": {},
   "outputs": [
    {
     "data": {
      "text/plain": [
       "True"
      ]
     },
     "execution_count": 119,
     "metadata": {},
     "output_type": "execute_result"
    }
   ],
   "source": [
    "23 == 23.0"
   ]
  },
  {
   "cell_type": "code",
   "execution_count": 120,
   "id": "1a7bddc1",
   "metadata": {},
   "outputs": [
    {
     "data": {
      "text/plain": [
       "False"
      ]
     },
     "execution_count": 120,
     "metadata": {},
     "output_type": "execute_result"
    }
   ],
   "source": [
    "'2'==2"
   ]
  },
  {
   "cell_type": "code",
   "execution_count": null,
   "id": "3cf7deb5",
   "metadata": {},
   "outputs": [],
   "source": []
  },
  {
   "cell_type": "markdown",
   "id": "0e4e0591",
   "metadata": {},
   "source": [
    "chain more comparison together "
   ]
  },
  {
   "cell_type": "code",
   "execution_count": 122,
   "id": "a4eca906",
   "metadata": {},
   "outputs": [
    {
     "data": {
      "text/plain": [
       "False"
      ]
     },
     "execution_count": 122,
     "metadata": {},
     "output_type": "execute_result"
    }
   ],
   "source": [
    "1>3 "
   ]
  },
  {
   "cell_type": "code",
   "execution_count": 123,
   "id": "2d1764c3",
   "metadata": {},
   "outputs": [
    {
     "data": {
      "text/plain": [
       "True"
      ]
     },
     "execution_count": 123,
     "metadata": {},
     "output_type": "execute_result"
    }
   ],
   "source": [
    "3<4"
   ]
  },
  {
   "cell_type": "code",
   "execution_count": 124,
   "id": "b273e320",
   "metadata": {},
   "outputs": [
    {
     "data": {
      "text/plain": [
       "False"
      ]
     },
     "execution_count": 124,
     "metadata": {},
     "output_type": "execute_result"
    }
   ],
   "source": [
    "1>3<4"
   ]
  },
  {
   "cell_type": "code",
   "execution_count": 125,
   "id": "a8af8bc0",
   "metadata": {},
   "outputs": [
    {
     "data": {
      "text/plain": [
       "False"
      ]
     },
     "execution_count": 125,
     "metadata": {},
     "output_type": "execute_result"
    }
   ],
   "source": [
    "1>3 and 3<4"
   ]
  },
  {
   "cell_type": "code",
   "execution_count": 126,
   "id": "1492ab9b",
   "metadata": {},
   "outputs": [
    {
     "data": {
      "text/plain": [
       "True"
      ]
     },
     "execution_count": 126,
     "metadata": {},
     "output_type": "execute_result"
    }
   ],
   "source": [
    "'valdo'=='valdo' and 2>1"
   ]
  },
  {
   "cell_type": "code",
   "execution_count": 127,
   "id": "914a8710",
   "metadata": {},
   "outputs": [
    {
     "data": {
      "text/plain": [
       "True"
      ]
     },
     "execution_count": 127,
     "metadata": {},
     "output_type": "execute_result"
    }
   ],
   "source": [
    "'valdo'=='valdo' or 2>4"
   ]
  },
  {
   "cell_type": "code",
   "execution_count": 128,
   "id": "8c3c78b7",
   "metadata": {},
   "outputs": [
    {
     "data": {
      "text/plain": [
       "True"
      ]
     },
     "execution_count": 128,
     "metadata": {},
     "output_type": "execute_result"
    }
   ],
   "source": [
    "not 1==3"
   ]
  },
  {
   "cell_type": "code",
   "execution_count": 129,
   "id": "163f42b2",
   "metadata": {},
   "outputs": [
    {
     "data": {
      "text/plain": [
       "False"
      ]
     },
     "execution_count": 129,
     "metadata": {},
     "output_type": "execute_result"
    }
   ],
   "source": [
    "not 1==1"
   ]
  },
  {
   "cell_type": "code",
   "execution_count": null,
   "id": "446c8f7b",
   "metadata": {},
   "outputs": [],
   "source": []
  },
  {
   "cell_type": "markdown",
   "id": "f60b3774",
   "metadata": {},
   "source": [
    "if elif and else"
   ]
  },
  {
   "cell_type": "code",
   "execution_count": 135,
   "id": "c441381e",
   "metadata": {},
   "outputs": [
    {
     "name": "stdout",
     "output_type": "stream",
     "text": [
      "is true\n"
     ]
    }
   ],
   "source": [
    "if 3>2:\n",
    "    print('is true')\n",
    "else:\n",
    "    print('not true')"
   ]
  },
  {
   "cell_type": "code",
   "execution_count": 141,
   "id": "e31df116",
   "metadata": {},
   "outputs": [
    {
     "name": "stdout",
     "output_type": "stream",
     "text": [
      "Feed me\n"
     ]
    }
   ],
   "source": [
    "hungry = True\n",
    "if hungry:\n",
    "    print('Feed me')\n",
    "else:\n",
    "    print(\"I'am not hungry\")"
   ]
  },
  {
   "cell_type": "code",
   "execution_count": 143,
   "id": "f5171c7a",
   "metadata": {},
   "outputs": [
    {
     "name": "stdout",
     "output_type": "stream",
     "text": [
      "car is cool\n"
     ]
    }
   ],
   "source": [
    "loc = 'bank'\n",
    "if loc == \"bank\":\n",
    "    print(\"car is cool\")\n",
    "else:\n",
    "    print(\"I need to find cars\")"
   ]
  },
  {
   "cell_type": "code",
   "execution_count": null,
   "id": "7b9c969e",
   "metadata": {},
   "outputs": [],
   "source": []
  },
  {
   "cell_type": "code",
   "execution_count": null,
   "id": "002cb86d",
   "metadata": {},
   "outputs": [],
   "source": []
  },
  {
   "cell_type": "markdown",
   "id": "128a9538",
   "metadata": {},
   "source": [
    "For loops in Python iterate list"
   ]
  },
  {
   "cell_type": "code",
   "execution_count": null,
   "id": "0ebcd3c7",
   "metadata": {},
   "outputs": [],
   "source": []
  },
  {
   "cell_type": "code",
   "execution_count": 149,
   "id": "cadb2f54",
   "metadata": {},
   "outputs": [
    {
     "name": "stdout",
     "output_type": "stream",
     "text": [
      "1\n",
      "2\n",
      "3\n"
     ]
    }
   ],
   "source": [
    "item = [1,2,3]\n",
    "for new_item in item:\n",
    "    print(new_item)"
   ]
  },
  {
   "cell_type": "code",
   "execution_count": 150,
   "id": "4deac6e6",
   "metadata": {},
   "outputs": [],
   "source": [
    "my_list = [1,2,3,4,5,6,7,8,9,10]"
   ]
  },
  {
   "cell_type": "code",
   "execution_count": 154,
   "id": "2b613113",
   "metadata": {},
   "outputs": [
    {
     "name": "stdout",
     "output_type": "stream",
     "text": [
      "1\n",
      "2\n",
      "3\n",
      "4\n",
      "5\n",
      "6\n",
      "7\n",
      "8\n",
      "9\n",
      "10\n"
     ]
    }
   ],
   "source": [
    "for item in my_list:\n",
    "    print(item)"
   ]
  },
  {
   "cell_type": "code",
   "execution_count": 161,
   "id": "31dce80b",
   "metadata": {},
   "outputs": [
    {
     "name": "stdout",
     "output_type": "stream",
     "text": [
      "This is an odd number 1\n",
      "2\n",
      "This is an odd number 3\n",
      "4\n",
      "This is an odd number 5\n",
      "6\n",
      "This is an odd number 7\n",
      "8\n",
      "This is an odd number 9\n",
      "10\n"
     ]
    }
   ],
   "source": [
    "for num in my_list:\n",
    "    if num % 2 == 0:\n",
    "        print(num)\n",
    "    else:\n",
    "        print('This is an odd number {}'.format(num))"
   ]
  },
  {
   "cell_type": "code",
   "execution_count": null,
   "id": "d7866017",
   "metadata": {},
   "outputs": [],
   "source": []
  },
  {
   "cell_type": "code",
   "execution_count": 164,
   "id": "193bbf72",
   "metadata": {},
   "outputs": [
    {
     "name": "stdout",
     "output_type": "stream",
     "text": [
      "55\n"
     ]
    }
   ],
   "source": [
    "my_list = [1,2,3,4,5,6,7,8,9,10]\n",
    "list_sum = 0\n",
    "for num in my_list:\n",
    "    list_sum = num + list_sum\n",
    "print(list_sum)"
   ]
  },
  {
   "cell_type": "code",
   "execution_count": null,
   "id": "f2480c87",
   "metadata": {},
   "outputs": [],
   "source": []
  },
  {
   "cell_type": "markdown",
   "id": "73f0b188",
   "metadata": {},
   "source": [
    "Iterate string using for loop"
   ]
  },
  {
   "cell_type": "code",
   "execution_count": 168,
   "id": "1c0dfd72",
   "metadata": {},
   "outputs": [
    {
     "name": "stdout",
     "output_type": "stream",
     "text": [
      "lisa\n",
      "lisa\n",
      "lisa\n",
      "lisa\n",
      "lisa\n",
      "lisa\n",
      "lisa\n",
      "lisa\n",
      "lisa\n",
      "lisa\n",
      "lisa\n",
      "lisa\n"
     ]
    }
   ],
   "source": [
    "my_string = \"Hello World!\"\n",
    "for _ in my_string:\n",
    "    print(\"lisa\")"
   ]
  },
  {
   "cell_type": "code",
   "execution_count": null,
   "id": "6dff293f",
   "metadata": {},
   "outputs": [],
   "source": []
  },
  {
   "cell_type": "markdown",
   "id": "3217fd1e",
   "metadata": {},
   "source": [
    "pig latin\n",
    "Igpay Atinlay"
   ]
  },
  {
   "cell_type": "code",
   "execution_count": null,
   "id": "85b69d49",
   "metadata": {},
   "outputs": [],
   "source": []
  },
  {
   "cell_type": "code",
   "execution_count": 198,
   "id": "4ce9e6ed",
   "metadata": {},
   "outputs": [
    {
     "name": "stdout",
     "output_type": "stream",
     "text": [
      "Enter word to be change to pig latin: valdo silva\n",
      "You have entered: valdo silva\n",
      "['valdo', 'silva']\n",
      "Your pig latin word is: aldo silva['valdo', 'silva']ay\n",
      "Your pig latin word is: aldo silva['valdo', 'silva']ay\n"
     ]
    }
   ],
   "source": [
    "ay = \"ay\"\n",
    "wovel= ['A','E','I','O','U']\n",
    "pig_latin = input(\"Enter word to be change to pig latin: \")\n",
    "print(f\"You have entered: {pig_latin}\")\n",
    "\n",
    "change_string = str(pig_latin)\n",
    "a = change_string[1:length_string]\n",
    "length_string = len(change_string)\n",
    "change_string = list(change_string.split(\" \"))\n",
    "print(change_string)\n",
    "for e in change_string:\n",
    "    if e[0] != wovel:\n",
    "        print(f'Your pig latin word is: {a}'+str(change_string)+ay)\n",
    "    else:\n",
    "        print(f'I do not know the word: {pig_latin} is')\n",
    "\n"
   ]
  },
  {
   "cell_type": "markdown",
   "id": "02d82e40",
   "metadata": {},
   "source": [
    "if change_string != wovel:\n",
    "    print(f'Your pig latin word is: {a}'+change_string+ay)\n",
    "else:\n",
    "    print(f'I do not know the word: {pig_latin} is')"
   ]
  },
  {
   "cell_type": "code",
   "execution_count": 193,
   "id": "d39a346b",
   "metadata": {},
   "outputs": [
    {
     "name": "stdout",
     "output_type": "stream",
     "text": [
      "['valdo', 'silva']\n"
     ]
    },
    {
     "data": {
      "text/plain": [
       "list"
      ]
     },
     "execution_count": 193,
     "metadata": {},
     "output_type": "execute_result"
    }
   ],
   "source": [
    "a = 'valdo silva'\n",
    "a = list(a.split(\" \"))\n",
    "print(a)\n",
    "type(a)"
   ]
  },
  {
   "cell_type": "code",
   "execution_count": null,
   "id": "8331b94b",
   "metadata": {},
   "outputs": [],
   "source": []
  },
  {
   "cell_type": "code",
   "execution_count": null,
   "id": "3b1063e4",
   "metadata": {},
   "outputs": [],
   "source": []
  },
  {
   "cell_type": "markdown",
   "id": "58344d44",
   "metadata": {},
   "source": [
    "Tuple unpacking"
   ]
  },
  {
   "cell_type": "code",
   "execution_count": 205,
   "id": "f446a73c",
   "metadata": {},
   "outputs": [
    {
     "name": "stdout",
     "output_type": "stream",
     "text": [
      "1\n",
      "2\n",
      "3\n",
      "4\n",
      "5\n",
      "6\n",
      "7\n",
      "8\n",
      "9\n",
      "The length is:3\n"
     ]
    }
   ],
   "source": [
    "mylist = [(1,2,3),(4,5,6),(7,8,9)] \n",
    "for (a,b,c) in mylist:#tuple unpacking method.\n",
    "    print(a)\n",
    "    print(b)\n",
    "    print(c)\n",
    "print(f'The length is:{len(mylist)}')"
   ]
  },
  {
   "cell_type": "code",
   "execution_count": 206,
   "id": "5b711fbf",
   "metadata": {},
   "outputs": [
    {
     "name": "stdout",
     "output_type": "stream",
     "text": [
      "(1, 2, 3)\n",
      "(4, 5, 6)\n",
      "(7, 8, 9)\n"
     ]
    }
   ],
   "source": [
    "for item in mylist:\n",
    "    print(item) #this is tuple"
   ]
  },
  {
   "cell_type": "code",
   "execution_count": null,
   "id": "cc125d5f",
   "metadata": {},
   "outputs": [],
   "source": []
  },
  {
   "cell_type": "code",
   "execution_count": null,
   "id": "d1b228ca",
   "metadata": {},
   "outputs": [],
   "source": []
  },
  {
   "cell_type": "code",
   "execution_count": null,
   "id": "5e4d886e",
   "metadata": {},
   "outputs": [],
   "source": []
  },
  {
   "cell_type": "code",
   "execution_count": null,
   "id": "bbbd8f0c",
   "metadata": {},
   "outputs": [],
   "source": []
  },
  {
   "cell_type": "code",
   "execution_count": null,
   "id": "30a20568",
   "metadata": {},
   "outputs": [],
   "source": []
  },
  {
   "cell_type": "markdown",
   "id": "593fc6e2",
   "metadata": {},
   "source": [
    "use iteration for loop in dictionary"
   ]
  },
  {
   "cell_type": "code",
   "execution_count": 267,
   "id": "eb8c226c",
   "metadata": {},
   "outputs": [
    {
     "name": "stdout",
     "output_type": "stream",
     "text": [
      "1\n",
      "3\n"
     ]
    }
   ],
   "source": [
    "d ={'k1':1, 'k2':2, 'k3':3}\n",
    "for item in d.values():\n",
    "    if item == 2:\n",
    "        continue\n",
    "    print(item)"
   ]
  },
  {
   "cell_type": "code",
   "execution_count": null,
   "id": "22277c50",
   "metadata": {},
   "outputs": [],
   "source": []
  },
  {
   "cell_type": "code",
   "execution_count": null,
   "id": "a24d155d",
   "metadata": {},
   "outputs": [],
   "source": []
  },
  {
   "cell_type": "code",
   "execution_count": null,
   "id": "ca82c59f",
   "metadata": {},
   "outputs": [],
   "source": []
  },
  {
   "cell_type": "code",
   "execution_count": null,
   "id": "f07d02f5",
   "metadata": {},
   "outputs": [],
   "source": []
  },
  {
   "cell_type": "code",
   "execution_count": null,
   "id": "104424b4",
   "metadata": {},
   "outputs": [],
   "source": []
  },
  {
   "cell_type": "markdown",
   "id": "a9cf8d84",
   "metadata": {},
   "source": [
    "While loop"
   ]
  },
  {
   "cell_type": "code",
   "execution_count": null,
   "id": "540bdace",
   "metadata": {},
   "outputs": [],
   "source": []
  },
  {
   "cell_type": "code",
   "execution_count": 217,
   "id": "ae48d818",
   "metadata": {},
   "outputs": [
    {
     "name": "stdout",
     "output_type": "stream",
     "text": [
      "The x is 1\n",
      "The x is 2\n",
      "The x is 3\n",
      "The x is 4\n",
      "X is not less than 5\n"
     ]
    }
   ],
   "source": [
    "x = 1\n",
    "while x<5:\n",
    "    print(f'The x is {x}')\n",
    "    x += 1\n",
    "else:\n",
    "    print('X is not less than 5')"
   ]
  },
  {
   "cell_type": "code",
   "execution_count": null,
   "id": "587d3f03",
   "metadata": {},
   "outputs": [],
   "source": []
  },
  {
   "cell_type": "code",
   "execution_count": null,
   "id": "8d90512d",
   "metadata": {},
   "outputs": [],
   "source": []
  },
  {
   "cell_type": "code",
   "execution_count": null,
   "id": "7a832ad0",
   "metadata": {},
   "outputs": [],
   "source": []
  },
  {
   "cell_type": "code",
   "execution_count": null,
   "id": "20f69b34",
   "metadata": {},
   "outputs": [],
   "source": []
  },
  {
   "cell_type": "markdown",
   "id": "8246e428",
   "metadata": {},
   "source": [
    "break, continue, pass"
   ]
  },
  {
   "cell_type": "markdown",
   "id": "5242c905",
   "metadata": {},
   "source": [
    "Pass"
   ]
  },
  {
   "cell_type": "code",
   "execution_count": 222,
   "id": "bdf1fb9b",
   "metadata": {},
   "outputs": [
    {
     "name": "stdout",
     "output_type": "stream",
     "text": [
      "I will be back for this code\n"
     ]
    }
   ],
   "source": [
    "\n",
    "item = [1,2,3]\n",
    "for i in item:\n",
    "    pass #used to prevent error on the output result\n",
    "print('I will be back for this code')"
   ]
  },
  {
   "cell_type": "code",
   "execution_count": null,
   "id": "4a5f5d58",
   "metadata": {},
   "outputs": [],
   "source": []
  },
  {
   "cell_type": "code",
   "execution_count": null,
   "id": "f11c6253",
   "metadata": {},
   "outputs": [],
   "source": []
  },
  {
   "cell_type": "markdown",
   "id": "bbe15b21",
   "metadata": {},
   "source": [
    "continue"
   ]
  },
  {
   "cell_type": "code",
   "execution_count": 228,
   "id": "d4990922",
   "metadata": {},
   "outputs": [
    {
     "name": "stdout",
     "output_type": "stream",
     "text": [
      "a\n",
      "l\n",
      "d\n",
      "o\n"
     ]
    }
   ],
   "source": [
    "mystring = 'valdo'\n",
    "for item in mystring:\n",
    "    if item == 'v':\n",
    "        continue\n",
    "    print(item)"
   ]
  },
  {
   "cell_type": "code",
   "execution_count": null,
   "id": "e71846db",
   "metadata": {},
   "outputs": [],
   "source": []
  },
  {
   "cell_type": "code",
   "execution_count": null,
   "id": "b7b7ea74",
   "metadata": {},
   "outputs": [],
   "source": []
  },
  {
   "cell_type": "markdown",
   "id": "c538fb31",
   "metadata": {},
   "source": [
    "Break "
   ]
  },
  {
   "cell_type": "code",
   "execution_count": 231,
   "id": "bb8a66eb",
   "metadata": {},
   "outputs": [
    {
     "name": "stdout",
     "output_type": "stream",
     "text": [
      "0\n",
      "1\n",
      "2\n"
     ]
    }
   ],
   "source": [
    "#mostly used in while loop\n",
    "x = 0\n",
    "while x<5:\n",
    "    if x == 3:\n",
    "        break #stop from iterate trough if the x equal 3\n",
    "    print(x)\n",
    "    x += 1"
   ]
  },
  {
   "cell_type": "code",
   "execution_count": null,
   "id": "b0538e70",
   "metadata": {},
   "outputs": [],
   "source": []
  },
  {
   "cell_type": "markdown",
   "id": "7638d5fd",
   "metadata": {},
   "source": [
    "USEFUL FUNCTION"
   ]
  },
  {
   "cell_type": "markdown",
   "id": "0fb0cddf",
   "metadata": {},
   "source": [
    "RANGE FUNCTION is used to generate value range which similar to slicing method it has (start,stop, step)\n",
    "start = start point of value\n",
    "stop = stop point but not include\n",
    "step = how many step it takes "
   ]
  },
  {
   "cell_type": "code",
   "execution_count": 234,
   "id": "c3d7e1cb",
   "metadata": {},
   "outputs": [],
   "source": [
    "myrange=[1,2,3,4,5,6,7,8,9,10]\n"
   ]
  },
  {
   "cell_type": "code",
   "execution_count": 235,
   "id": "d8a45539",
   "metadata": {},
   "outputs": [
    {
     "name": "stdout",
     "output_type": "stream",
     "text": [
      "0\n",
      "1\n",
      "2\n",
      "3\n",
      "4\n",
      "5\n",
      "6\n",
      "7\n",
      "8\n",
      "9\n"
     ]
    }
   ],
   "source": [
    "for i in range(10): #all the way up to but not include 10\n",
    "    print(i)"
   ]
  },
  {
   "cell_type": "code",
   "execution_count": 236,
   "id": "8c4f32cf",
   "metadata": {},
   "outputs": [
    {
     "name": "stdout",
     "output_type": "stream",
     "text": [
      "3\n",
      "4\n",
      "5\n",
      "6\n",
      "7\n",
      "8\n",
      "9\n"
     ]
    }
   ],
   "source": [
    "for i in range(3,10): #astart from 3 all the way up to but not include 10\n",
    "    print(i)"
   ]
  },
  {
   "cell_type": "code",
   "execution_count": 237,
   "id": "3d884718",
   "metadata": {},
   "outputs": [
    {
     "name": "stdout",
     "output_type": "stream",
     "text": [
      "0\n",
      "2\n",
      "4\n",
      "6\n",
      "8\n"
     ]
    }
   ],
   "source": [
    "for i in range(0,10,2): #start with 0 all the way up to but not include with step 2\n",
    "    print(i)"
   ]
  },
  {
   "cell_type": "code",
   "execution_count": null,
   "id": "52871308",
   "metadata": {},
   "outputs": [],
   "source": []
  },
  {
   "cell_type": "code",
   "execution_count": null,
   "id": "2d9b8fb8",
   "metadata": {},
   "outputs": [],
   "source": []
  },
  {
   "cell_type": "markdown",
   "id": "76178f66",
   "metadata": {},
   "source": [
    "ENUMERATE FUNCTION"
   ]
  },
  {
   "cell_type": "code",
   "execution_count": 239,
   "id": "e5053f9d",
   "metadata": {},
   "outputs": [
    {
     "name": "stdout",
     "output_type": "stream",
     "text": [
      "At index 0 the letter is a\n",
      "At index 1 the letter is b\n",
      "At index 2 the letter is c\n",
      "At index 3 the letter is d\n"
     ]
    }
   ],
   "source": [
    "index_count = 0       #example of function that iterate indexing value of string'abcd'\n",
    "for letter in 'abcd':\n",
    "    print(f'At index {index_count} the letter is {letter}')\n",
    "    index_count += 1"
   ]
  },
  {
   "cell_type": "markdown",
   "id": "327d6fbf",
   "metadata": {},
   "source": [
    "how to use enumerate in this particular code"
   ]
  },
  {
   "cell_type": "code",
   "execution_count": 240,
   "id": "9f966b79",
   "metadata": {},
   "outputs": [
    {
     "name": "stdout",
     "output_type": "stream",
     "text": [
      "(0, 'a')\n",
      "(1, 'b')\n",
      "(2, 'c')\n",
      "(3, 'd')\n"
     ]
    }
   ],
   "source": [
    "letter = 'abcd'\n",
    "for i in enumerate(letter): #it shows the result in form of tuple which can be defined \n",
    "    print(i)"
   ]
  },
  {
   "cell_type": "code",
   "execution_count": 245,
   "id": "4eb45cc2",
   "metadata": {},
   "outputs": [
    {
     "name": "stdout",
     "output_type": "stream",
     "text": [
      "0\n",
      "a\n",
      "\n",
      "\n",
      "1\n",
      "b\n",
      "\n",
      "\n",
      "2\n",
      "c\n",
      "\n",
      "\n",
      "3\n",
      "d\n",
      "\n",
      "\n"
     ]
    }
   ],
   "source": [
    "letter = 'abcd'\n",
    "for (index, value) in enumerate(letter): #it shows the result in form of tuple which can be defined as we learn in tuple\n",
    "    print(index)\n",
    "    print(value)\n",
    "    print('\\n')"
   ]
  },
  {
   "cell_type": "code",
   "execution_count": null,
   "id": "93a7d61e",
   "metadata": {},
   "outputs": [],
   "source": []
  },
  {
   "cell_type": "code",
   "execution_count": null,
   "id": "7535b87f",
   "metadata": {},
   "outputs": [],
   "source": []
  },
  {
   "cell_type": "markdown",
   "id": "354d1614",
   "metadata": {},
   "source": [
    "ZIP FUNCTION #use to zip together lists and present as tuple "
   ]
  },
  {
   "cell_type": "code",
   "execution_count": 247,
   "id": "95cbf24f",
   "metadata": {},
   "outputs": [
    {
     "name": "stdout",
     "output_type": "stream",
     "text": [
      "(1, 'a')\n",
      "(2, 'b')\n",
      "(3, 'c')\n",
      "(4, 'd')\n"
     ]
    }
   ],
   "source": [
    "mylist1=[1,2,3,4]\n",
    "mylist2=['a','b','c','d']\n",
    "mylist3=[20.4,100,34,'valdo']\n",
    "for item in zip(mylist1,mylist2):  #output as tuple\n",
    "    print(item)"
   ]
  },
  {
   "cell_type": "code",
   "execution_count": 248,
   "id": "f0894302",
   "metadata": {},
   "outputs": [
    {
     "name": "stdout",
     "output_type": "stream",
     "text": [
      "(1, 'a', 20.4)\n",
      "(2, 'b', 100)\n",
      "(3, 'c', 34)\n",
      "(4, 'd', 'valdo')\n"
     ]
    }
   ],
   "source": [
    "mylist1=[1,2,3,4]\n",
    "mylist2=['a','b','c','d']\n",
    "mylist3=[20.4,100,34,'valdo']\n",
    "for item in zip(mylist1,mylist2,mylist3): #output as tuple \n",
    "    print(item)"
   ]
  },
  {
   "cell_type": "code",
   "execution_count": 250,
   "id": "5701e2b7",
   "metadata": {},
   "outputs": [
    {
     "name": "stdout",
     "output_type": "stream",
     "text": [
      "1\n",
      "a\n",
      "20.4\n",
      "\n",
      "\n",
      "2\n",
      "b\n",
      "100\n",
      "\n",
      "\n",
      "3\n",
      "c\n",
      "34\n",
      "\n",
      "\n",
      "4\n",
      "d\n",
      "valdo\n",
      "\n",
      "\n"
     ]
    }
   ],
   "source": [
    "mylist1=[1,2,3,4]\n",
    "mylist2=['a','b','c','d']\n",
    "mylist3=[20.4,100,34,'valdo']\n",
    "for a,b,c in zip(mylist1,mylist2,mylist3): #output as tuple therefore can be unpacked\n",
    "    print(a)\n",
    "    print(b)\n",
    "    print(c)\n",
    "    print('\\n')"
   ]
  },
  {
   "cell_type": "code",
   "execution_count": 252,
   "id": "f14570b0",
   "metadata": {},
   "outputs": [
    {
     "data": {
      "text/plain": [
       "[(1, 'a'), (2, 'b'), (3, 'c'), (4, 'd')]"
      ]
     },
     "execution_count": 252,
     "metadata": {},
     "output_type": "execute_result"
    }
   ],
   "source": [
    "list(zip(mylist1,mylist2))"
   ]
  },
  {
   "cell_type": "code",
   "execution_count": null,
   "id": "ff02af7e",
   "metadata": {},
   "outputs": [],
   "source": []
  },
  {
   "cell_type": "code",
   "execution_count": null,
   "id": "602b84e1",
   "metadata": {},
   "outputs": [],
   "source": []
  },
  {
   "cell_type": "code",
   "execution_count": null,
   "id": "f40366c0",
   "metadata": {},
   "outputs": [],
   "source": []
  },
  {
   "cell_type": "code",
   "execution_count": null,
   "id": "19bab43d",
   "metadata": {},
   "outputs": [],
   "source": []
  },
  {
   "cell_type": "markdown",
   "id": "eb3a48dc",
   "metadata": {},
   "source": [
    "IN FUNCTION #to check if item inside a llists, string, dictionary"
   ]
  },
  {
   "cell_type": "code",
   "execution_count": 254,
   "id": "43382e90",
   "metadata": {},
   "outputs": [
    {
     "data": {
      "text/plain": [
       "True"
      ]
     },
     "execution_count": 254,
     "metadata": {},
     "output_type": "execute_result"
    }
   ],
   "source": [
    "1 in [1,2,3]"
   ]
  },
  {
   "cell_type": "code",
   "execution_count": 255,
   "id": "0ad82820",
   "metadata": {},
   "outputs": [
    {
     "data": {
      "text/plain": [
       "False"
      ]
     },
     "execution_count": 255,
     "metadata": {},
     "output_type": "execute_result"
    }
   ],
   "source": [
    "'a' in ['b','c']"
   ]
  },
  {
   "cell_type": "code",
   "execution_count": 256,
   "id": "f13121e1",
   "metadata": {},
   "outputs": [
    {
     "data": {
      "text/plain": [
       "True"
      ]
     },
     "execution_count": 256,
     "metadata": {},
     "output_type": "execute_result"
    }
   ],
   "source": [
    "'a' in 'valdo'"
   ]
  },
  {
   "cell_type": "code",
   "execution_count": 257,
   "id": "a6ff86f8",
   "metadata": {},
   "outputs": [
    {
     "data": {
      "text/plain": [
       "False"
      ]
     },
     "execution_count": 257,
     "metadata": {},
     "output_type": "execute_result"
    }
   ],
   "source": [
    "'key' in {'key1': 'valdo'}"
   ]
  },
  {
   "cell_type": "code",
   "execution_count": 259,
   "id": "606919db",
   "metadata": {},
   "outputs": [
    {
     "data": {
      "text/plain": [
       "False"
      ]
     },
     "execution_count": 259,
     "metadata": {},
     "output_type": "execute_result"
    }
   ],
   "source": [
    "d = {'key1': 'valdo'}\n",
    "'key1' in d.values()"
   ]
  },
  {
   "cell_type": "code",
   "execution_count": 261,
   "id": "9280f519",
   "metadata": {},
   "outputs": [
    {
     "data": {
      "text/plain": [
       "True"
      ]
     },
     "execution_count": 261,
     "metadata": {},
     "output_type": "execute_result"
    }
   ],
   "source": [
    "'key1' in d.keys()"
   ]
  },
  {
   "cell_type": "code",
   "execution_count": 263,
   "id": "ab40dab9",
   "metadata": {},
   "outputs": [
    {
     "data": {
      "text/plain": [
       "{'key1': 'valdo'}"
      ]
     },
     "execution_count": 263,
     "metadata": {},
     "output_type": "execute_result"
    }
   ],
   "source": [
    "d"
   ]
  },
  {
   "cell_type": "code",
   "execution_count": 264,
   "id": "cd5aee37",
   "metadata": {},
   "outputs": [
    {
     "data": {
      "text/plain": [
       "'valdo'"
      ]
     },
     "execution_count": 264,
     "metadata": {},
     "output_type": "execute_result"
    }
   ],
   "source": [
    "d['key1']"
   ]
  },
  {
   "cell_type": "code",
   "execution_count": null,
   "id": "5fb090c7",
   "metadata": {},
   "outputs": [],
   "source": []
  },
  {
   "cell_type": "markdown",
   "id": "aed70aa2",
   "metadata": {},
   "source": [
    "MIN AND MAX "
   ]
  },
  {
   "cell_type": "code",
   "execution_count": 269,
   "id": "b8bc766b",
   "metadata": {},
   "outputs": [],
   "source": [
    "mylist = [34,6,89,2,-1]"
   ]
  },
  {
   "cell_type": "code",
   "execution_count": 270,
   "id": "c8f6e6c4",
   "metadata": {},
   "outputs": [
    {
     "data": {
      "text/plain": [
       "-1"
      ]
     },
     "execution_count": 270,
     "metadata": {},
     "output_type": "execute_result"
    }
   ],
   "source": [
    "min(mylist)"
   ]
  },
  {
   "cell_type": "code",
   "execution_count": 271,
   "id": "b01f6049",
   "metadata": {},
   "outputs": [
    {
     "data": {
      "text/plain": [
       "89"
      ]
     },
     "execution_count": 271,
     "metadata": {},
     "output_type": "execute_result"
    }
   ],
   "source": [
    "max(mylist)"
   ]
  },
  {
   "cell_type": "code",
   "execution_count": null,
   "id": "c14da278",
   "metadata": {},
   "outputs": [],
   "source": []
  },
  {
   "cell_type": "code",
   "execution_count": null,
   "id": "a96cc0b8",
   "metadata": {},
   "outputs": [],
   "source": []
  },
  {
   "cell_type": "markdown",
   "id": "840b65bc",
   "metadata": {},
   "source": [
    "IMPORT LIBRARY (import RANDOM NUMBER)"
   ]
  },
  {
   "cell_type": "code",
   "execution_count": 283,
   "id": "feb49cf7",
   "metadata": {},
   "outputs": [],
   "source": [
    "from random import shuffle\n",
    "mylist=[1,2,3,4,5,6,7,8,9]\n",
    "shuffle(mylist)"
   ]
  },
  {
   "cell_type": "code",
   "execution_count": 284,
   "id": "ec4ff6db",
   "metadata": {},
   "outputs": [
    {
     "data": {
      "text/plain": [
       "[6, 5, 4, 8, 7, 1, 3, 9, 2]"
      ]
     },
     "execution_count": 284,
     "metadata": {},
     "output_type": "execute_result"
    }
   ],
   "source": [
    "mylist"
   ]
  },
  {
   "cell_type": "code",
   "execution_count": 278,
   "id": "6499609b",
   "metadata": {},
   "outputs": [
    {
     "data": {
      "text/plain": [
       "[3, 9, 7, 5, 4, 1, 8, 6, 2]"
      ]
     },
     "execution_count": 278,
     "metadata": {},
     "output_type": "execute_result"
    }
   ],
   "source": [
    "mylist"
   ]
  },
  {
   "cell_type": "code",
   "execution_count": null,
   "id": "b5f9e340",
   "metadata": {},
   "outputs": [],
   "source": []
  },
  {
   "cell_type": "code",
   "execution_count": 285,
   "id": "16845b7a",
   "metadata": {},
   "outputs": [],
   "source": [
    "from random import randint"
   ]
  },
  {
   "cell_type": "code",
   "execution_count": 289,
   "id": "b2658085",
   "metadata": {},
   "outputs": [
    {
     "data": {
      "text/plain": [
       "4"
      ]
     },
     "execution_count": 289,
     "metadata": {},
     "output_type": "execute_result"
    }
   ],
   "source": [
    "randint(0,9)"
   ]
  },
  {
   "cell_type": "code",
   "execution_count": 297,
   "id": "578903a9",
   "metadata": {},
   "outputs": [],
   "source": [
    "my_random_int = randint(0,100)"
   ]
  },
  {
   "cell_type": "code",
   "execution_count": 296,
   "id": "4c986caf",
   "metadata": {},
   "outputs": [
    {
     "data": {
      "text/plain": [
       "31"
      ]
     },
     "execution_count": 296,
     "metadata": {},
     "output_type": "execute_result"
    }
   ],
   "source": [
    "my_random_int"
   ]
  },
  {
   "cell_type": "code",
   "execution_count": 298,
   "id": "a0d258e5",
   "metadata": {},
   "outputs": [
    {
     "data": {
      "text/plain": [
       "76"
      ]
     },
     "execution_count": 298,
     "metadata": {},
     "output_type": "execute_result"
    }
   ],
   "source": [
    "my_random_int"
   ]
  },
  {
   "cell_type": "code",
   "execution_count": null,
   "id": "debd8f97",
   "metadata": {},
   "outputs": [],
   "source": []
  },
  {
   "cell_type": "code",
   "execution_count": null,
   "id": "76e9d7a4",
   "metadata": {},
   "outputs": [],
   "source": []
  },
  {
   "cell_type": "markdown",
   "id": "42ea18d1",
   "metadata": {},
   "source": [
    "INPUT FUNCTION"
   ]
  },
  {
   "cell_type": "code",
   "execution_count": 301,
   "id": "51854e4a",
   "metadata": {},
   "outputs": [
    {
     "name": "stdout",
     "output_type": "stream",
     "text": [
      "What is your name: valdo\n"
     ]
    },
    {
     "data": {
      "text/plain": [
       "'valdo'"
      ]
     },
     "execution_count": 301,
     "metadata": {},
     "output_type": "execute_result"
    }
   ],
   "source": [
    "input('What is your name: ')"
   ]
  },
  {
   "cell_type": "code",
   "execution_count": 302,
   "id": "40c3f6f8",
   "metadata": {},
   "outputs": [
    {
     "name": "stdout",
     "output_type": "stream",
     "text": [
      "pick a number: 4\n"
     ]
    }
   ],
   "source": [
    "result = input('pick a number: ') #input always return string"
   ]
  },
  {
   "cell_type": "code",
   "execution_count": 303,
   "id": "c1ba89d3",
   "metadata": {},
   "outputs": [
    {
     "data": {
      "text/plain": [
       "'4'"
      ]
     },
     "execution_count": 303,
     "metadata": {},
     "output_type": "execute_result"
    }
   ],
   "source": [
    "result"
   ]
  },
  {
   "cell_type": "code",
   "execution_count": 304,
   "id": "77711fe1",
   "metadata": {},
   "outputs": [
    {
     "data": {
      "text/plain": [
       "'4'"
      ]
     },
     "execution_count": 304,
     "metadata": {},
     "output_type": "execute_result"
    }
   ],
   "source": [
    "result "
   ]
  },
  {
   "cell_type": "code",
   "execution_count": 305,
   "id": "08b1ca34",
   "metadata": {},
   "outputs": [
    {
     "name": "stdout",
     "output_type": "stream",
     "text": [
      "pick a number: 5\n"
     ]
    }
   ],
   "source": [
    "result = int(input('pick a number: '))"
   ]
  },
  {
   "cell_type": "code",
   "execution_count": 307,
   "id": "41d02508",
   "metadata": {},
   "outputs": [
    {
     "data": {
      "text/plain": [
       "int"
      ]
     },
     "execution_count": 307,
     "metadata": {},
     "output_type": "execute_result"
    }
   ],
   "source": [
    "type(result)"
   ]
  },
  {
   "cell_type": "code",
   "execution_count": null,
   "id": "b9932a83",
   "metadata": {},
   "outputs": [],
   "source": []
  },
  {
   "cell_type": "code",
   "execution_count": null,
   "id": "94638ce5",
   "metadata": {},
   "outputs": [],
   "source": []
  },
  {
   "cell_type": "code",
   "execution_count": null,
   "id": "a2d13760",
   "metadata": {},
   "outputs": [],
   "source": []
  },
  {
   "cell_type": "code",
   "execution_count": null,
   "id": "70fe7f4c",
   "metadata": {},
   "outputs": [],
   "source": []
  }
 ],
 "metadata": {
  "kernelspec": {
   "display_name": "Python 3",
   "language": "python",
   "name": "python3"
  },
  "language_info": {
   "codemirror_mode": {
    "name": "ipython",
    "version": 3
   },
   "file_extension": ".py",
   "mimetype": "text/x-python",
   "name": "python",
   "nbconvert_exporter": "python",
   "pygments_lexer": "ipython3",
   "version": "3.8.8"
  }
 },
 "nbformat": 4,
 "nbformat_minor": 5
}
