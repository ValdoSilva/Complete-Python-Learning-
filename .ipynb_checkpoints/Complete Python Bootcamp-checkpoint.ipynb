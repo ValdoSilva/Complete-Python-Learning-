{
 "cells": [
  {
   "cell_type": "code",
   "execution_count": 1,
   "id": "b03d386a",
   "metadata": {},
   "outputs": [
    {
     "name": "stdout",
     "output_type": "stream",
     "text": [
      "Hello\n"
     ]
    }
   ],
   "source": [
    "print(\"Hello\")"
   ]
  },
  {
   "cell_type": "code",
   "execution_count": 2,
   "id": "f897f232",
   "metadata": {},
   "outputs": [
    {
     "name": "stdout",
     "output_type": "stream",
     "text": [
      "enter\n"
     ]
    }
   ],
   "source": [
    "print('enter')"
   ]
  },
  {
   "cell_type": "markdown",
   "id": "816f7893",
   "metadata": {},
   "source": [
    "Normal text as explanation"
   ]
  },
  {
   "cell_type": "code",
   "execution_count": 2,
   "id": "e062182b",
   "metadata": {},
   "outputs": [
    {
     "name": "stdout",
     "output_type": "stream",
     "text": [
      "2\n"
     ]
    }
   ],
   "source": [
    "my_dog = 2\n",
    "print(my_dog)"
   ]
  },
  {
   "cell_type": "code",
   "execution_count": 3,
   "id": "4377fdb3",
   "metadata": {},
   "outputs": [],
   "source": [
    "a = 2\n"
   ]
  },
  {
   "cell_type": "code",
   "execution_count": 4,
   "id": "ac28cd56",
   "metadata": {},
   "outputs": [
    {
     "data": {
      "text/plain": [
       "2"
      ]
     },
     "execution_count": 4,
     "metadata": {},
     "output_type": "execute_result"
    }
   ],
   "source": [
    "a"
   ]
  },
  {
   "cell_type": "code",
   "execution_count": 5,
   "id": "ed856c28",
   "metadata": {},
   "outputs": [
    {
     "data": {
      "text/plain": [
       "int"
      ]
     },
     "execution_count": 5,
     "metadata": {},
     "output_type": "execute_result"
    }
   ],
   "source": [
    "type(a)"
   ]
  },
  {
   "cell_type": "code",
   "execution_count": 6,
   "id": "55966dd6",
   "metadata": {},
   "outputs": [],
   "source": [
    "a = 3.10"
   ]
  },
  {
   "cell_type": "code",
   "execution_count": 7,
   "id": "c6d0400c",
   "metadata": {},
   "outputs": [
    {
     "data": {
      "text/plain": [
       "3.1"
      ]
     },
     "execution_count": 7,
     "metadata": {},
     "output_type": "execute_result"
    }
   ],
   "source": [
    "a "
   ]
  },
  {
   "cell_type": "code",
   "execution_count": 8,
   "id": "513fe59a",
   "metadata": {},
   "outputs": [
    {
     "data": {
      "text/plain": [
       "float"
      ]
     },
     "execution_count": 8,
     "metadata": {},
     "output_type": "execute_result"
    }
   ],
   "source": [
    "type(a)"
   ]
  },
  {
   "cell_type": "code",
   "execution_count": 10,
   "id": "d07bbfb1",
   "metadata": {},
   "outputs": [],
   "source": [
    "my_income = 100\n",
    "tax_rate = 0.1\n",
    "my_taxes = my_income * tax_rate\n"
   ]
  },
  {
   "cell_type": "code",
   "execution_count": 13,
   "id": "1de6d61d",
   "metadata": {},
   "outputs": [
    {
     "name": "stdout",
     "output_type": "stream",
     "text": [
      "10\n"
     ]
    }
   ],
   "source": [
    "print(int(my_taxes))"
   ]
  },
  {
   "cell_type": "markdown",
   "id": "7894a158",
   "metadata": {},
   "source": [
    "Change string into list and then slice them to get character that you want and then change the result back to string "
   ]
  },
  {
   "cell_type": "code",
   "execution_count": 20,
   "id": "48947424",
   "metadata": {},
   "outputs": [
    {
     "name": "stdout",
     "output_type": "stream",
     "text": [
      "s\n"
     ]
    }
   ],
   "source": [
    "my_char = \"Elisabeth\"\n",
    "print(my_char[3:4])"
   ]
  },
  {
   "cell_type": "code",
   "execution_count": 27,
   "id": "e1444d4d",
   "metadata": {},
   "outputs": [
    {
     "data": {
      "text/plain": [
       "str"
      ]
     },
     "execution_count": 27,
     "metadata": {},
     "output_type": "execute_result"
    }
   ],
   "source": [
    "for str in my_char"
   ]
  },
  {
   "cell_type": "code",
   "execution_count": 22,
   "id": "b6735643",
   "metadata": {},
   "outputs": [
    {
     "name": "stdout",
     "output_type": "stream",
     "text": [
      "Elisabeth\n"
     ]
    }
   ],
   "source": [
    "print(my_char)"
   ]
  },
  {
   "cell_type": "code",
   "execution_count": 28,
   "id": "78c32e43",
   "metadata": {},
   "outputs": [
    {
     "data": {
      "text/plain": [
       "\"this isn't going to work \""
      ]
     },
     "execution_count": 28,
     "metadata": {},
     "output_type": "execute_result"
    }
   ],
   "source": [
    "\"this isn't going to work \""
   ]
  },
  {
   "cell_type": "code",
   "execution_count": 29,
   "id": "3ba5de15",
   "metadata": {},
   "outputs": [
    {
     "data": {
      "text/plain": [
       "'I am gonna finish this course'"
      ]
     },
     "execution_count": 29,
     "metadata": {},
     "output_type": "execute_result"
    }
   ],
   "source": [
    "\"I am gonna finish this course\""
   ]
  },
  {
   "cell_type": "code",
   "execution_count": 30,
   "id": "9dd9502f",
   "metadata": {},
   "outputs": [
    {
     "name": "stdout",
     "output_type": "stream",
     "text": [
      "valdo\n"
     ]
    }
   ],
   "source": [
    "print(\"valdo\")"
   ]
  },
  {
   "cell_type": "code",
   "execution_count": 31,
   "id": "f4678e90",
   "metadata": {},
   "outputs": [
    {
     "name": "stdout",
     "output_type": "stream",
     "text": [
      "Hello \n",
      "WOrld\n"
     ]
    }
   ],
   "source": [
    "print(\"Hello \\nWOrld\")"
   ]
  },
  {
   "cell_type": "code",
   "execution_count": 32,
   "id": "992dae9e",
   "metadata": {},
   "outputs": [
    {
     "data": {
      "text/plain": [
       "29"
      ]
     },
     "execution_count": 32,
     "metadata": {},
     "output_type": "execute_result"
    }
   ],
   "source": [
    "len(\"I am gonna finish this course\")"
   ]
  },
  {
   "cell_type": "markdown",
   "id": "dc2422c6",
   "metadata": {},
   "source": [
    "Indexing"
   ]
  },
  {
   "cell_type": "code",
   "execution_count": 33,
   "id": "e4f94b23",
   "metadata": {},
   "outputs": [
    {
     "data": {
      "text/plain": [
       "'g'"
      ]
     },
     "execution_count": 33,
     "metadata": {},
     "output_type": "execute_result"
    }
   ],
   "source": [
    "my_indexing = \"I am gonna finish this course\"\n",
    "my_indexing[5]"
   ]
  },
  {
   "cell_type": "code",
   "execution_count": 34,
   "id": "645840e0",
   "metadata": {},
   "outputs": [
    {
     "data": {
      "text/plain": [
       "'i'"
      ]
     },
     "execution_count": 34,
     "metadata": {},
     "output_type": "execute_result"
    }
   ],
   "source": [
    "my_indexing[12]"
   ]
  },
  {
   "cell_type": "markdown",
   "id": "a7853fcd",
   "metadata": {},
   "source": [
    "Reverse indexing "
   ]
  },
  {
   "cell_type": "code",
   "execution_count": 35,
   "id": "ca526b06",
   "metadata": {},
   "outputs": [
    {
     "data": {
      "text/plain": [
       "'e'"
      ]
     },
     "execution_count": 35,
     "metadata": {},
     "output_type": "execute_result"
    }
   ],
   "source": [
    "my_indexing[-1]"
   ]
  },
  {
   "cell_type": "code",
   "execution_count": 36,
   "id": "f7df43d7",
   "metadata": {},
   "outputs": [
    {
     "data": {
      "text/plain": [
       "'i'"
      ]
     },
     "execution_count": 36,
     "metadata": {},
     "output_type": "execute_result"
    }
   ],
   "source": [
    "my_indexing[-9]"
   ]
  },
  {
   "cell_type": "markdown",
   "id": "01f69b99",
   "metadata": {},
   "source": [
    "Slicing = define sub-section of the string"
   ]
  },
  {
   "cell_type": "code",
   "execution_count": 37,
   "id": "3a31ad0c",
   "metadata": {},
   "outputs": [
    {
     "data": {
      "text/plain": [
       "'I am gonna finish this course'"
      ]
     },
     "execution_count": 37,
     "metadata": {},
     "output_type": "execute_result"
    }
   ],
   "source": [
    "my_indexing"
   ]
  },
  {
   "cell_type": "code",
   "execution_count": 39,
   "id": "c2e55423",
   "metadata": {},
   "outputs": [
    {
     "data": {
      "text/plain": [
       "'nis'"
      ]
     },
     "execution_count": 39,
     "metadata": {},
     "output_type": "execute_result"
    }
   ],
   "source": [
    "my_indexing[13:16]"
   ]
  },
  {
   "cell_type": "markdown",
   "id": "69c5a20d",
   "metadata": {},
   "source": [
    "reverse slicing"
   ]
  },
  {
   "cell_type": "code",
   "execution_count": 46,
   "id": "5a3bd4e7",
   "metadata": {},
   "outputs": [
    {
     "data": {
      "text/plain": [
       "'nis'"
      ]
     },
     "execution_count": 46,
     "metadata": {},
     "output_type": "execute_result"
    }
   ],
   "source": [
    "my_indexing[-16:-13]"
   ]
  },
  {
   "cell_type": "markdown",
   "id": "450dad99",
   "metadata": {},
   "source": [
    "position 4 to all "
   ]
  },
  {
   "cell_type": "code",
   "execution_count": 52,
   "id": "d82922b8",
   "metadata": {},
   "outputs": [
    {
     "data": {
      "text/plain": [
       "'onna finish this course'"
      ]
     },
     "execution_count": 52,
     "metadata": {},
     "output_type": "execute_result"
    }
   ],
   "source": [
    "my_indexing[6:] #grab from 6th to all "
   ]
  },
  {
   "cell_type": "code",
   "execution_count": 53,
   "id": "ef7fae29",
   "metadata": {},
   "outputs": [
    {
     "data": {
      "text/plain": [
       "'I am'"
      ]
     },
     "execution_count": 53,
     "metadata": {},
     "output_type": "execute_result"
    }
   ],
   "source": [
    "my_indexing[:4] #grab all up to fourth potition but not included"
   ]
  },
  {
   "cell_type": "code",
   "execution_count": 55,
   "id": "650dc49b",
   "metadata": {},
   "outputs": [
    {
     "data": {
      "text/plain": [
       "'I am gonna finish this course'"
      ]
     },
     "execution_count": 55,
     "metadata": {},
     "output_type": "execute_result"
    }
   ],
   "source": [
    "my_indexing[:] #grab all "
   ]
  },
  {
   "cell_type": "code",
   "execution_count": 59,
   "id": "707f2f97",
   "metadata": {},
   "outputs": [
    {
     "data": {
      "text/plain": [
       "'esruoc siht hsinif annog ma I'"
      ]
     },
     "execution_count": 59,
     "metadata": {},
     "output_type": "execute_result"
    }
   ],
   "source": [
    "my_indexing[::-1] #backward "
   ]
  },
  {
   "cell_type": "code",
   "execution_count": 60,
   "id": "93b55942",
   "metadata": {},
   "outputs": [
    {
     "data": {
      "text/plain": [
       "'Ia on iihti ore'"
      ]
     },
     "execution_count": 60,
     "metadata": {},
     "output_type": "execute_result"
    }
   ],
   "source": [
    "my_indexing[::2]"
   ]
  },
  {
   "cell_type": "code",
   "execution_count": 61,
   "id": "81c3ac30",
   "metadata": {},
   "outputs": [],
   "source": [
    "my_indexing=\"valdo\""
   ]
  },
  {
   "cell_type": "code",
   "execution_count": 63,
   "id": "e7054f86",
   "metadata": {},
   "outputs": [
    {
     "data": {
      "text/plain": [
       "'ad'"
      ]
     },
     "execution_count": 63,
     "metadata": {},
     "output_type": "execute_result"
    }
   ],
   "source": [
    "my_indexing[1:4:2] # 1: grab 1st position to all = \"a\"\n",
    "# :4 grab all up to fourt position but not included = \"ald\"\n",
    "#:2 two jump slice = \"ad\""
   ]
  },
  {
   "cell_type": "markdown",
   "id": "72be375f",
   "metadata": {},
   "source": [
    "String properties and string method"
   ]
  },
  {
   "cell_type": "code",
   "execution_count": 68,
   "id": "9f944ea3",
   "metadata": {},
   "outputs": [],
   "source": [
    "# Concatination \n",
    "name = \"Elizabeth\" #change Z to s \"Elisabeth\" using slicing and indexing\n",
    "first_slice = name[:3]\n",
    "second_slice = name[4:]"
   ]
  },
  {
   "cell_type": "code",
   "execution_count": 71,
   "id": "7bc5f575",
   "metadata": {},
   "outputs": [
    {
     "name": "stdout",
     "output_type": "stream",
     "text": [
      "Elisabeth\n"
     ]
    }
   ],
   "source": [
    "full_name = first_slice + \"s\" + second_slice\n",
    "print(full_name)"
   ]
  },
  {
   "cell_type": "code",
   "execution_count": 1,
   "id": "4b78ad31",
   "metadata": {},
   "outputs": [
    {
     "data": {
      "text/plain": [
       "'HELLO WORLD'"
      ]
     },
     "execution_count": 1,
     "metadata": {},
     "output_type": "execute_result"
    }
   ],
   "source": [
    "x = \"Hello World\"\n",
    "x.upper()"
   ]
  },
  {
   "cell_type": "code",
   "execution_count": null,
   "id": "75181248",
   "metadata": {},
   "outputs": [],
   "source": []
  }
 ],
 "metadata": {
  "kernelspec": {
   "display_name": "Python 3",
   "language": "python",
   "name": "python3"
  },
  "language_info": {
   "codemirror_mode": {
    "name": "ipython",
    "version": 3
   },
   "file_extension": ".py",
   "mimetype": "text/x-python",
   "name": "python",
   "nbconvert_exporter": "python",
   "pygments_lexer": "ipython3",
   "version": "3.8.8"
  }
 },
 "nbformat": 4,
 "nbformat_minor": 5
}
