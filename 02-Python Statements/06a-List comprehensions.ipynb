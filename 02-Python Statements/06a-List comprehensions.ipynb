{
 "cells": [
  {
   "cell_type": "code",
   "execution_count": 41,
   "id": "f38aa7ef",
   "metadata": {},
   "outputs": [],
   "source": [
    "my_string= 1,2,3 #normal loop "
   ]
  },
  {
   "cell_type": "code",
   "execution_count": 42,
   "id": "b4fcc62f",
   "metadata": {},
   "outputs": [],
   "source": [
    "my_list = []\n",
    "for letter in my_string:\n",
    "    my_list.append(letter)"
   ]
  },
  {
   "cell_type": "code",
   "execution_count": 43,
   "id": "d9aba339",
   "metadata": {},
   "outputs": [
    {
     "data": {
      "text/plain": [
       "[1, 2, 3]"
      ]
     },
     "execution_count": 43,
     "metadata": {},
     "output_type": "execute_result"
    }
   ],
   "source": [
    "my_list"
   ]
  },
  {
   "cell_type": "markdown",
   "id": "7c20cad4",
   "metadata": {},
   "source": [
    "List comprehension can be defined by code below."
   ]
  },
  {
   "cell_type": "code",
   "execution_count": 6,
   "id": "78843107",
   "metadata": {},
   "outputs": [],
   "source": [
    "my_string = 'valdo'"
   ]
  },
  {
   "cell_type": "code",
   "execution_count": 7,
   "id": "8023da77",
   "metadata": {},
   "outputs": [],
   "source": [
    "my_list = [letter for letter in my_string]"
   ]
  },
  {
   "cell_type": "code",
   "execution_count": 8,
   "id": "dd4f843e",
   "metadata": {},
   "outputs": [
    {
     "data": {
      "text/plain": [
       "['v', 'a', 'l', 'd', 'o']"
      ]
     },
     "execution_count": 8,
     "metadata": {},
     "output_type": "execute_result"
    }
   ],
   "source": [
    "my_list"
   ]
  },
  {
   "cell_type": "markdown",
   "id": "a34782d7",
   "metadata": {},
   "source": [
    "Another example. "
   ]
  },
  {
   "cell_type": "code",
   "execution_count": 17,
   "id": "276e98cc",
   "metadata": {},
   "outputs": [],
   "source": [
    "my_int = 1,23,'valdo',5.7,2"
   ]
  },
  {
   "cell_type": "code",
   "execution_count": 18,
   "id": "cffc57c2",
   "metadata": {},
   "outputs": [],
   "source": [
    "my_number = [number for number in my_int]"
   ]
  },
  {
   "cell_type": "code",
   "execution_count": 19,
   "id": "6fdcce72",
   "metadata": {},
   "outputs": [
    {
     "data": {
      "text/plain": [
       "[1, 23, 'valdo', 5.7, 2]"
      ]
     },
     "execution_count": 19,
     "metadata": {},
     "output_type": "execute_result"
    }
   ],
   "source": [
    "my_number"
   ]
  },
  {
   "cell_type": "code",
   "execution_count": 20,
   "id": "c26f913c",
   "metadata": {},
   "outputs": [],
   "source": [
    "b= [x for x in \"lisa\"]"
   ]
  },
  {
   "cell_type": "code",
   "execution_count": 21,
   "id": "cb102a4c",
   "metadata": {},
   "outputs": [
    {
     "data": {
      "text/plain": [
       "['l', 'i', 's', 'a']"
      ]
     },
     "execution_count": 21,
     "metadata": {},
     "output_type": "execute_result"
    }
   ],
   "source": [
    "b"
   ]
  },
  {
   "cell_type": "code",
   "execution_count": 22,
   "id": "9fedd87e",
   "metadata": {},
   "outputs": [],
   "source": [
    "#another one is"
   ]
  },
  {
   "cell_type": "code",
   "execution_count": 23,
   "id": "5eb75abb",
   "metadata": {},
   "outputs": [],
   "source": [
    "my_string = [word for word in \"Elisabeth\" ]"
   ]
  },
  {
   "cell_type": "code",
   "execution_count": 24,
   "id": "f7fbaf91",
   "metadata": {},
   "outputs": [
    {
     "data": {
      "text/plain": [
       "['E', 'l', 'i', 's', 'a', 'b', 'e', 't', 'h']"
      ]
     },
     "execution_count": 24,
     "metadata": {},
     "output_type": "execute_result"
    }
   ],
   "source": [
    "my_string"
   ]
  },
  {
   "cell_type": "code",
   "execution_count": 25,
   "id": "a33c11ec",
   "metadata": {},
   "outputs": [],
   "source": [
    "my_number = [num for num in range(0,21,2)]"
   ]
  },
  {
   "cell_type": "code",
   "execution_count": 26,
   "id": "e071879c",
   "metadata": {},
   "outputs": [
    {
     "data": {
      "text/plain": [
       "[0, 2, 4, 6, 8, 10, 12, 14, 16, 18, 20]"
      ]
     },
     "execution_count": 26,
     "metadata": {},
     "output_type": "execute_result"
    }
   ],
   "source": [
    "my_number"
   ]
  },
  {
   "cell_type": "code",
   "execution_count": 27,
   "id": "b92a00b4",
   "metadata": {},
   "outputs": [],
   "source": [
    "my_number = [num**2 for num in range(0,11)]"
   ]
  },
  {
   "cell_type": "code",
   "execution_count": 28,
   "id": "abbec29a",
   "metadata": {},
   "outputs": [
    {
     "data": {
      "text/plain": [
       "[0, 1, 4, 9, 16, 25, 36, 49, 64, 81, 100]"
      ]
     },
     "execution_count": 28,
     "metadata": {},
     "output_type": "execute_result"
    }
   ],
   "source": [
    "my_number"
   ]
  },
  {
   "cell_type": "markdown",
   "id": "a4f9ce7d",
   "metadata": {},
   "source": [
    "Using if statement"
   ]
  },
  {
   "cell_type": "code",
   "execution_count": 29,
   "id": "d8d4b7b8",
   "metadata": {},
   "outputs": [],
   "source": [
    "my_list = [num for num in range(0,11) if num%2==0]"
   ]
  },
  {
   "cell_type": "code",
   "execution_count": 30,
   "id": "3e1bde06",
   "metadata": {},
   "outputs": [
    {
     "data": {
      "text/plain": [
       "[0, 2, 4, 6, 8, 10]"
      ]
     },
     "execution_count": 30,
     "metadata": {},
     "output_type": "execute_result"
    }
   ],
   "source": [
    "my_list"
   ]
  },
  {
   "cell_type": "code",
   "execution_count": 31,
   "id": "20c0fe03",
   "metadata": {},
   "outputs": [],
   "source": [
    "my_list = [num**2 for num in range(0,11) if num%2==0]"
   ]
  },
  {
   "cell_type": "code",
   "execution_count": 32,
   "id": "eb07e36c",
   "metadata": {},
   "outputs": [
    {
     "data": {
      "text/plain": [
       "[0, 4, 16, 36, 64, 100]"
      ]
     },
     "execution_count": 32,
     "metadata": {},
     "output_type": "execute_result"
    }
   ],
   "source": [
    "my_list"
   ]
  },
  {
   "cell_type": "code",
   "execution_count": 33,
   "id": "08fbbc0b",
   "metadata": {},
   "outputs": [],
   "source": [
    "celcius = [0,10,20,34.5]\n",
    "fahrenheit = [((9/5)*tem +32) for tem in celcius]"
   ]
  },
  {
   "cell_type": "code",
   "execution_count": 34,
   "id": "71fb1467",
   "metadata": {},
   "outputs": [
    {
     "data": {
      "text/plain": [
       "[32.0, 50.0, 68.0, 94.1]"
      ]
     },
     "execution_count": 34,
     "metadata": {},
     "output_type": "execute_result"
    }
   ],
   "source": [
    "fahrenheit"
   ]
  },
  {
   "cell_type": "code",
   "execution_count": 38,
   "id": "cd535514",
   "metadata": {},
   "outputs": [
    {
     "name": "stdout",
     "output_type": "stream",
     "text": [
      "[32.0, 50.0, 68.0, 94.1]\n"
     ]
    }
   ],
   "source": [
    "fahrenheit = []\n",
    "for temp in celcius:\n",
    "    fahrenheit.append(temp*(9/5)+32)"
   ]
  },
  {
   "cell_type": "code",
   "execution_count": 36,
   "id": "ca2d00e7",
   "metadata": {},
   "outputs": [
    {
     "data": {
      "text/plain": [
       "[32.0, 50.0, 68.0, 94.1]"
      ]
     },
     "execution_count": 36,
     "metadata": {},
     "output_type": "execute_result"
    }
   ],
   "source": [
    "fahrenheit"
   ]
  },
  {
   "cell_type": "markdown",
   "id": "fe826b4c",
   "metadata": {},
   "source": [
    "Make sure that your code is easy to read whenever you visit again"
   ]
  },
  {
   "cell_type": "code",
   "execution_count": null,
   "id": "b0a1561f",
   "metadata": {},
   "outputs": [],
   "source": []
  },
  {
   "cell_type": "markdown",
   "id": "d408cfbe",
   "metadata": {},
   "source": [
    "Nested Loop in list comprehension"
   ]
  },
  {
   "cell_type": "code",
   "execution_count": 40,
   "id": "258eca40",
   "metadata": {},
   "outputs": [
    {
     "name": "stdout",
     "output_type": "stream",
     "text": [
      "[2, 20, 200, 4, 40, 400, 6, 60, 600]\n"
     ]
    }
   ],
   "source": [
    "#simple nested for loop\n",
    "my_list = []\n",
    "for num in [2,4,6]:\n",
    "    for nest_num in [1,10,100]:\n",
    "        my_list.append(num*nest_num)\n",
    "print(my_list)"
   ]
  },
  {
   "cell_type": "code",
   "execution_count": 53,
   "id": "22097bbc",
   "metadata": {},
   "outputs": [
    {
     "name": "stdout",
     "output_type": "stream",
     "text": [
      "[2, 20, 200, 4, 40, 400, 6, 60, 600]\n"
     ]
    }
   ],
   "source": [
    "#list comprehension\n",
    "my_list = [x*y for x in [2,4,6] for y in [1,10,100]]\n",
    "print(my_list)"
   ]
  },
  {
   "cell_type": "code",
   "execution_count": null,
   "id": "6b6c7ade",
   "metadata": {},
   "outputs": [],
   "source": []
  }
 ],
 "metadata": {
  "kernelspec": {
   "display_name": "Python 3",
   "language": "python",
   "name": "python3"
  },
  "language_info": {
   "codemirror_mode": {
    "name": "ipython",
    "version": 3
   },
   "file_extension": ".py",
   "mimetype": "text/x-python",
   "name": "python",
   "nbconvert_exporter": "python",
   "pygments_lexer": "ipython3",
   "version": "3.8.8"
  }
 },
 "nbformat": 4,
 "nbformat_minor": 5
}
