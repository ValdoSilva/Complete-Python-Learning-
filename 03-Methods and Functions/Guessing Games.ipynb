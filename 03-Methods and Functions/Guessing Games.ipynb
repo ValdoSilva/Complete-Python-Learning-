{
 "cells": [
  {
   "cell_type": "markdown",
   "id": "ce51393d",
   "metadata": {},
   "source": [
    "                                            Three cup monte"
   ]
  },
  {
   "cell_type": "code",
   "execution_count": 25,
   "id": "cce7c78e",
   "metadata": {},
   "outputs": [],
   "source": [
    "#create shuffle list\n",
    "#Let user choose\n",
    "#shows result\n",
    "\n",
    "from random import shuffle\n",
    "guess_list = [' ','O',' ']\n",
    "def random_list():\n",
    "    shuffle(guess_list)\n",
    "    return guess_list\n"
   ]
  },
  {
   "cell_type": "code",
   "execution_count": 26,
   "id": "881489b6",
   "metadata": {},
   "outputs": [],
   "source": [
    "def user_guess():\n",
    "    guess = \"\"\n",
    "    while guess not in ['0','1','2']:\n",
    "        guess= input('Please make a guess: 0,1 or 2')\n",
    "    return int(guess)#we create integer so that we can use as an index to guess the position of the card.\n"
   ]
  },
  {
   "cell_type": "code",
   "execution_count": 27,
   "id": "a6b4f57a",
   "metadata": {},
   "outputs": [],
   "source": [
    "def check_result(a,b):\n",
    "    if guess_list[guess]== 'O':\n",
    "        print('Correct')\n",
    "    else:\n",
    "        print('Wrong')\n",
    "        print(guess_list)\n"
   ]
  },
  {
   "cell_type": "code",
   "execution_count": 39,
   "id": "d0d5eb78",
   "metadata": {},
   "outputs": [
    {
     "name": "stdout",
     "output_type": "stream",
     "text": [
      "Please make a guess: 0,1 or 21\n",
      "Wrong\n",
      "['O', ' ', ' ']\n"
     ]
    }
   ],
   "source": [
    "guess_list = random_list()\n",
    "\n",
    "guess =user_guess()\n",
    "\n",
    "check_result(guess_list,guess)"
   ]
  },
  {
   "cell_type": "code",
   "execution_count": null,
   "id": "55d8a925",
   "metadata": {},
   "outputs": [],
   "source": []
  }
 ],
 "metadata": {
  "kernelspec": {
   "display_name": "Python 3",
   "language": "python",
   "name": "python3"
  },
  "language_info": {
   "codemirror_mode": {
    "name": "ipython",
    "version": 3
   },
   "file_extension": ".py",
   "mimetype": "text/x-python",
   "name": "python",
   "nbconvert_exporter": "python",
   "pygments_lexer": "ipython3",
   "version": "3.8.8"
  }
 },
 "nbformat": 4,
 "nbformat_minor": 5
}
