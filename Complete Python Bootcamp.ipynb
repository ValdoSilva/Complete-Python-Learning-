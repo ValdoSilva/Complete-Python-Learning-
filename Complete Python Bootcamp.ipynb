{
 "cells": [
  {
   "cell_type": "code",
   "execution_count": 1,
   "id": "b03d386a",
   "metadata": {},
   "outputs": [
    {
     "name": "stdout",
     "output_type": "stream",
     "text": [
      "Hello\n"
     ]
    }
   ],
   "source": [
    "print(\"Hello\")"
   ]
  },
  {
   "cell_type": "code",
   "execution_count": 2,
   "id": "f897f232",
   "metadata": {},
   "outputs": [
    {
     "name": "stdout",
     "output_type": "stream",
     "text": [
      "enter\n"
     ]
    }
   ],
   "source": [
    "print('enter')"
   ]
  },
  {
   "cell_type": "markdown",
   "id": "816f7893",
   "metadata": {},
   "source": [
    "Normal text as explanation"
   ]
  },
  {
   "cell_type": "code",
   "execution_count": 2,
   "id": "e062182b",
   "metadata": {},
   "outputs": [
    {
     "name": "stdout",
     "output_type": "stream",
     "text": [
      "2\n"
     ]
    }
   ],
   "source": [
    "my_dog = 2\n",
    "print(my_dog)"
   ]
  },
  {
   "cell_type": "code",
   "execution_count": 3,
   "id": "4377fdb3",
   "metadata": {},
   "outputs": [],
   "source": [
    "a = 2\n"
   ]
  },
  {
   "cell_type": "code",
   "execution_count": 4,
   "id": "ac28cd56",
   "metadata": {},
   "outputs": [
    {
     "data": {
      "text/plain": [
       "2"
      ]
     },
     "execution_count": 4,
     "metadata": {},
     "output_type": "execute_result"
    }
   ],
   "source": [
    "a"
   ]
  },
  {
   "cell_type": "code",
   "execution_count": 5,
   "id": "ed856c28",
   "metadata": {},
   "outputs": [
    {
     "data": {
      "text/plain": [
       "int"
      ]
     },
     "execution_count": 5,
     "metadata": {},
     "output_type": "execute_result"
    }
   ],
   "source": [
    "type(a)"
   ]
  },
  {
   "cell_type": "code",
   "execution_count": 6,
   "id": "55966dd6",
   "metadata": {},
   "outputs": [],
   "source": [
    "a = 3.10"
   ]
  },
  {
   "cell_type": "code",
   "execution_count": 7,
   "id": "c6d0400c",
   "metadata": {},
   "outputs": [
    {
     "data": {
      "text/plain": [
       "3.1"
      ]
     },
     "execution_count": 7,
     "metadata": {},
     "output_type": "execute_result"
    }
   ],
   "source": [
    "a "
   ]
  },
  {
   "cell_type": "code",
   "execution_count": 8,
   "id": "513fe59a",
   "metadata": {},
   "outputs": [
    {
     "data": {
      "text/plain": [
       "float"
      ]
     },
     "execution_count": 8,
     "metadata": {},
     "output_type": "execute_result"
    }
   ],
   "source": [
    "type(a)"
   ]
  },
  {
   "cell_type": "code",
   "execution_count": 10,
   "id": "d07bbfb1",
   "metadata": {},
   "outputs": [],
   "source": [
    "my_income = 100\n",
    "tax_rate = 0.1\n",
    "my_taxes = my_income * tax_rate\n"
   ]
  },
  {
   "cell_type": "code",
   "execution_count": 13,
   "id": "1de6d61d",
   "metadata": {},
   "outputs": [
    {
     "name": "stdout",
     "output_type": "stream",
     "text": [
      "10\n"
     ]
    }
   ],
   "source": [
    "print(int(my_taxes))"
   ]
  },
  {
   "cell_type": "markdown",
   "id": "7894a158",
   "metadata": {},
   "source": [
    "Change string into list and then slice them to get character that you want and then change the result back to string "
   ]
  },
  {
   "cell_type": "code",
   "execution_count": 20,
   "id": "48947424",
   "metadata": {},
   "outputs": [
    {
     "name": "stdout",
     "output_type": "stream",
     "text": [
      "s\n"
     ]
    }
   ],
   "source": [
    "my_char = \"Elisabeth\"\n",
    "print(my_char[3:4])"
   ]
  },
  {
   "cell_type": "code",
   "execution_count": 27,
   "id": "e1444d4d",
   "metadata": {},
   "outputs": [
    {
     "data": {
      "text/plain": [
       "str"
      ]
     },
     "execution_count": 27,
     "metadata": {},
     "output_type": "execute_result"
    }
   ],
   "source": [
    "for str in my_char"
   ]
  },
  {
   "cell_type": "code",
   "execution_count": 22,
   "id": "b6735643",
   "metadata": {},
   "outputs": [
    {
     "name": "stdout",
     "output_type": "stream",
     "text": [
      "Elisabeth\n"
     ]
    }
   ],
   "source": [
    "print(my_char)"
   ]
  },
  {
   "cell_type": "code",
   "execution_count": 28,
   "id": "78c32e43",
   "metadata": {},
   "outputs": [
    {
     "data": {
      "text/plain": [
       "\"this isn't going to work \""
      ]
     },
     "execution_count": 28,
     "metadata": {},
     "output_type": "execute_result"
    }
   ],
   "source": [
    "\"this isn't going to work \""
   ]
  },
  {
   "cell_type": "code",
   "execution_count": 29,
   "id": "3ba5de15",
   "metadata": {},
   "outputs": [
    {
     "data": {
      "text/plain": [
       "'I am gonna finish this course'"
      ]
     },
     "execution_count": 29,
     "metadata": {},
     "output_type": "execute_result"
    }
   ],
   "source": [
    "\"I am gonna finish this course\""
   ]
  },
  {
   "cell_type": "code",
   "execution_count": 30,
   "id": "9dd9502f",
   "metadata": {},
   "outputs": [
    {
     "name": "stdout",
     "output_type": "stream",
     "text": [
      "valdo\n"
     ]
    }
   ],
   "source": [
    "print(\"valdo\")"
   ]
  },
  {
   "cell_type": "code",
   "execution_count": 31,
   "id": "f4678e90",
   "metadata": {},
   "outputs": [
    {
     "name": "stdout",
     "output_type": "stream",
     "text": [
      "Hello \n",
      "WOrld\n"
     ]
    }
   ],
   "source": [
    "print(\"Hello \\nWOrld\")"
   ]
  },
  {
   "cell_type": "code",
   "execution_count": 32,
   "id": "992dae9e",
   "metadata": {},
   "outputs": [
    {
     "data": {
      "text/plain": [
       "29"
      ]
     },
     "execution_count": 32,
     "metadata": {},
     "output_type": "execute_result"
    }
   ],
   "source": [
    "len(\"I am gonna finish this course\")"
   ]
  },
  {
   "cell_type": "markdown",
   "id": "dc2422c6",
   "metadata": {},
   "source": [
    "Indexing"
   ]
  },
  {
   "cell_type": "code",
   "execution_count": 33,
   "id": "e4f94b23",
   "metadata": {},
   "outputs": [
    {
     "data": {
      "text/plain": [
       "'g'"
      ]
     },
     "execution_count": 33,
     "metadata": {},
     "output_type": "execute_result"
    }
   ],
   "source": [
    "my_indexing = \"I am gonna finish this course\"\n",
    "my_indexing[5]"
   ]
  },
  {
   "cell_type": "code",
   "execution_count": 34,
   "id": "645840e0",
   "metadata": {},
   "outputs": [
    {
     "data": {
      "text/plain": [
       "'i'"
      ]
     },
     "execution_count": 34,
     "metadata": {},
     "output_type": "execute_result"
    }
   ],
   "source": [
    "my_indexing[12]"
   ]
  },
  {
   "cell_type": "markdown",
   "id": "a7853fcd",
   "metadata": {},
   "source": [
    "Reverse indexing "
   ]
  },
  {
   "cell_type": "code",
   "execution_count": 35,
   "id": "ca526b06",
   "metadata": {},
   "outputs": [
    {
     "data": {
      "text/plain": [
       "'e'"
      ]
     },
     "execution_count": 35,
     "metadata": {},
     "output_type": "execute_result"
    }
   ],
   "source": [
    "my_indexing[-1]"
   ]
  },
  {
   "cell_type": "code",
   "execution_count": 36,
   "id": "f7df43d7",
   "metadata": {},
   "outputs": [
    {
     "data": {
      "text/plain": [
       "'i'"
      ]
     },
     "execution_count": 36,
     "metadata": {},
     "output_type": "execute_result"
    }
   ],
   "source": [
    "my_indexing[-9]"
   ]
  },
  {
   "cell_type": "markdown",
   "id": "01f69b99",
   "metadata": {},
   "source": [
    "Slicing = define sub-section of the string"
   ]
  },
  {
   "cell_type": "code",
   "execution_count": 37,
   "id": "3a31ad0c",
   "metadata": {},
   "outputs": [
    {
     "data": {
      "text/plain": [
       "'I am gonna finish this course'"
      ]
     },
     "execution_count": 37,
     "metadata": {},
     "output_type": "execute_result"
    }
   ],
   "source": [
    "my_indexing"
   ]
  },
  {
   "cell_type": "code",
   "execution_count": 39,
   "id": "c2e55423",
   "metadata": {},
   "outputs": [
    {
     "data": {
      "text/plain": [
       "'nis'"
      ]
     },
     "execution_count": 39,
     "metadata": {},
     "output_type": "execute_result"
    }
   ],
   "source": [
    "my_indexing[13:16]"
   ]
  },
  {
   "cell_type": "markdown",
   "id": "69c5a20d",
   "metadata": {},
   "source": [
    "reverse slicing"
   ]
  },
  {
   "cell_type": "code",
   "execution_count": 46,
   "id": "5a3bd4e7",
   "metadata": {},
   "outputs": [
    {
     "data": {
      "text/plain": [
       "'nis'"
      ]
     },
     "execution_count": 46,
     "metadata": {},
     "output_type": "execute_result"
    }
   ],
   "source": [
    "my_indexing[-16:-13]"
   ]
  },
  {
   "cell_type": "markdown",
   "id": "450dad99",
   "metadata": {},
   "source": [
    "position 4 to all "
   ]
  },
  {
   "cell_type": "code",
   "execution_count": 52,
   "id": "d82922b8",
   "metadata": {},
   "outputs": [
    {
     "data": {
      "text/plain": [
       "'onna finish this course'"
      ]
     },
     "execution_count": 52,
     "metadata": {},
     "output_type": "execute_result"
    }
   ],
   "source": [
    "my_indexing[6:] #grab from 6th to all "
   ]
  },
  {
   "cell_type": "code",
   "execution_count": 53,
   "id": "ef7fae29",
   "metadata": {},
   "outputs": [
    {
     "data": {
      "text/plain": [
       "'I am'"
      ]
     },
     "execution_count": 53,
     "metadata": {},
     "output_type": "execute_result"
    }
   ],
   "source": [
    "my_indexing[:4] #grab all up to fourth potition but not included"
   ]
  },
  {
   "cell_type": "code",
   "execution_count": 55,
   "id": "650dc49b",
   "metadata": {},
   "outputs": [
    {
     "data": {
      "text/plain": [
       "'I am gonna finish this course'"
      ]
     },
     "execution_count": 55,
     "metadata": {},
     "output_type": "execute_result"
    }
   ],
   "source": [
    "my_indexing[:] #grab all "
   ]
  },
  {
   "cell_type": "code",
   "execution_count": 59,
   "id": "707f2f97",
   "metadata": {},
   "outputs": [
    {
     "data": {
      "text/plain": [
       "'esruoc siht hsinif annog ma I'"
      ]
     },
     "execution_count": 59,
     "metadata": {},
     "output_type": "execute_result"
    }
   ],
   "source": [
    "my_indexing[::-1] #backward "
   ]
  },
  {
   "cell_type": "code",
   "execution_count": 60,
   "id": "93b55942",
   "metadata": {},
   "outputs": [
    {
     "data": {
      "text/plain": [
       "'Ia on iihti ore'"
      ]
     },
     "execution_count": 60,
     "metadata": {},
     "output_type": "execute_result"
    }
   ],
   "source": [
    "my_indexing[::2]"
   ]
  },
  {
   "cell_type": "code",
   "execution_count": 61,
   "id": "81c3ac30",
   "metadata": {},
   "outputs": [],
   "source": [
    "my_indexing=\"valdo\""
   ]
  },
  {
   "cell_type": "code",
   "execution_count": 63,
   "id": "e7054f86",
   "metadata": {},
   "outputs": [
    {
     "data": {
      "text/plain": [
       "'ad'"
      ]
     },
     "execution_count": 63,
     "metadata": {},
     "output_type": "execute_result"
    }
   ],
   "source": [
    "my_indexing[1:4:2] # 1: grab 1st position to all = \"a\"\n",
    "# :4 grab all up to fourt position but not included = \"ald\"\n",
    "#:2 two jump slice = \"ad\""
   ]
  },
  {
   "cell_type": "markdown",
   "id": "72be375f",
   "metadata": {},
   "source": [
    "String properties and string method"
   ]
  },
  {
   "cell_type": "code",
   "execution_count": 68,
   "id": "9f944ea3",
   "metadata": {},
   "outputs": [],
   "source": [
    "# Concatination \n",
    "name = \"Elizabeth\" #change Z to s \"Elisabeth\" using slicing and indexing\n",
    "first_slice = name[:3]\n",
    "second_slice = name[4:]"
   ]
  },
  {
   "cell_type": "code",
   "execution_count": 71,
   "id": "7bc5f575",
   "metadata": {},
   "outputs": [
    {
     "name": "stdout",
     "output_type": "stream",
     "text": [
      "Elisabeth\n"
     ]
    }
   ],
   "source": [
    "full_name = first_slice + \"s\" + second_slice\n",
    "print(full_name)"
   ]
  },
  {
   "cell_type": "code",
   "execution_count": 1,
   "id": "4b78ad31",
   "metadata": {},
   "outputs": [
    {
     "data": {
      "text/plain": [
       "'HELLO WORLD'"
      ]
     },
     "execution_count": 1,
     "metadata": {},
     "output_type": "execute_result"
    }
   ],
   "source": [
    "x = \"Hello World\"\n",
    "x.upper()"
   ]
  },
  {
   "cell_type": "code",
   "execution_count": 3,
   "id": "93faf0cf",
   "metadata": {},
   "outputs": [
    {
     "data": {
      "text/plain": [
       "['Hello', 'World']"
      ]
     },
     "execution_count": 3,
     "metadata": {},
     "output_type": "execute_result"
    }
   ],
   "source": [
    "x.split() "
   ]
  },
  {
   "cell_type": "code",
   "execution_count": 5,
   "id": "addff983",
   "metadata": {},
   "outputs": [
    {
     "data": {
      "text/plain": [
       "['He', '', 'o Wor', 'd']"
      ]
     },
     "execution_count": 5,
     "metadata": {},
     "output_type": "execute_result"
    }
   ],
   "source": [
    "x.split(\"l\") # split specific word"
   ]
  },
  {
   "cell_type": "markdown",
   "id": "6e1dda7c",
   "metadata": {},
   "source": [
    "String formatting for printing "
   ]
  },
  {
   "cell_type": "code",
   "execution_count": 21,
   "id": "6f63e61d",
   "metadata": {},
   "outputs": [
    {
     "name": "stdout",
     "output_type": "stream",
     "text": [
      "valdo is nickname my\n"
     ]
    }
   ],
   "source": [
    "# There are many ways of printing string and one them is .format{}\n",
    "\n",
    "my_name= \"valdo\"\n",
    "print(my_name + \" {} {} {}\".format(\"is\", \"my\",\"nickname\")) "
   ]
  },
  {
   "cell_type": "code",
   "execution_count": 22,
   "id": "fef9ad3a",
   "metadata": {},
   "outputs": [
    {
     "name": "stdout",
     "output_type": "stream",
     "text": [
      "valdo my nickname is\n"
     ]
    }
   ],
   "source": [
    "print(my_name + \" {1} {2} {0}\".format(\"is\", \"my\",\"nickname\")) # assigned each index position into {}"
   ]
  },
  {
   "cell_type": "code",
   "execution_count": 23,
   "id": "aecdeb9e",
   "metadata": {},
   "outputs": [
    {
     "name": "stdout",
     "output_type": "stream",
     "text": [
      "The quick brown fox\n"
     ]
    }
   ],
   "source": [
    "print(\"The {} {} {}\".format(\"quick\", \"brown\", \"fox\")) # other ways to write "
   ]
  },
  {
   "cell_type": "code",
   "execution_count": 24,
   "id": "6bebc788",
   "metadata": {},
   "outputs": [
    {
     "name": "stdout",
     "output_type": "stream",
     "text": [
      "The fox brown quick\n"
     ]
    }
   ],
   "source": [
    "print(\"The {2} {1} {0}\".format(\"quick\", \"brown\", \"fox\")) #another option "
   ]
  },
  {
   "cell_type": "code",
   "execution_count": 25,
   "id": "69ea53dd",
   "metadata": {},
   "outputs": [
    {
     "name": "stdout",
     "output_type": "stream",
     "text": [
      "The fox quick brown\n"
     ]
    }
   ],
   "source": [
    "print(\"The {f} {q} {b}\".format(q=\"quick\", b=\"brown\", f=\"fox\")) #another option"
   ]
  },
  {
   "cell_type": "markdown",
   "id": "1085911a",
   "metadata": {},
   "source": [
    "Float Formatting \"{value:width.precision f}\""
   ]
  },
  {
   "cell_type": "code",
   "execution_count": 26,
   "id": "b7e10a07",
   "metadata": {},
   "outputs": [],
   "source": [
    "my_integer = 37/89"
   ]
  },
  {
   "cell_type": "code",
   "execution_count": 27,
   "id": "65841e14",
   "metadata": {},
   "outputs": [
    {
     "name": "stdout",
     "output_type": "stream",
     "text": [
      "0.4157303370786517\n"
     ]
    }
   ],
   "source": [
    "print(my_integer)"
   ]
  },
  {
   "cell_type": "code",
   "execution_count": 38,
   "id": "bf510855",
   "metadata": {},
   "outputs": [
    {
     "name": "stdout",
     "output_type": "stream",
     "text": [
      "The result is: 0.416\n"
     ]
    }
   ],
   "source": [
    "print(\"The result is: {result:2.3f}\".format(result = my_integer)) \n",
    "# value is from .format\n",
    "# width is the space between string and the result\n",
    "# precision f is floating point value"
   ]
  },
  {
   "cell_type": "code",
   "execution_count": 47,
   "id": "cfc83f87",
   "metadata": {},
   "outputs": [
    {
     "name": "stdout",
     "output_type": "stream",
     "text": [
      "The result is: 105.4329843\n"
     ]
    }
   ],
   "source": [
    "number = 105.4329843\n",
    "print(\"The result is: {result:1.7f}\".format(result = number)) "
   ]
  },
  {
   "cell_type": "code",
   "execution_count": null,
   "id": "f1a7f32e",
   "metadata": {},
   "outputs": [],
   "source": []
  },
  {
   "cell_type": "code",
   "execution_count": null,
   "id": "bd2f2a2e",
   "metadata": {},
   "outputs": [],
   "source": []
  },
  {
   "cell_type": "markdown",
   "id": "bbeee25a",
   "metadata": {},
   "source": [
    "Formating string litteral "
   ]
  },
  {
   "cell_type": "code",
   "execution_count": 49,
   "id": "2461d56a",
   "metadata": {},
   "outputs": [],
   "source": [
    "name = \"Valdo\""
   ]
  },
  {
   "cell_type": "code",
   "execution_count": 54,
   "id": "991b922a",
   "metadata": {},
   "outputs": [
    {
     "name": "stdout",
     "output_type": "stream",
     "text": [
      "My name is Valdo\n",
      "His name is Valdo\n"
     ]
    }
   ],
   "source": [
    "print(\"My name is {}\".format(name))# using .format\n",
    "print(f\"His name is {name}\") # using formatting literal"
   ]
  },
  {
   "cell_type": "code",
   "execution_count": 55,
   "id": "ae6b3f33",
   "metadata": {},
   "outputs": [],
   "source": [
    "age = 34"
   ]
  },
  {
   "cell_type": "code",
   "execution_count": 56,
   "id": "c1851763",
   "metadata": {},
   "outputs": [
    {
     "name": "stdout",
     "output_type": "stream",
     "text": [
      "My name is Valdo and I am 34 years old. \n"
     ]
    }
   ],
   "source": [
    "print(f\"My name is {name} and I am {age} years old. \")"
   ]
  },
  {
   "cell_type": "code",
   "execution_count": 71,
   "id": "81ae52a3",
   "metadata": {},
   "outputs": [
    {
     "name": "stdout",
     "output_type": "stream",
     "text": [
      "Lisa      \n",
      "Lisa______\n",
      "___Lisa___\n",
      "______Lisa\n",
      "Li\n"
     ]
    }
   ],
   "source": [
    "name = \"Lisa\"\n",
    "print(\"{:10}\".format(name))\n",
    "print(\"{:_<10}\".format(name))\n",
    "print(\"{:_^10}\".format(name))\n",
    "print(\"{:_>10}\".format(name))\n",
    "print(\"{:.2}\".format(name))"
   ]
  },
  {
   "cell_type": "code",
   "execution_count": null,
   "id": "0558e62c",
   "metadata": {},
   "outputs": [],
   "source": []
  },
  {
   "cell_type": "code",
   "execution_count": null,
   "id": "7fc09216",
   "metadata": {},
   "outputs": [],
   "source": []
  },
  {
   "cell_type": "code",
   "execution_count": null,
   "id": "5c8e02c3",
   "metadata": {},
   "outputs": [],
   "source": []
  },
  {
   "cell_type": "code",
   "execution_count": null,
   "id": "ce29e8be",
   "metadata": {},
   "outputs": [],
   "source": []
  },
  {
   "cell_type": "markdown",
   "id": "702a1a40",
   "metadata": {},
   "source": [
    "List in python \n",
    "Ordered sequence using bracket [ ] and commas to separate objects in the list\n",
    "\n",
    "Can be sliced and indexed"
   ]
  },
  {
   "cell_type": "code",
   "execution_count": 74,
   "id": "6ef6682a",
   "metadata": {},
   "outputs": [],
   "source": [
    "my_list = ['valdo', 5 , \"lisa\", 34.10] #python list can hold any data types"
   ]
  },
  {
   "cell_type": "code",
   "execution_count": 73,
   "id": "fa2c1ab7",
   "metadata": {},
   "outputs": [
    {
     "name": "stdout",
     "output_type": "stream",
     "text": [
      "['valdo', 5, 'lisa', 34.1]\n"
     ]
    }
   ],
   "source": [
    "print(my_list)"
   ]
  },
  {
   "cell_type": "code",
   "execution_count": 75,
   "id": "7a50d63d",
   "metadata": {},
   "outputs": [
    {
     "data": {
      "text/plain": [
       "4"
      ]
     },
     "execution_count": 75,
     "metadata": {},
     "output_type": "execute_result"
    }
   ],
   "source": [
    "len(my_list)"
   ]
  },
  {
   "cell_type": "markdown",
   "id": "edbf4bb5",
   "metadata": {},
   "source": [
    "slice and indexing on list much more similar to string slice and indexing"
   ]
  },
  {
   "cell_type": "code",
   "execution_count": 76,
   "id": "682b5998",
   "metadata": {},
   "outputs": [
    {
     "name": "stdout",
     "output_type": "stream",
     "text": [
      "['valdo', 5, 'lisa', 34.1]\n"
     ]
    }
   ],
   "source": [
    "print(my_list)"
   ]
  },
  {
   "cell_type": "code",
   "execution_count": 77,
   "id": "6f42376d",
   "metadata": {},
   "outputs": [
    {
     "data": {
      "text/plain": [
       "5"
      ]
     },
     "execution_count": 77,
     "metadata": {},
     "output_type": "execute_result"
    }
   ],
   "source": [
    "my_list[1]"
   ]
  },
  {
   "cell_type": "code",
   "execution_count": 78,
   "id": "73fde4bf",
   "metadata": {},
   "outputs": [
    {
     "data": {
      "text/plain": [
       "'valdo'"
      ]
     },
     "execution_count": 78,
     "metadata": {},
     "output_type": "execute_result"
    }
   ],
   "source": [
    "my_list[0]"
   ]
  },
  {
   "cell_type": "code",
   "execution_count": 80,
   "id": "4024cdac",
   "metadata": {},
   "outputs": [
    {
     "name": "stdout",
     "output_type": "stream",
     "text": [
      "valdo and lisa been living together for 5 years.\n"
     ]
    }
   ],
   "source": [
    "print(my_list[0] + \" and \" + my_list[2] + \" been {1} together for {0} years.\".format(my_list[1], \"living\"))"
   ]
  },
  {
   "cell_type": "code",
   "execution_count": 81,
   "id": "585be457",
   "metadata": {},
   "outputs": [
    {
     "data": {
      "text/plain": [
       "['valdo', 5, 'lisa', 34.1]"
      ]
     },
     "execution_count": 81,
     "metadata": {},
     "output_type": "execute_result"
    }
   ],
   "source": [
    "my_list"
   ]
  },
  {
   "cell_type": "code",
   "execution_count": 82,
   "id": "084b2e19",
   "metadata": {},
   "outputs": [
    {
     "data": {
      "text/plain": [
       "['lisa', 34.1]"
      ]
     },
     "execution_count": 82,
     "metadata": {},
     "output_type": "execute_result"
    }
   ],
   "source": [
    "my_list[2:]"
   ]
  },
  {
   "cell_type": "code",
   "execution_count": 83,
   "id": "88085586",
   "metadata": {},
   "outputs": [],
   "source": [
    "my_list[0]=\"VALDO\""
   ]
  },
  {
   "cell_type": "code",
   "execution_count": 84,
   "id": "af004008",
   "metadata": {},
   "outputs": [
    {
     "data": {
      "text/plain": [
       "['VALDO', 5, 'lisa', 34.1]"
      ]
     },
     "execution_count": 84,
     "metadata": {},
     "output_type": "execute_result"
    }
   ],
   "source": [
    "my_list"
   ]
  },
  {
   "cell_type": "code",
   "execution_count": null,
   "id": "f9a7756b",
   "metadata": {},
   "outputs": [],
   "source": []
  },
  {
   "cell_type": "markdown",
   "id": "b8fb78e9",
   "metadata": {},
   "source": [
    "Add element on the list"
   ]
  },
  {
   "cell_type": "code",
   "execution_count": 86,
   "id": "7f69cdb4",
   "metadata": {},
   "outputs": [
    {
     "data": {
      "text/plain": [
       "['VALDO', 5, 'lisa', 34.1]"
      ]
     },
     "execution_count": 86,
     "metadata": {},
     "output_type": "execute_result"
    }
   ],
   "source": [
    "my_list"
   ]
  },
  {
   "cell_type": "code",
   "execution_count": 94,
   "id": "ebf78187",
   "metadata": {},
   "outputs": [],
   "source": [
    "my_list.append(\"Cambridge\") #add another element at the very end of the list"
   ]
  },
  {
   "cell_type": "code",
   "execution_count": 95,
   "id": "71e54bd0",
   "metadata": {},
   "outputs": [
    {
     "data": {
      "text/plain": [
       "['VALDO', 5, 'lisa', 34.1, 'Cambridge']"
      ]
     },
     "execution_count": 95,
     "metadata": {},
     "output_type": "execute_result"
    }
   ],
   "source": [
    "my_list"
   ]
  },
  {
   "cell_type": "code",
   "execution_count": 96,
   "id": "88ad4f55",
   "metadata": {},
   "outputs": [],
   "source": [
    "my_list.append(29)"
   ]
  },
  {
   "cell_type": "code",
   "execution_count": 90,
   "id": "d4a11260",
   "metadata": {},
   "outputs": [
    {
     "data": {
      "text/plain": [
       "['VALDO', 5, 'lisa', 34.1, 'Cambridge', 29]"
      ]
     },
     "execution_count": 90,
     "metadata": {},
     "output_type": "execute_result"
    }
   ],
   "source": [
    "my_list"
   ]
  },
  {
   "cell_type": "code",
   "execution_count": null,
   "id": "5b930143",
   "metadata": {},
   "outputs": [],
   "source": []
  },
  {
   "cell_type": "code",
   "execution_count": null,
   "id": "5691bd4e",
   "metadata": {},
   "outputs": [],
   "source": []
  },
  {
   "cell_type": "markdown",
   "id": "99456e54",
   "metadata": {},
   "source": [
    "remove element from the list "
   ]
  },
  {
   "cell_type": "code",
   "execution_count": 97,
   "id": "eb2931fc",
   "metadata": {},
   "outputs": [
    {
     "data": {
      "text/plain": [
       "29"
      ]
     },
     "execution_count": 97,
     "metadata": {},
     "output_type": "execute_result"
    }
   ],
   "source": [
    "my_list.pop() #remove last element in this case integer 29"
   ]
  },
  {
   "cell_type": "code",
   "execution_count": 98,
   "id": "d95d01dd",
   "metadata": {},
   "outputs": [
    {
     "data": {
      "text/plain": [
       "['VALDO', 5, 'lisa', 34.1, 'Cambridge']"
      ]
     },
     "execution_count": 98,
     "metadata": {},
     "output_type": "execute_result"
    }
   ],
   "source": [
    "my_list"
   ]
  },
  {
   "cell_type": "code",
   "execution_count": 101,
   "id": "270127bf",
   "metadata": {},
   "outputs": [
    {
     "data": {
      "text/plain": [
       "34.1"
      ]
     },
     "execution_count": 101,
     "metadata": {},
     "output_type": "execute_result"
    }
   ],
   "source": [
    "my_list.pop(3) #remove element using index in this case the third index position"
   ]
  },
  {
   "cell_type": "code",
   "execution_count": 102,
   "id": "82a53c08",
   "metadata": {},
   "outputs": [
    {
     "data": {
      "text/plain": [
       "['VALDO', 5, 'lisa', 'Cambridge']"
      ]
     },
     "execution_count": 102,
     "metadata": {},
     "output_type": "execute_result"
    }
   ],
   "source": [
    "my_list"
   ]
  },
  {
   "cell_type": "code",
   "execution_count": 103,
   "id": "26bc2c5d",
   "metadata": {},
   "outputs": [],
   "source": [
    "new_list = my_list.pop()"
   ]
  },
  {
   "cell_type": "code",
   "execution_count": 104,
   "id": "71c05409",
   "metadata": {},
   "outputs": [
    {
     "data": {
      "text/plain": [
       "'Cambridge'"
      ]
     },
     "execution_count": 104,
     "metadata": {},
     "output_type": "execute_result"
    }
   ],
   "source": [
    "new_list"
   ]
  },
  {
   "cell_type": "code",
   "execution_count": 105,
   "id": "173de2f2",
   "metadata": {},
   "outputs": [
    {
     "data": {
      "text/plain": [
       "['VALDO', 5, 'lisa']"
      ]
     },
     "execution_count": 105,
     "metadata": {},
     "output_type": "execute_result"
    }
   ],
   "source": [
    "my_list"
   ]
  },
  {
   "cell_type": "code",
   "execution_count": 106,
   "id": "421cd181",
   "metadata": {},
   "outputs": [
    {
     "data": {
      "text/plain": [
       "'Cambridge'"
      ]
     },
     "execution_count": 106,
     "metadata": {},
     "output_type": "execute_result"
    }
   ],
   "source": [
    "new_list"
   ]
  },
  {
   "cell_type": "code",
   "execution_count": 107,
   "id": "ddb46d56",
   "metadata": {},
   "outputs": [
    {
     "data": {
      "text/plain": [
       "'Cambridge'"
      ]
     },
     "execution_count": 107,
     "metadata": {},
     "output_type": "execute_result"
    }
   ],
   "source": [
    "new_list"
   ]
  },
  {
   "cell_type": "code",
   "execution_count": 108,
   "id": "7a8c6044",
   "metadata": {},
   "outputs": [
    {
     "data": {
      "text/plain": [
       "['VALDO', 5, 'lisa']"
      ]
     },
     "execution_count": 108,
     "metadata": {},
     "output_type": "execute_result"
    }
   ],
   "source": [
    "my_list"
   ]
  },
  {
   "cell_type": "code",
   "execution_count": null,
   "id": "784b6f35",
   "metadata": {},
   "outputs": [],
   "source": []
  },
  {
   "cell_type": "code",
   "execution_count": null,
   "id": "76b3f7ee",
   "metadata": {},
   "outputs": [],
   "source": []
  },
  {
   "cell_type": "markdown",
   "id": "821cc58e",
   "metadata": {},
   "source": [
    "short list "
   ]
  },
  {
   "cell_type": "code",
   "execution_count": 109,
   "id": "9be1e1ae",
   "metadata": {},
   "outputs": [],
   "source": [
    "num_list = [2,5,1,0,12,9,23]"
   ]
  },
  {
   "cell_type": "code",
   "execution_count": 125,
   "id": "f08d32cb",
   "metadata": {},
   "outputs": [],
   "source": [
    "sort_list = [\"d\",\"y\",\"b\",\"t\"]"
   ]
  },
  {
   "cell_type": "code",
   "execution_count": 122,
   "id": "a1ecf0c2",
   "metadata": {},
   "outputs": [],
   "source": [
    "num_list.sort()\n",
    "new_sorted_list = num_list"
   ]
  },
  {
   "cell_type": "code",
   "execution_count": 123,
   "id": "fef89571",
   "metadata": {},
   "outputs": [
    {
     "data": {
      "text/plain": [
       "[0, 1, 2, 5, 9, 12, 23]"
      ]
     },
     "execution_count": 123,
     "metadata": {},
     "output_type": "execute_result"
    }
   ],
   "source": [
    "new_sorted_list"
   ]
  },
  {
   "cell_type": "code",
   "execution_count": 126,
   "id": "8817b99c",
   "metadata": {},
   "outputs": [],
   "source": [
    "sort_list.sort()"
   ]
  },
  {
   "cell_type": "code",
   "execution_count": 127,
   "id": "87f1829b",
   "metadata": {},
   "outputs": [
    {
     "data": {
      "text/plain": [
       "['b', 'd', 't', 'y']"
      ]
     },
     "execution_count": 127,
     "metadata": {},
     "output_type": "execute_result"
    }
   ],
   "source": [
    "sort_list"
   ]
  },
  {
   "cell_type": "code",
   "execution_count": null,
   "id": "5bba48d0",
   "metadata": {},
   "outputs": [],
   "source": []
  },
  {
   "cell_type": "code",
   "execution_count": null,
   "id": "cff532c7",
   "metadata": {},
   "outputs": [],
   "source": []
  },
  {
   "cell_type": "markdown",
   "id": "f829ee8b",
   "metadata": {},
   "source": [
    "reverse list "
   ]
  },
  {
   "cell_type": "code",
   "execution_count": 128,
   "id": "5bc78002",
   "metadata": {},
   "outputs": [
    {
     "data": {
      "text/plain": [
       "[0, 1, 2, 5, 9, 12, 23]"
      ]
     },
     "execution_count": 128,
     "metadata": {},
     "output_type": "execute_result"
    }
   ],
   "source": [
    "new_sorted_list"
   ]
  },
  {
   "cell_type": "code",
   "execution_count": 139,
   "id": "45147fd6",
   "metadata": {},
   "outputs": [],
   "source": [
    "new_sorted_list.reverse()"
   ]
  },
  {
   "cell_type": "code",
   "execution_count": 140,
   "id": "505744d1",
   "metadata": {},
   "outputs": [
    {
     "data": {
      "text/plain": [
       "[23, 12, 9, 5, 2, 1, 0]"
      ]
     },
     "execution_count": 140,
     "metadata": {},
     "output_type": "execute_result"
    }
   ],
   "source": [
    "new_sorted_list"
   ]
  },
  {
   "cell_type": "code",
   "execution_count": null,
   "id": "35f58a00",
   "metadata": {},
   "outputs": [],
   "source": []
  },
  {
   "cell_type": "code",
   "execution_count": null,
   "id": "4922100e",
   "metadata": {},
   "outputs": [],
   "source": []
  },
  {
   "cell_type": "markdown",
   "id": "8f680a9e",
   "metadata": {},
   "source": [
    "Nested list or list inside a list"
   ]
  },
  {
   "cell_type": "code",
   "execution_count": 143,
   "id": "1cb739d4",
   "metadata": {},
   "outputs": [],
   "source": [
    "nested_list = [1,1,[1,2]] # how to grab element 2 from this nested list "
   ]
  },
  {
   "cell_type": "code",
   "execution_count": 144,
   "id": "a243f3f5",
   "metadata": {},
   "outputs": [
    {
     "data": {
      "text/plain": [
       "2"
      ]
     },
     "execution_count": 144,
     "metadata": {},
     "output_type": "execute_result"
    }
   ],
   "source": [
    "nested_list[2][1] # 2 is in second index from the first list and 1st index from the second list "
   ]
  },
  {
   "cell_type": "code",
   "execution_count": null,
   "id": "4fec5be1",
   "metadata": {},
   "outputs": [],
   "source": []
  },
  {
   "cell_type": "code",
   "execution_count": null,
   "id": "2a8fff51",
   "metadata": {},
   "outputs": [],
   "source": []
  },
  {
   "cell_type": "code",
   "execution_count": null,
   "id": "6dab7079",
   "metadata": {},
   "outputs": [],
   "source": []
  },
  {
   "cell_type": "markdown",
   "id": "03dac79a",
   "metadata": {},
   "source": [
    "Create .txt file"
   ]
  },
  {
   "cell_type": "code",
   "execution_count": 93,
   "id": "decc41be",
   "metadata": {},
   "outputs": [
    {
     "name": "stderr",
     "output_type": "stream",
     "text": [
      "UsageError: unrecognized arguments: #this is to create .txt file in the same directory\n"
     ]
    }
   ],
   "source": [
    "%%writefile myfile.txt #this is to create .txt file in the same directory\n",
    "This is first file \n",
    "this is the second file \n",
    "this is the third file"
   ]
  },
  {
   "cell_type": "code",
   "execution_count": 3,
   "id": "b09afefe",
   "metadata": {},
   "outputs": [
    {
     "data": {
      "text/plain": [
       "'/Users/valdosilva/Desktop/Python Learning Exercises'"
      ]
     },
     "execution_count": 3,
     "metadata": {},
     "output_type": "execute_result"
    }
   ],
   "source": [
    "pwd"
   ]
  },
  {
   "cell_type": "markdown",
   "id": "eb05c132",
   "metadata": {},
   "source": [
    "Read file from the same directory"
   ]
  },
  {
   "cell_type": "code",
   "execution_count": 8,
   "id": "f4896e4f",
   "metadata": {},
   "outputs": [],
   "source": [
    "myfile = open(\"myfile.txt\") #open .txt file "
   ]
  },
  {
   "cell_type": "code",
   "execution_count": 11,
   "id": "f73b9d1a",
   "metadata": {},
   "outputs": [
    {
     "data": {
      "text/plain": [
       "''"
      ]
     },
     "execution_count": 11,
     "metadata": {},
     "output_type": "execute_result"
    }
   ],
   "source": [
    "myfile.read() #read txt file"
   ]
  },
  {
   "cell_type": "code",
   "execution_count": 14,
   "id": "35a9f27b",
   "metadata": {},
   "outputs": [
    {
     "data": {
      "text/plain": [
       "0"
      ]
     },
     "execution_count": 14,
     "metadata": {},
     "output_type": "execute_result"
    }
   ],
   "source": [
    "myfile.seek(0) #reset the cursor reader back to 0 to read again"
   ]
  },
  {
   "cell_type": "code",
   "execution_count": 15,
   "id": "f2b5a807",
   "metadata": {},
   "outputs": [],
   "source": [
    "content = myfile.read()"
   ]
  },
  {
   "cell_type": "code",
   "execution_count": 16,
   "id": "62eedab3",
   "metadata": {},
   "outputs": [
    {
     "data": {
      "text/plain": [
       "'This is first file \\nthis is the second file \\nthis is the third file\\n'"
      ]
     },
     "execution_count": 16,
     "metadata": {},
     "output_type": "execute_result"
    }
   ],
   "source": [
    "content"
   ]
  },
  {
   "cell_type": "code",
   "execution_count": 17,
   "id": "b1ef273b",
   "metadata": {},
   "outputs": [
    {
     "data": {
      "text/plain": [
       "0"
      ]
     },
     "execution_count": 17,
     "metadata": {},
     "output_type": "execute_result"
    }
   ],
   "source": [
    "myfile.seek(0)"
   ]
  },
  {
   "cell_type": "code",
   "execution_count": 18,
   "id": "7825076d",
   "metadata": {},
   "outputs": [
    {
     "data": {
      "text/plain": [
       "['This is first file \\n',\n",
       " 'this is the second file \\n',\n",
       " 'this is the third file\\n']"
      ]
     },
     "execution_count": 18,
     "metadata": {},
     "output_type": "execute_result"
    }
   ],
   "source": [
    "myfile.readlines() #make it as list to be able to index or slicing. "
   ]
  },
  {
   "cell_type": "code",
   "execution_count": 25,
   "id": "9c984287",
   "metadata": {},
   "outputs": [],
   "source": [
    "myfile.close()"
   ]
  },
  {
   "cell_type": "code",
   "execution_count": 20,
   "id": "52e2c0de",
   "metadata": {},
   "outputs": [
    {
     "name": "stdout",
     "output_type": "stream",
     "text": [
      "Complete Python Bootcamp.ipynb  myfile.txt\r\n",
      "README.md\r\n"
     ]
    }
   ],
   "source": []
  },
  {
   "cell_type": "markdown",
   "id": "78f5a7f5",
   "metadata": {},
   "source": [
    "open file path on different directory in jupiter notebook Ex: accessing valdo.txt file created on desktop"
   ]
  },
  {
   "cell_type": "code",
   "execution_count": 21,
   "id": "81b1957a",
   "metadata": {},
   "outputs": [],
   "source": [
    "find_path = open(\"/Users/valdosilva/Desktop/git practice/valdo.txt\") # how to find .txt file on different directory "
   ]
  },
  {
   "cell_type": "code",
   "execution_count": 22,
   "id": "113057ba",
   "metadata": {},
   "outputs": [
    {
     "data": {
      "text/plain": [
       "['this is another txt file that I want to access as well']"
      ]
     },
     "execution_count": 22,
     "metadata": {},
     "output_type": "execute_result"
    }
   ],
   "source": [
    "find_path.readlines()"
   ]
  },
  {
   "cell_type": "code",
   "execution_count": 24,
   "id": "62456fe6",
   "metadata": {},
   "outputs": [],
   "source": [
    "find_path.close()"
   ]
  },
  {
   "cell_type": "code",
   "execution_count": null,
   "id": "ac7928ed",
   "metadata": {},
   "outputs": [],
   "source": []
  },
  {
   "cell_type": "code",
   "execution_count": null,
   "id": "3017f2af",
   "metadata": {},
   "outputs": [],
   "source": []
  },
  {
   "cell_type": "markdown",
   "id": "6d909383",
   "metadata": {},
   "source": [
    "new way of open file is using with command"
   ]
  },
  {
   "cell_type": "code",
   "execution_count": 43,
   "id": "e4e11581",
   "metadata": {},
   "outputs": [],
   "source": [
    "content = open(\"myfile.txt\") #old way of open and read file "
   ]
  },
  {
   "cell_type": "code",
   "execution_count": 36,
   "id": "9eee235f",
   "metadata": {},
   "outputs": [
    {
     "data": {
      "text/plain": [
       "['This is first file \\n',\n",
       " 'this is the second file \\n',\n",
       " 'this is the third file\\n']"
      ]
     },
     "execution_count": 36,
     "metadata": {},
     "output_type": "execute_result"
    }
   ],
   "source": [
    "content.readlines() #old ways of read"
   ]
  },
  {
   "cell_type": "code",
   "execution_count": null,
   "id": "38f909c8",
   "metadata": {},
   "outputs": [],
   "source": []
  },
  {
   "cell_type": "code",
   "execution_count": 86,
   "id": "38fb61be",
   "metadata": {},
   "outputs": [],
   "source": [
    "with open(\"myfile.txt\", mode='w') as new_content:       #overwrite the file with new one.\n",
    "    content = new_content.write(\"Valdo is on fire\")"
   ]
  },
  {
   "cell_type": "code",
   "execution_count": 87,
   "id": "710eb541",
   "metadata": {},
   "outputs": [
    {
     "data": {
      "text/plain": [
       "16"
      ]
     },
     "execution_count": 87,
     "metadata": {},
     "output_type": "execute_result"
    }
   ],
   "source": [
    "content"
   ]
  },
  {
   "cell_type": "code",
   "execution_count": 106,
   "id": "717c5990",
   "metadata": {},
   "outputs": [
    {
     "name": "stdout",
     "output_type": "stream",
     "text": [
      "['first \\n', 'second \\n', 'third \\n', '\\n', 'fourth\\n', 'fifth']\n"
     ]
    }
   ],
   "source": [
    "with open(\"myfile.txt\", mode='r') as new_content: #read new file. \n",
    "    print(new_content.readlines())"
   ]
  },
  {
   "cell_type": "code",
   "execution_count": null,
   "id": "d661d06d",
   "metadata": {},
   "outputs": [],
   "source": []
  },
  {
   "cell_type": "code",
   "execution_count": 105,
   "id": "2f031aca",
   "metadata": {},
   "outputs": [],
   "source": [
    "with open(\"myfile.txt\", mode='a') as new_content: #adding new text\n",
    "    new_content.write(\"\\nfifth\")"
   ]
  },
  {
   "cell_type": "code",
   "execution_count": null,
   "id": "0932d7d6",
   "metadata": {},
   "outputs": [],
   "source": []
  },
  {
   "cell_type": "code",
   "execution_count": null,
   "id": "fe2d8ad0",
   "metadata": {},
   "outputs": [],
   "source": []
  },
  {
   "cell_type": "markdown",
   "id": "52ace1ea",
   "metadata": {},
   "source": [
    "it can be used to create a new .txt file if file name lisa.txt is not existed within the directory."
   ]
  },
  {
   "cell_type": "code",
   "execution_count": 107,
   "id": "b87c7a10",
   "metadata": {},
   "outputs": [],
   "source": [
    "with open(\"lisa.txt\",mode=\"w\") as new_file:\n",
    "    new_file.write(\"Lisa is a sort of \\nElisabeth Leatemia\")"
   ]
  },
  {
   "cell_type": "code",
   "execution_count": 109,
   "id": "27f88dd6",
   "metadata": {},
   "outputs": [
    {
     "name": "stdout",
     "output_type": "stream",
     "text": [
      "Lisa is a sort of \n",
      "Elisabeth Leatemia\n"
     ]
    }
   ],
   "source": [
    "with open(\"lisa.txt\",mode=\"r\") as new_file:\n",
    "    print(new_file.read())"
   ]
  },
  {
   "cell_type": "code",
   "execution_count": 110,
   "id": "b850c9f7",
   "metadata": {},
   "outputs": [
    {
     "data": {
      "text/plain": [
       "'/Users/valdosilva/Desktop/Python Learning Exercises'"
      ]
     },
     "execution_count": 110,
     "metadata": {},
     "output_type": "execute_result"
    }
   ],
   "source": [
    "pwd"
   ]
  },
  {
   "cell_type": "code",
   "execution_count": 111,
   "id": "39276f5e",
   "metadata": {},
   "outputs": [
    {
     "name": "stdout",
     "output_type": "stream",
     "text": [
      "Complete Python Bootcamp.ipynb  lisa.txt\r\n",
      "README.md                       myfile.txt\r\n"
     ]
    }
   ],
   "source": [
    "ls #see the file in the directory. "
   ]
  },
  {
   "cell_type": "code",
   "execution_count": null,
   "id": "b2291f10",
   "metadata": {},
   "outputs": [],
   "source": []
  },
  {
   "cell_type": "markdown",
   "id": "19c02d2f",
   "metadata": {},
   "source": [
    "Testing my knowledge."
   ]
  },
  {
   "cell_type": "code",
   "execution_count": 113,
   "id": "918a64a5",
   "metadata": {},
   "outputs": [
    {
     "name": "stdout",
     "output_type": "stream",
     "text": [
      "Complete Python Bootcamp.ipynb     lisa.txt\r\n",
      "\u001b[34mComplete-Python-3-Bootcamp-master\u001b[m\u001b[m/ myfile.txt\r\n",
      "README.md\r\n"
     ]
    }
   ],
   "source": [
    "ls"
   ]
  },
  {
   "cell_type": "code",
   "execution_count": 115,
   "id": "f7fac26c",
   "metadata": {},
   "outputs": [
    {
     "data": {
      "text/plain": [
       "2"
      ]
     },
     "execution_count": 115,
     "metadata": {},
     "output_type": "execute_result"
    }
   ],
   "source": [
    "4//2"
   ]
  },
  {
   "cell_type": "code",
   "execution_count": null,
   "id": "72bf08c9",
   "metadata": {},
   "outputs": [],
   "source": []
  },
  {
   "cell_type": "code",
   "execution_count": null,
   "id": "e4bd2d45",
   "metadata": {},
   "outputs": [],
   "source": []
  },
  {
   "cell_type": "code",
   "execution_count": null,
   "id": "9659e79d",
   "metadata": {},
   "outputs": [],
   "source": []
  },
  {
   "cell_type": "markdown",
   "id": "d12f09db",
   "metadata": {},
   "source": [
    "Python Comparisson operators"
   ]
  },
  {
   "cell_type": "code",
   "execution_count": null,
   "id": "2e6a3c59",
   "metadata": {},
   "outputs": [],
   "source": []
  },
  {
   "cell_type": "code",
   "execution_count": 116,
   "id": "b46572da",
   "metadata": {},
   "outputs": [
    {
     "data": {
      "text/plain": [
       "True"
      ]
     },
     "execution_count": 116,
     "metadata": {},
     "output_type": "execute_result"
    }
   ],
   "source": [
    "2==2"
   ]
  },
  {
   "cell_type": "code",
   "execution_count": 117,
   "id": "7ecaa373",
   "metadata": {},
   "outputs": [
    {
     "data": {
      "text/plain": [
       "False"
      ]
     },
     "execution_count": 117,
     "metadata": {},
     "output_type": "execute_result"
    }
   ],
   "source": [
    "2==1"
   ]
  },
  {
   "cell_type": "code",
   "execution_count": 118,
   "id": "3067d5d8",
   "metadata": {},
   "outputs": [
    {
     "data": {
      "text/plain": [
       "False"
      ]
     },
     "execution_count": 118,
     "metadata": {},
     "output_type": "execute_result"
    }
   ],
   "source": [
    "'valdo'=='Valdo'"
   ]
  },
  {
   "cell_type": "code",
   "execution_count": 119,
   "id": "e8532746",
   "metadata": {},
   "outputs": [
    {
     "data": {
      "text/plain": [
       "True"
      ]
     },
     "execution_count": 119,
     "metadata": {},
     "output_type": "execute_result"
    }
   ],
   "source": [
    "23 == 23.0"
   ]
  },
  {
   "cell_type": "code",
   "execution_count": 120,
   "id": "80f6439d",
   "metadata": {},
   "outputs": [
    {
     "data": {
      "text/plain": [
       "False"
      ]
     },
     "execution_count": 120,
     "metadata": {},
     "output_type": "execute_result"
    }
   ],
   "source": [
    "'2'==2"
   ]
  },
  {
   "cell_type": "code",
   "execution_count": null,
   "id": "1609a659",
   "metadata": {},
   "outputs": [],
   "source": []
  },
  {
   "cell_type": "markdown",
   "id": "c032353b",
   "metadata": {},
   "source": [
    "chain more comparison together "
   ]
  },
  {
   "cell_type": "code",
   "execution_count": 122,
   "id": "197fe506",
   "metadata": {},
   "outputs": [
    {
     "data": {
      "text/plain": [
       "False"
      ]
     },
     "execution_count": 122,
     "metadata": {},
     "output_type": "execute_result"
    }
   ],
   "source": [
    "1>3 "
   ]
  },
  {
   "cell_type": "code",
   "execution_count": 123,
   "id": "fd2766af",
   "metadata": {},
   "outputs": [
    {
     "data": {
      "text/plain": [
       "True"
      ]
     },
     "execution_count": 123,
     "metadata": {},
     "output_type": "execute_result"
    }
   ],
   "source": [
    "3<4"
   ]
  },
  {
   "cell_type": "code",
   "execution_count": 124,
   "id": "1626427e",
   "metadata": {},
   "outputs": [
    {
     "data": {
      "text/plain": [
       "False"
      ]
     },
     "execution_count": 124,
     "metadata": {},
     "output_type": "execute_result"
    }
   ],
   "source": [
    "1>3<4"
   ]
  },
  {
   "cell_type": "code",
   "execution_count": 125,
   "id": "f40751a5",
   "metadata": {},
   "outputs": [
    {
     "data": {
      "text/plain": [
       "False"
      ]
     },
     "execution_count": 125,
     "metadata": {},
     "output_type": "execute_result"
    }
   ],
   "source": [
    "1>3 and 3<4"
   ]
  },
  {
   "cell_type": "code",
   "execution_count": 126,
   "id": "9176b440",
   "metadata": {},
   "outputs": [
    {
     "data": {
      "text/plain": [
       "True"
      ]
     },
     "execution_count": 126,
     "metadata": {},
     "output_type": "execute_result"
    }
   ],
   "source": [
    "'valdo'=='valdo' and 2>1"
   ]
  },
  {
   "cell_type": "code",
   "execution_count": 127,
   "id": "8cef766f",
   "metadata": {},
   "outputs": [
    {
     "data": {
      "text/plain": [
       "True"
      ]
     },
     "execution_count": 127,
     "metadata": {},
     "output_type": "execute_result"
    }
   ],
   "source": [
    "'valdo'=='valdo' or 2>4"
   ]
  },
  {
   "cell_type": "code",
   "execution_count": 128,
   "id": "ce8f4d07",
   "metadata": {},
   "outputs": [
    {
     "data": {
      "text/plain": [
       "True"
      ]
     },
     "execution_count": 128,
     "metadata": {},
     "output_type": "execute_result"
    }
   ],
   "source": [
    "not 1==3"
   ]
  },
  {
   "cell_type": "code",
   "execution_count": 129,
   "id": "14180480",
   "metadata": {},
   "outputs": [
    {
     "data": {
      "text/plain": [
       "False"
      ]
     },
     "execution_count": 129,
     "metadata": {},
     "output_type": "execute_result"
    }
   ],
   "source": [
    "not 1==1"
   ]
  },
  {
   "cell_type": "code",
   "execution_count": null,
   "id": "188f40a3",
   "metadata": {},
   "outputs": [],
   "source": []
  },
  {
   "cell_type": "markdown",
   "id": "06a8f900",
   "metadata": {},
   "source": [
    "if elif and else"
   ]
  },
  {
   "cell_type": "code",
   "execution_count": 135,
   "id": "810b49b2",
   "metadata": {},
   "outputs": [
    {
     "name": "stdout",
     "output_type": "stream",
     "text": [
      "is true\n"
     ]
    }
   ],
   "source": [
    "if 3>2:\n",
    "    print('is true')\n",
    "else:\n",
    "    print('not true')"
   ]
  },
  {
   "cell_type": "code",
   "execution_count": 141,
   "id": "f5a20dd6",
   "metadata": {},
   "outputs": [
    {
     "name": "stdout",
     "output_type": "stream",
     "text": [
      "Feed me\n"
     ]
    }
   ],
   "source": [
    "hungry = True\n",
    "if hungry:\n",
    "    print('Feed me')\n",
    "else:\n",
    "    print(\"I'am not hungry\")"
   ]
  },
  {
   "cell_type": "code",
   "execution_count": 143,
   "id": "328ca566",
   "metadata": {},
   "outputs": [
    {
     "name": "stdout",
     "output_type": "stream",
     "text": [
      "car is cool\n"
     ]
    }
   ],
   "source": [
    "loc = 'bank'\n",
    "if loc == \"bank\":\n",
    "    print(\"car is cool\")\n",
    "else:\n",
    "    print(\"I need to find cars\")"
   ]
  },
  {
   "cell_type": "code",
   "execution_count": null,
   "id": "3447474a",
   "metadata": {},
   "outputs": [],
   "source": []
  },
  {
   "cell_type": "code",
   "execution_count": null,
   "id": "fbe91b8c",
   "metadata": {},
   "outputs": [],
   "source": []
  },
  {
   "cell_type": "markdown",
   "id": "beddc798",
   "metadata": {},
   "source": [
    "For loops in Python iterate list"
   ]
  },
  {
   "cell_type": "code",
   "execution_count": null,
   "id": "e9179623",
   "metadata": {},
   "outputs": [],
   "source": []
  },
  {
   "cell_type": "code",
   "execution_count": 149,
   "id": "d5c3b2e3",
   "metadata": {},
   "outputs": [
    {
     "name": "stdout",
     "output_type": "stream",
     "text": [
      "1\n",
      "2\n",
      "3\n"
     ]
    }
   ],
   "source": [
    "item = [1,2,3]\n",
    "for new_item in item:\n",
    "    print(new_item)"
   ]
  },
  {
   "cell_type": "code",
   "execution_count": 150,
   "id": "882062b3",
   "metadata": {},
   "outputs": [],
   "source": [
    "my_list = [1,2,3,4,5,6,7,8,9,10]"
   ]
  },
  {
   "cell_type": "code",
   "execution_count": 154,
   "id": "33cf5e28",
   "metadata": {},
   "outputs": [
    {
     "name": "stdout",
     "output_type": "stream",
     "text": [
      "1\n",
      "2\n",
      "3\n",
      "4\n",
      "5\n",
      "6\n",
      "7\n",
      "8\n",
      "9\n",
      "10\n"
     ]
    }
   ],
   "source": [
    "for item in my_list:\n",
    "    print(item)"
   ]
  },
  {
   "cell_type": "code",
   "execution_count": 161,
   "id": "684dc714",
   "metadata": {},
   "outputs": [
    {
     "name": "stdout",
     "output_type": "stream",
     "text": [
      "This is an odd number 1\n",
      "2\n",
      "This is an odd number 3\n",
      "4\n",
      "This is an odd number 5\n",
      "6\n",
      "This is an odd number 7\n",
      "8\n",
      "This is an odd number 9\n",
      "10\n"
     ]
    }
   ],
   "source": [
    "for num in my_list:\n",
    "    if num % 2 == 0:\n",
    "        print(num)\n",
    "    else:\n",
    "        print('This is an odd number {}'.format(num))"
   ]
  },
  {
   "cell_type": "code",
   "execution_count": null,
   "id": "29c108c3",
   "metadata": {},
   "outputs": [],
   "source": []
  },
  {
   "cell_type": "code",
   "execution_count": 164,
   "id": "60fed44e",
   "metadata": {},
   "outputs": [
    {
     "name": "stdout",
     "output_type": "stream",
     "text": [
      "55\n"
     ]
    }
   ],
   "source": [
    "my_list = [1,2,3,4,5,6,7,8,9,10]\n",
    "list_sum = 0\n",
    "for num in my_list:\n",
    "    list_sum = num + list_sum\n",
    "print(list_sum)"
   ]
  },
  {
   "cell_type": "code",
   "execution_count": null,
   "id": "4065d25a",
   "metadata": {},
   "outputs": [],
   "source": []
  },
  {
   "cell_type": "markdown",
   "id": "fff81521",
   "metadata": {},
   "source": [
    "Iterate string using for loop"
   ]
  },
  {
   "cell_type": "code",
   "execution_count": 168,
   "id": "966b5317",
   "metadata": {},
   "outputs": [
    {
     "name": "stdout",
     "output_type": "stream",
     "text": [
      "lisa\n",
      "lisa\n",
      "lisa\n",
      "lisa\n",
      "lisa\n",
      "lisa\n",
      "lisa\n",
      "lisa\n",
      "lisa\n",
      "lisa\n",
      "lisa\n",
      "lisa\n"
     ]
    }
   ],
   "source": [
    "my_string = \"Hello World!\"\n",
    "for _ in my_string:\n",
    "    print(\"lisa\")"
   ]
  },
  {
   "cell_type": "code",
   "execution_count": null,
   "id": "916cfb42",
   "metadata": {},
   "outputs": [],
   "source": []
  },
  {
   "cell_type": "markdown",
   "id": "e463c8e7",
   "metadata": {},
   "source": [
    "pig latin\n",
    "Igpay Atinlay"
   ]
  },
  {
   "cell_type": "code",
   "execution_count": null,
   "id": "001e895c",
   "metadata": {},
   "outputs": [],
   "source": []
  },
  {
   "cell_type": "code",
   "execution_count": 198,
   "id": "361e142c",
   "metadata": {},
   "outputs": [
    {
     "name": "stdout",
     "output_type": "stream",
     "text": [
      "Enter word to be change to pig latin: valdo silva\n",
      "You have entered: valdo silva\n",
      "['valdo', 'silva']\n",
      "Your pig latin word is: aldo silva['valdo', 'silva']ay\n",
      "Your pig latin word is: aldo silva['valdo', 'silva']ay\n"
     ]
    }
   ],
   "source": [
    "ay = \"ay\"\n",
    "wovel= ['A','E','I','O','U']\n",
    "pig_latin = input(\"Enter word to be change to pig latin: \")\n",
    "print(f\"You have entered: {pig_latin}\")\n",
    "\n",
    "change_string = str(pig_latin)\n",
    "a = change_string[1:length_string]\n",
    "length_string = len(change_string)\n",
    "change_string = list(change_string.split(\" \"))\n",
    "print(change_string)\n",
    "for e in change_string:\n",
    "    if e[0] != wovel:\n",
    "        print(f'Your pig latin word is: {a}'+str(change_string)+ay)\n",
    "    else:\n",
    "        print(f'I do not know the word: {pig_latin} is')\n",
    "\n"
   ]
  },
  {
   "cell_type": "markdown",
   "id": "50a10561",
   "metadata": {},
   "source": [
    "if change_string != wovel:\n",
    "    print(f'Your pig latin word is: {a}'+change_string+ay)\n",
    "else:\n",
    "    print(f'I do not know the word: {pig_latin} is')"
   ]
  },
  {
   "cell_type": "code",
   "execution_count": 193,
   "id": "271987b1",
   "metadata": {},
   "outputs": [
    {
     "name": "stdout",
     "output_type": "stream",
     "text": [
      "['valdo', 'silva']\n"
     ]
    },
    {
     "data": {
      "text/plain": [
       "list"
      ]
     },
     "execution_count": 193,
     "metadata": {},
     "output_type": "execute_result"
    }
   ],
   "source": [
    "a = 'valdo silva'\n",
    "a = list(a.split(\" \"))\n",
    "print(a)\n",
    "type(a)"
   ]
  },
  {
   "cell_type": "code",
   "execution_count": null,
   "id": "809d328a",
   "metadata": {},
   "outputs": [],
   "source": []
  },
  {
   "cell_type": "code",
   "execution_count": null,
   "id": "75b8a60c",
   "metadata": {},
   "outputs": [],
   "source": []
  },
  {
   "cell_type": "markdown",
   "id": "132e99e7",
   "metadata": {},
   "source": [
    "Tuple unpacking"
   ]
  },
  {
   "cell_type": "code",
   "execution_count": 205,
   "id": "c25a4f0a",
   "metadata": {},
   "outputs": [
    {
     "name": "stdout",
     "output_type": "stream",
     "text": [
      "1\n",
      "2\n",
      "3\n",
      "4\n",
      "5\n",
      "6\n",
      "7\n",
      "8\n",
      "9\n",
      "The length is:3\n"
     ]
    }
   ],
   "source": [
    "mylist = [(1,2,3),(4,5,6),(7,8,9)] \n",
    "for (a,b,c) in mylist:#tuple unpacking method.\n",
    "    print(a)\n",
    "    print(b)\n",
    "    print(c)\n",
    "print(f'The length is:{len(mylist)}')"
   ]
  },
  {
   "cell_type": "code",
   "execution_count": 206,
   "id": "371984ec",
   "metadata": {},
   "outputs": [
    {
     "name": "stdout",
     "output_type": "stream",
     "text": [
      "(1, 2, 3)\n",
      "(4, 5, 6)\n",
      "(7, 8, 9)\n"
     ]
    }
   ],
   "source": [
    "for item in mylist:\n",
    "    print(item) #this is tuple"
   ]
  },
  {
   "cell_type": "code",
   "execution_count": null,
   "id": "89d47165",
   "metadata": {},
   "outputs": [],
   "source": []
  },
  {
   "cell_type": "code",
   "execution_count": null,
   "id": "a27d262c",
   "metadata": {},
   "outputs": [],
   "source": []
  },
  {
   "cell_type": "code",
   "execution_count": null,
   "id": "f5ee1cd2",
   "metadata": {},
   "outputs": [],
   "source": []
  },
  {
   "cell_type": "code",
   "execution_count": null,
   "id": "2f275a64",
   "metadata": {},
   "outputs": [],
   "source": []
  },
  {
   "cell_type": "code",
   "execution_count": null,
   "id": "c127df80",
   "metadata": {},
   "outputs": [],
   "source": []
  },
  {
   "cell_type": "markdown",
   "id": "32c5a526",
   "metadata": {},
   "source": [
    "use iteration for loop in dictionary"
   ]
  },
  {
   "cell_type": "code",
   "execution_count": 212,
   "id": "1c2cad85",
   "metadata": {},
   "outputs": [
    {
     "name": "stdout",
     "output_type": "stream",
     "text": [
      "1\n",
      "2\n",
      "3\n"
     ]
    }
   ],
   "source": [
    "d ={'k1':1, 'k2':2, 'k3':3}\n",
    "for item in d.values():\n",
    "    print(item)"
   ]
  },
  {
   "cell_type": "code",
   "execution_count": null,
   "id": "189015bc",
   "metadata": {},
   "outputs": [],
   "source": []
  },
  {
   "cell_type": "code",
   "execution_count": null,
   "id": "787c99b9",
   "metadata": {},
   "outputs": [],
   "source": []
  },
  {
   "cell_type": "code",
   "execution_count": null,
   "id": "3e3d0cdc",
   "metadata": {},
   "outputs": [],
   "source": []
  },
  {
   "cell_type": "code",
   "execution_count": null,
   "id": "b577900e",
   "metadata": {},
   "outputs": [],
   "source": []
  },
  {
   "cell_type": "code",
   "execution_count": null,
   "id": "cca0a821",
   "metadata": {},
   "outputs": [],
   "source": []
  },
  {
   "cell_type": "markdown",
   "id": "fc28673e",
   "metadata": {},
   "source": [
    "While loop"
   ]
  },
  {
   "cell_type": "code",
   "execution_count": null,
   "id": "85556849",
   "metadata": {},
   "outputs": [],
   "source": []
  },
  {
   "cell_type": "code",
   "execution_count": 217,
   "id": "a8ab304c",
   "metadata": {},
   "outputs": [
    {
     "name": "stdout",
     "output_type": "stream",
     "text": [
      "The x is 1\n",
      "The x is 2\n",
      "The x is 3\n",
      "The x is 4\n",
      "X is not less than 5\n"
     ]
    }
   ],
   "source": [
    "x = 1\n",
    "while x<5:\n",
    "    print(f'The x is {x}')\n",
    "    x += 1\n",
    "else:\n",
    "    print('X is not less than 5')"
   ]
  },
  {
   "cell_type": "code",
   "execution_count": null,
   "id": "1787336f",
   "metadata": {},
   "outputs": [],
   "source": []
  },
  {
   "cell_type": "code",
   "execution_count": null,
   "id": "c0ca104c",
   "metadata": {},
   "outputs": [],
   "source": []
  },
  {
   "cell_type": "code",
   "execution_count": null,
   "id": "45a94bdd",
   "metadata": {},
   "outputs": [],
   "source": []
  },
  {
   "cell_type": "code",
   "execution_count": null,
   "id": "54ae8035",
   "metadata": {},
   "outputs": [],
   "source": []
  },
  {
   "cell_type": "markdown",
   "id": "b51affba",
   "metadata": {},
   "source": [
    "break, continue, pass"
   ]
  },
  {
   "cell_type": "markdown",
   "id": "b64a2c66",
   "metadata": {},
   "source": [
    "Pass"
   ]
  },
  {
   "cell_type": "code",
   "execution_count": 222,
   "id": "2069877e",
   "metadata": {},
   "outputs": [
    {
     "name": "stdout",
     "output_type": "stream",
     "text": [
      "I will be back for this code\n"
     ]
    }
   ],
   "source": [
    "\n",
    "item = [1,2,3]\n",
    "for i in item:\n",
    "    pass #used to prevent error on the output result\n",
    "print('I will be back for this code')"
   ]
  },
  {
   "cell_type": "code",
   "execution_count": null,
   "id": "c3674857",
   "metadata": {},
   "outputs": [],
   "source": []
  },
  {
   "cell_type": "code",
   "execution_count": null,
   "id": "2183ad90",
   "metadata": {},
   "outputs": [],
   "source": []
  },
  {
   "cell_type": "markdown",
   "id": "bcbb5d2a",
   "metadata": {},
   "source": [
    "continue"
   ]
  },
  {
   "cell_type": "code",
   "execution_count": 228,
   "id": "800cb92d",
   "metadata": {},
   "outputs": [
    {
     "name": "stdout",
     "output_type": "stream",
     "text": [
      "a\n",
      "l\n",
      "d\n",
      "o\n"
     ]
    }
   ],
   "source": [
    "mystring = 'valdo'\n",
    "for item in mystring:\n",
    "    if item == 'v':\n",
    "        continue\n",
    "    print(item)"
   ]
  },
  {
   "cell_type": "code",
   "execution_count": null,
   "id": "1e31563e",
   "metadata": {},
   "outputs": [],
   "source": []
  },
  {
   "cell_type": "code",
   "execution_count": null,
   "id": "eb4179ae",
   "metadata": {},
   "outputs": [],
   "source": []
  },
  {
   "cell_type": "markdown",
   "id": "633b8f30",
   "metadata": {},
   "source": [
    "Break "
   ]
  },
  {
   "cell_type": "code",
   "execution_count": null,
   "id": "0e6608f7",
   "metadata": {},
   "outputs": [],
   "source": []
  }
 ],
 "metadata": {
  "kernelspec": {
   "display_name": "Python 3",
   "language": "python",
   "name": "python3"
  },
  "language_info": {
   "codemirror_mode": {
    "name": "ipython",
    "version": 3
   },
   "file_extension": ".py",
   "mimetype": "text/x-python",
   "name": "python",
   "nbconvert_exporter": "python",
   "pygments_lexer": "ipython3",
   "version": "3.8.8"
  }
 },
 "nbformat": 4,
 "nbformat_minor": 5
}
